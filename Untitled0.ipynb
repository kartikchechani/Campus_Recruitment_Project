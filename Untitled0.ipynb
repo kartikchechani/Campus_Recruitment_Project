{
  "nbformat": 4,
  "nbformat_minor": 0,
  "metadata": {
    "colab": {
      "name": "Untitled0.ipynb",
      "provenance": [],
      "toc_visible": true,
      "authorship_tag": "ABX9TyNe9NAvg4U635Wt19NoGNmv",
      "include_colab_link": true
    },
    "kernelspec": {
      "name": "python3",
      "display_name": "Python 3"
    },
    "language_info": {
      "name": "python"
    }
  },
  "cells": [
    {
      "cell_type": "markdown",
      "metadata": {
        "id": "view-in-github",
        "colab_type": "text"
      },
      "source": [
        "<a href=\"https://colab.research.google.com/github/kartikchechani/Campus_Recruitment_Project/blob/main/Untitled0.ipynb\" target=\"_parent\"><img src=\"https://colab.research.google.com/assets/colab-badge.svg\" alt=\"Open In Colab\"/></a>"
      ]
    },
    {
      "cell_type": "markdown",
      "metadata": {
        "id": "NZ1mjbdsuuIR"
      },
      "source": [
        "# Campus Recruitment Project\n",
        "This data set consists of Placement data of students in a XYZ campus. It includes secondary and higher secondary school percentage and specialization. It also includes degree specialization, type and Work experience and salary offers to the placed students.\n",
        "\n",
        "The different columns of the data set are-\n",
        "\n",
        "sl_no- Serial Number\n",
        "gender- Gender- Male='M',Female='F'\n",
        "\n",
        "ssc_p- Secondary Education percentage- 10th Grade\n",
        "\n",
        "ssc_b- Board of Education- Central/ Others\n",
        "\n",
        "hsc_p- Higher Secondary Education percentage- 12th Grade\n",
        "\n",
        "hsc_b- Board of Education- Central/ Others hsc_s- Specialization in Higher Secondary Educationdegree_p- Degree Percentage degree_t- Under Graduation(Degree type)- Field of degree educationworkex- Work Experience etest_p- Employability test percentage ( conducted by college)specialisation- Post Graduation(MBA)- Specialization mba_p- MBA percentagestatus- Status of placement- Placed/Not placed *salary- Salary offered by corporate to candidates\n",
        "\n",
        "In this project we will use various models to predict whether the students will get placement or not and we will also try to predict their salaries using linear regression."
      ]
    },
    {
      "cell_type": "code",
      "metadata": {
        "id": "CcVALWJIvSn6"
      },
      "source": [
        "\n",
        "import numpy as np\n",
        "import pandas as pd\n",
        "import matplotlib.pyplot as plt\n",
        "import seaborn as sns\n",
        "%matplotlib inline"
      ],
      "execution_count": 1,
      "outputs": []
    },
    {
      "cell_type": "code",
      "metadata": {
        "colab": {
          "base_uri": "https://localhost:8080/"
        },
        "id": "B_M-JDaCvYK5",
        "outputId": "c8ec6e14-4d99-495c-b2cb-59fe63a9075e"
      },
      "source": [
        "\n",
        "from google.colab import drive\n",
        "drive.mount('/content/drive')"
      ],
      "execution_count": 2,
      "outputs": [
        {
          "output_type": "stream",
          "name": "stdout",
          "text": [
            "Mounted at /content/drive\n"
          ]
        }
      ]
    },
    {
      "cell_type": "code",
      "metadata": {
        "id": "cqWzeYIcw17m"
      },
      "source": [
        "data = pd.read_csv('/content/drive/My Drive/Placement_Data_Full_Class.csv')"
      ],
      "execution_count": 3,
      "outputs": []
    },
    {
      "cell_type": "code",
      "metadata": {
        "colab": {
          "base_uri": "https://localhost:8080/",
          "height": 203
        },
        "id": "q5I7D1C6xM5-",
        "outputId": "3876b79d-3dbd-4f1d-80f3-890070661443"
      },
      "source": [
        "data.head()"
      ],
      "execution_count": 4,
      "outputs": [
        {
          "output_type": "execute_result",
          "data": {
            "text/html": [
              "<div>\n",
              "<style scoped>\n",
              "    .dataframe tbody tr th:only-of-type {\n",
              "        vertical-align: middle;\n",
              "    }\n",
              "\n",
              "    .dataframe tbody tr th {\n",
              "        vertical-align: top;\n",
              "    }\n",
              "\n",
              "    .dataframe thead th {\n",
              "        text-align: right;\n",
              "    }\n",
              "</style>\n",
              "<table border=\"1\" class=\"dataframe\">\n",
              "  <thead>\n",
              "    <tr style=\"text-align: right;\">\n",
              "      <th></th>\n",
              "      <th>sl_no</th>\n",
              "      <th>gender</th>\n",
              "      <th>ssc_p</th>\n",
              "      <th>ssc_b</th>\n",
              "      <th>hsc_p</th>\n",
              "      <th>hsc_b</th>\n",
              "      <th>hsc_s</th>\n",
              "      <th>degree_p</th>\n",
              "      <th>degree_t</th>\n",
              "      <th>workex</th>\n",
              "      <th>etest_p</th>\n",
              "      <th>specialisation</th>\n",
              "      <th>mba_p</th>\n",
              "      <th>status</th>\n",
              "      <th>salary</th>\n",
              "    </tr>\n",
              "  </thead>\n",
              "  <tbody>\n",
              "    <tr>\n",
              "      <th>0</th>\n",
              "      <td>1</td>\n",
              "      <td>M</td>\n",
              "      <td>67.00</td>\n",
              "      <td>Others</td>\n",
              "      <td>91.00</td>\n",
              "      <td>Others</td>\n",
              "      <td>Commerce</td>\n",
              "      <td>58.00</td>\n",
              "      <td>Sci&amp;Tech</td>\n",
              "      <td>No</td>\n",
              "      <td>55.0</td>\n",
              "      <td>Mkt&amp;HR</td>\n",
              "      <td>58.80</td>\n",
              "      <td>Placed</td>\n",
              "      <td>270000.0</td>\n",
              "    </tr>\n",
              "    <tr>\n",
              "      <th>1</th>\n",
              "      <td>2</td>\n",
              "      <td>M</td>\n",
              "      <td>79.33</td>\n",
              "      <td>Central</td>\n",
              "      <td>78.33</td>\n",
              "      <td>Others</td>\n",
              "      <td>Science</td>\n",
              "      <td>77.48</td>\n",
              "      <td>Sci&amp;Tech</td>\n",
              "      <td>Yes</td>\n",
              "      <td>86.5</td>\n",
              "      <td>Mkt&amp;Fin</td>\n",
              "      <td>66.28</td>\n",
              "      <td>Placed</td>\n",
              "      <td>200000.0</td>\n",
              "    </tr>\n",
              "    <tr>\n",
              "      <th>2</th>\n",
              "      <td>3</td>\n",
              "      <td>M</td>\n",
              "      <td>65.00</td>\n",
              "      <td>Central</td>\n",
              "      <td>68.00</td>\n",
              "      <td>Central</td>\n",
              "      <td>Arts</td>\n",
              "      <td>64.00</td>\n",
              "      <td>Comm&amp;Mgmt</td>\n",
              "      <td>No</td>\n",
              "      <td>75.0</td>\n",
              "      <td>Mkt&amp;Fin</td>\n",
              "      <td>57.80</td>\n",
              "      <td>Placed</td>\n",
              "      <td>250000.0</td>\n",
              "    </tr>\n",
              "    <tr>\n",
              "      <th>3</th>\n",
              "      <td>4</td>\n",
              "      <td>M</td>\n",
              "      <td>56.00</td>\n",
              "      <td>Central</td>\n",
              "      <td>52.00</td>\n",
              "      <td>Central</td>\n",
              "      <td>Science</td>\n",
              "      <td>52.00</td>\n",
              "      <td>Sci&amp;Tech</td>\n",
              "      <td>No</td>\n",
              "      <td>66.0</td>\n",
              "      <td>Mkt&amp;HR</td>\n",
              "      <td>59.43</td>\n",
              "      <td>Not Placed</td>\n",
              "      <td>NaN</td>\n",
              "    </tr>\n",
              "    <tr>\n",
              "      <th>4</th>\n",
              "      <td>5</td>\n",
              "      <td>M</td>\n",
              "      <td>85.80</td>\n",
              "      <td>Central</td>\n",
              "      <td>73.60</td>\n",
              "      <td>Central</td>\n",
              "      <td>Commerce</td>\n",
              "      <td>73.30</td>\n",
              "      <td>Comm&amp;Mgmt</td>\n",
              "      <td>No</td>\n",
              "      <td>96.8</td>\n",
              "      <td>Mkt&amp;Fin</td>\n",
              "      <td>55.50</td>\n",
              "      <td>Placed</td>\n",
              "      <td>425000.0</td>\n",
              "    </tr>\n",
              "  </tbody>\n",
              "</table>\n",
              "</div>"
            ],
            "text/plain": [
              "   sl_no gender  ssc_p    ssc_b  ...  specialisation  mba_p      status    salary\n",
              "0      1      M  67.00   Others  ...          Mkt&HR  58.80      Placed  270000.0\n",
              "1      2      M  79.33  Central  ...         Mkt&Fin  66.28      Placed  200000.0\n",
              "2      3      M  65.00  Central  ...         Mkt&Fin  57.80      Placed  250000.0\n",
              "3      4      M  56.00  Central  ...          Mkt&HR  59.43  Not Placed       NaN\n",
              "4      5      M  85.80  Central  ...         Mkt&Fin  55.50      Placed  425000.0\n",
              "\n",
              "[5 rows x 15 columns]"
            ]
          },
          "metadata": {},
          "execution_count": 4
        }
      ]
    },
    {
      "cell_type": "code",
      "metadata": {
        "colab": {
          "base_uri": "https://localhost:8080/"
        },
        "id": "rJVtd63bxSe_",
        "outputId": "3da78beb-b40e-4114-974b-245669eddcc9"
      },
      "source": [
        "\n",
        "data.info()"
      ],
      "execution_count": 5,
      "outputs": [
        {
          "output_type": "stream",
          "name": "stdout",
          "text": [
            "<class 'pandas.core.frame.DataFrame'>\n",
            "RangeIndex: 215 entries, 0 to 214\n",
            "Data columns (total 15 columns):\n",
            " #   Column          Non-Null Count  Dtype  \n",
            "---  ------          --------------  -----  \n",
            " 0   sl_no           215 non-null    int64  \n",
            " 1   gender          215 non-null    object \n",
            " 2   ssc_p           215 non-null    float64\n",
            " 3   ssc_b           215 non-null    object \n",
            " 4   hsc_p           215 non-null    float64\n",
            " 5   hsc_b           215 non-null    object \n",
            " 6   hsc_s           215 non-null    object \n",
            " 7   degree_p        215 non-null    float64\n",
            " 8   degree_t        215 non-null    object \n",
            " 9   workex          215 non-null    object \n",
            " 10  etest_p         215 non-null    float64\n",
            " 11  specialisation  215 non-null    object \n",
            " 12  mba_p           215 non-null    float64\n",
            " 13  status          215 non-null    object \n",
            " 14  salary          148 non-null    float64\n",
            "dtypes: float64(6), int64(1), object(8)\n",
            "memory usage: 25.3+ KB\n"
          ]
        }
      ]
    },
    {
      "cell_type": "code",
      "metadata": {
        "colab": {
          "base_uri": "https://localhost:8080/",
          "height": 295
        },
        "id": "tSg2CJJYxUaJ",
        "outputId": "5d6afafb-852b-4b83-ff58-3a177e714bcf"
      },
      "source": [
        "data.describe()"
      ],
      "execution_count": 6,
      "outputs": [
        {
          "output_type": "execute_result",
          "data": {
            "text/html": [
              "<div>\n",
              "<style scoped>\n",
              "    .dataframe tbody tr th:only-of-type {\n",
              "        vertical-align: middle;\n",
              "    }\n",
              "\n",
              "    .dataframe tbody tr th {\n",
              "        vertical-align: top;\n",
              "    }\n",
              "\n",
              "    .dataframe thead th {\n",
              "        text-align: right;\n",
              "    }\n",
              "</style>\n",
              "<table border=\"1\" class=\"dataframe\">\n",
              "  <thead>\n",
              "    <tr style=\"text-align: right;\">\n",
              "      <th></th>\n",
              "      <th>sl_no</th>\n",
              "      <th>ssc_p</th>\n",
              "      <th>hsc_p</th>\n",
              "      <th>degree_p</th>\n",
              "      <th>etest_p</th>\n",
              "      <th>mba_p</th>\n",
              "      <th>salary</th>\n",
              "    </tr>\n",
              "  </thead>\n",
              "  <tbody>\n",
              "    <tr>\n",
              "      <th>count</th>\n",
              "      <td>215.000000</td>\n",
              "      <td>215.000000</td>\n",
              "      <td>215.000000</td>\n",
              "      <td>215.000000</td>\n",
              "      <td>215.000000</td>\n",
              "      <td>215.000000</td>\n",
              "      <td>148.000000</td>\n",
              "    </tr>\n",
              "    <tr>\n",
              "      <th>mean</th>\n",
              "      <td>108.000000</td>\n",
              "      <td>67.303395</td>\n",
              "      <td>66.333163</td>\n",
              "      <td>66.370186</td>\n",
              "      <td>72.100558</td>\n",
              "      <td>62.278186</td>\n",
              "      <td>288655.405405</td>\n",
              "    </tr>\n",
              "    <tr>\n",
              "      <th>std</th>\n",
              "      <td>62.209324</td>\n",
              "      <td>10.827205</td>\n",
              "      <td>10.897509</td>\n",
              "      <td>7.358743</td>\n",
              "      <td>13.275956</td>\n",
              "      <td>5.833385</td>\n",
              "      <td>93457.452420</td>\n",
              "    </tr>\n",
              "    <tr>\n",
              "      <th>min</th>\n",
              "      <td>1.000000</td>\n",
              "      <td>40.890000</td>\n",
              "      <td>37.000000</td>\n",
              "      <td>50.000000</td>\n",
              "      <td>50.000000</td>\n",
              "      <td>51.210000</td>\n",
              "      <td>200000.000000</td>\n",
              "    </tr>\n",
              "    <tr>\n",
              "      <th>25%</th>\n",
              "      <td>54.500000</td>\n",
              "      <td>60.600000</td>\n",
              "      <td>60.900000</td>\n",
              "      <td>61.000000</td>\n",
              "      <td>60.000000</td>\n",
              "      <td>57.945000</td>\n",
              "      <td>240000.000000</td>\n",
              "    </tr>\n",
              "    <tr>\n",
              "      <th>50%</th>\n",
              "      <td>108.000000</td>\n",
              "      <td>67.000000</td>\n",
              "      <td>65.000000</td>\n",
              "      <td>66.000000</td>\n",
              "      <td>71.000000</td>\n",
              "      <td>62.000000</td>\n",
              "      <td>265000.000000</td>\n",
              "    </tr>\n",
              "    <tr>\n",
              "      <th>75%</th>\n",
              "      <td>161.500000</td>\n",
              "      <td>75.700000</td>\n",
              "      <td>73.000000</td>\n",
              "      <td>72.000000</td>\n",
              "      <td>83.500000</td>\n",
              "      <td>66.255000</td>\n",
              "      <td>300000.000000</td>\n",
              "    </tr>\n",
              "    <tr>\n",
              "      <th>max</th>\n",
              "      <td>215.000000</td>\n",
              "      <td>89.400000</td>\n",
              "      <td>97.700000</td>\n",
              "      <td>91.000000</td>\n",
              "      <td>98.000000</td>\n",
              "      <td>77.890000</td>\n",
              "      <td>940000.000000</td>\n",
              "    </tr>\n",
              "  </tbody>\n",
              "</table>\n",
              "</div>"
            ],
            "text/plain": [
              "            sl_no       ssc_p  ...       mba_p         salary\n",
              "count  215.000000  215.000000  ...  215.000000     148.000000\n",
              "mean   108.000000   67.303395  ...   62.278186  288655.405405\n",
              "std     62.209324   10.827205  ...    5.833385   93457.452420\n",
              "min      1.000000   40.890000  ...   51.210000  200000.000000\n",
              "25%     54.500000   60.600000  ...   57.945000  240000.000000\n",
              "50%    108.000000   67.000000  ...   62.000000  265000.000000\n",
              "75%    161.500000   75.700000  ...   66.255000  300000.000000\n",
              "max    215.000000   89.400000  ...   77.890000  940000.000000\n",
              "\n",
              "[8 rows x 7 columns]"
            ]
          },
          "metadata": {},
          "execution_count": 6
        }
      ]
    },
    {
      "cell_type": "markdown",
      "metadata": {
        "id": "owkTPvZHxly0"
      },
      "source": [
        "\n",
        "As the first column just contains the serial munbers of students, we can drop it."
      ]
    },
    {
      "cell_type": "code",
      "metadata": {
        "colab": {
          "base_uri": "https://localhost:8080/",
          "height": 203
        },
        "id": "fTNFLq_fxXKX",
        "outputId": "77612edc-133e-4281-a284-fc7f79262299"
      },
      "source": [
        "data=data.drop('sl_no',axis=1)\n",
        "data.head()"
      ],
      "execution_count": 7,
      "outputs": [
        {
          "output_type": "execute_result",
          "data": {
            "text/html": [
              "<div>\n",
              "<style scoped>\n",
              "    .dataframe tbody tr th:only-of-type {\n",
              "        vertical-align: middle;\n",
              "    }\n",
              "\n",
              "    .dataframe tbody tr th {\n",
              "        vertical-align: top;\n",
              "    }\n",
              "\n",
              "    .dataframe thead th {\n",
              "        text-align: right;\n",
              "    }\n",
              "</style>\n",
              "<table border=\"1\" class=\"dataframe\">\n",
              "  <thead>\n",
              "    <tr style=\"text-align: right;\">\n",
              "      <th></th>\n",
              "      <th>gender</th>\n",
              "      <th>ssc_p</th>\n",
              "      <th>ssc_b</th>\n",
              "      <th>hsc_p</th>\n",
              "      <th>hsc_b</th>\n",
              "      <th>hsc_s</th>\n",
              "      <th>degree_p</th>\n",
              "      <th>degree_t</th>\n",
              "      <th>workex</th>\n",
              "      <th>etest_p</th>\n",
              "      <th>specialisation</th>\n",
              "      <th>mba_p</th>\n",
              "      <th>status</th>\n",
              "      <th>salary</th>\n",
              "    </tr>\n",
              "  </thead>\n",
              "  <tbody>\n",
              "    <tr>\n",
              "      <th>0</th>\n",
              "      <td>M</td>\n",
              "      <td>67.00</td>\n",
              "      <td>Others</td>\n",
              "      <td>91.00</td>\n",
              "      <td>Others</td>\n",
              "      <td>Commerce</td>\n",
              "      <td>58.00</td>\n",
              "      <td>Sci&amp;Tech</td>\n",
              "      <td>No</td>\n",
              "      <td>55.0</td>\n",
              "      <td>Mkt&amp;HR</td>\n",
              "      <td>58.80</td>\n",
              "      <td>Placed</td>\n",
              "      <td>270000.0</td>\n",
              "    </tr>\n",
              "    <tr>\n",
              "      <th>1</th>\n",
              "      <td>M</td>\n",
              "      <td>79.33</td>\n",
              "      <td>Central</td>\n",
              "      <td>78.33</td>\n",
              "      <td>Others</td>\n",
              "      <td>Science</td>\n",
              "      <td>77.48</td>\n",
              "      <td>Sci&amp;Tech</td>\n",
              "      <td>Yes</td>\n",
              "      <td>86.5</td>\n",
              "      <td>Mkt&amp;Fin</td>\n",
              "      <td>66.28</td>\n",
              "      <td>Placed</td>\n",
              "      <td>200000.0</td>\n",
              "    </tr>\n",
              "    <tr>\n",
              "      <th>2</th>\n",
              "      <td>M</td>\n",
              "      <td>65.00</td>\n",
              "      <td>Central</td>\n",
              "      <td>68.00</td>\n",
              "      <td>Central</td>\n",
              "      <td>Arts</td>\n",
              "      <td>64.00</td>\n",
              "      <td>Comm&amp;Mgmt</td>\n",
              "      <td>No</td>\n",
              "      <td>75.0</td>\n",
              "      <td>Mkt&amp;Fin</td>\n",
              "      <td>57.80</td>\n",
              "      <td>Placed</td>\n",
              "      <td>250000.0</td>\n",
              "    </tr>\n",
              "    <tr>\n",
              "      <th>3</th>\n",
              "      <td>M</td>\n",
              "      <td>56.00</td>\n",
              "      <td>Central</td>\n",
              "      <td>52.00</td>\n",
              "      <td>Central</td>\n",
              "      <td>Science</td>\n",
              "      <td>52.00</td>\n",
              "      <td>Sci&amp;Tech</td>\n",
              "      <td>No</td>\n",
              "      <td>66.0</td>\n",
              "      <td>Mkt&amp;HR</td>\n",
              "      <td>59.43</td>\n",
              "      <td>Not Placed</td>\n",
              "      <td>NaN</td>\n",
              "    </tr>\n",
              "    <tr>\n",
              "      <th>4</th>\n",
              "      <td>M</td>\n",
              "      <td>85.80</td>\n",
              "      <td>Central</td>\n",
              "      <td>73.60</td>\n",
              "      <td>Central</td>\n",
              "      <td>Commerce</td>\n",
              "      <td>73.30</td>\n",
              "      <td>Comm&amp;Mgmt</td>\n",
              "      <td>No</td>\n",
              "      <td>96.8</td>\n",
              "      <td>Mkt&amp;Fin</td>\n",
              "      <td>55.50</td>\n",
              "      <td>Placed</td>\n",
              "      <td>425000.0</td>\n",
              "    </tr>\n",
              "  </tbody>\n",
              "</table>\n",
              "</div>"
            ],
            "text/plain": [
              "  gender  ssc_p    ssc_b  hsc_p  ... specialisation  mba_p      status    salary\n",
              "0      M  67.00   Others  91.00  ...         Mkt&HR  58.80      Placed  270000.0\n",
              "1      M  79.33  Central  78.33  ...        Mkt&Fin  66.28      Placed  200000.0\n",
              "2      M  65.00  Central  68.00  ...        Mkt&Fin  57.80      Placed  250000.0\n",
              "3      M  56.00  Central  52.00  ...         Mkt&HR  59.43  Not Placed       NaN\n",
              "4      M  85.80  Central  73.60  ...        Mkt&Fin  55.50      Placed  425000.0\n",
              "\n",
              "[5 rows x 14 columns]"
            ]
          },
          "metadata": {},
          "execution_count": 7
        }
      ]
    },
    {
      "cell_type": "code",
      "metadata": {
        "colab": {
          "base_uri": "https://localhost:8080/",
          "height": 296
        },
        "id": "wv6SoVxDxpZt",
        "outputId": "36aa5f5b-6a66-4786-8578-d89912f18786"
      },
      "source": [
        "sns.countplot(hue='status',data=data,x='gender')"
      ],
      "execution_count": 8,
      "outputs": [
        {
          "output_type": "execute_result",
          "data": {
            "text/plain": [
              "<matplotlib.axes._subplots.AxesSubplot at 0x7f79090e5f50>"
            ]
          },
          "metadata": {},
          "execution_count": 8
        },
        {
          "output_type": "display_data",
          "data": {
            "image/png": "[encoded data removed]",
            "text/plain": [
              "<Figure size 432x288 with 1 Axes>"
            ]
          },
          "metadata": {
            "needs_background": "light"
          }
        }
      ]
    },
    {
      "cell_type": "code",
      "metadata": {
        "colab": {
          "base_uri": "https://localhost:8080/",
          "height": 297
        },
        "id": "3UMa58Qgxr4y",
        "outputId": "e7bc543f-d569-4bf6-dc9a-f89b0708642f"
      },
      "source": [
        "\n",
        "sns.countplot(hue='status',data=data,x='ssc_b')"
      ],
      "execution_count": 9,
      "outputs": [
        {
          "output_type": "execute_result",
          "data": {
            "text/plain": [
              "<matplotlib.axes._subplots.AxesSubplot at 0x7f790904c190>"
            ]
          },
          "metadata": {},
          "execution_count": 9
        },
        {
          "output_type": "display_data",
          "data": {
            "image/png": "[encoded data removed]",
            "text/plain": [
              "<Figure size 432x288 with 1 Axes>"
            ]
          },
          "metadata": {
            "needs_background": "light"
          }
        }
      ]
    },
    {
      "cell_type": "code",
      "metadata": {
        "colab": {
          "base_uri": "https://localhost:8080/",
          "height": 297
        },
        "id": "pY_oegmBxttU",
        "outputId": "7189b5f8-ea75-40f4-ff69-c6c21c58693a"
      },
      "source": [
        "sns.countplot(hue='status',data=data,x='hsc_b')"
      ],
      "execution_count": 10,
      "outputs": [
        {
          "output_type": "execute_result",
          "data": {
            "text/plain": [
              "<matplotlib.axes._subplots.AxesSubplot at 0x7f7908b82650>"
            ]
          },
          "metadata": {},
          "execution_count": 10
        },
        {
          "output_type": "display_data",
          "data": {
            "image/png": "[encoded data removed]",
            "text/plain": [
              "<Figure size 432x288 with 1 Axes>"
            ]
          },
          "metadata": {
            "needs_background": "light"
          }
        }
      ]
    },
    {
      "cell_type": "code",
      "metadata": {
        "colab": {
          "base_uri": "https://localhost:8080/",
          "height": 297
        },
        "id": "hOpc2LXvxvqv",
        "outputId": "d19a0d95-44b2-4db2-aea4-05d1e018aee9"
      },
      "source": [
        "\n",
        "sns.countplot(hue='status',data=data,x='hsc_s')"
      ],
      "execution_count": 11,
      "outputs": [
        {
          "output_type": "execute_result",
          "data": {
            "text/plain": [
              "<matplotlib.axes._subplots.AxesSubplot at 0x7f7908af2dd0>"
            ]
          },
          "metadata": {},
          "execution_count": 11
        },
        {
          "output_type": "display_data",
          "data": {
            "image/png": "[encoded data removed]",
            "text/plain": [
              "<Figure size 432x288 with 1 Axes>"
            ]
          },
          "metadata": {
            "needs_background": "light"
          }
        }
      ]
    },
    {
      "cell_type": "code",
      "metadata": {
        "colab": {
          "base_uri": "https://localhost:8080/",
          "height": 297
        },
        "id": "QN8dvEw1xx1W",
        "outputId": "7018d56f-c840-439b-faeb-f7b1450cf23e"
      },
      "source": [
        "sns.countplot(hue='status',data=data,x='degree_t')"
      ],
      "execution_count": 12,
      "outputs": [
        {
          "output_type": "execute_result",
          "data": {
            "text/plain": [
              "<matplotlib.axes._subplots.AxesSubplot at 0x7f7908aef750>"
            ]
          },
          "metadata": {},
          "execution_count": 12
        },
        {
          "output_type": "display_data",
          "data": {
            "image/png": "[encoded data removed]",
            "text/plain": [
              "<Figure size 432x288 with 1 Axes>"
            ]
          },
          "metadata": {
            "needs_background": "light"
          }
        }
      ]
    },
    {
      "cell_type": "code",
      "metadata": {
        "colab": {
          "base_uri": "https://localhost:8080/",
          "height": 296
        },
        "id": "ZnvZ6r-zxz4y",
        "outputId": "a0736266-4951-43b3-cdcd-f0541edeaea2"
      },
      "source": [
        "sns.countplot(hue='status',data=data,x='workex')"
      ],
      "execution_count": 13,
      "outputs": [
        {
          "output_type": "execute_result",
          "data": {
            "text/plain": [
              "<matplotlib.axes._subplots.AxesSubplot at 0x7f7908b0fad0>"
            ]
          },
          "metadata": {},
          "execution_count": 13
        },
        {
          "output_type": "display_data",
          "data": {
            "image/png": "[encoded data removed]",
            "text/plain": [
              "<Figure size 432x288 with 1 Axes>"
            ]
          },
          "metadata": {
            "needs_background": "light"
          }
        }
      ]
    },
    {
      "cell_type": "code",
      "metadata": {
        "colab": {
          "base_uri": "https://localhost:8080/",
          "height": 296
        },
        "id": "FTQMHG9ax2u2",
        "outputId": "81d7dc33-0526-443a-acf4-1178b059486f"
      },
      "source": [
        "sns.countplot(x='specialisation',data=data,hue='status')"
      ],
      "execution_count": 14,
      "outputs": [
        {
          "output_type": "execute_result",
          "data": {
            "text/plain": [
              "<matplotlib.axes._subplots.AxesSubplot at 0x7f79089d2650>"
            ]
          },
          "metadata": {},
          "execution_count": 14
        },
        {
          "output_type": "display_data",
          "data": {
            "image/png": "[encoded data removed]",
            "text/plain": [
              "<Figure size 432x288 with 1 Axes>"
            ]
          },
          "metadata": {
            "needs_background": "light"
          }
        }
      ]
    },
    {
      "cell_type": "code",
      "metadata": {
        "colab": {
          "base_uri": "https://localhost:8080/",
          "height": 296
        },
        "id": "UamyPsiax5Bl",
        "outputId": "5a59b410-fab1-4423-9765-99d9c9437923"
      },
      "source": [
        "sns.boxplot(x='status',y='ssc_p',data=data)"
      ],
      "execution_count": 15,
      "outputs": [
        {
          "output_type": "execute_result",
          "data": {
            "text/plain": [
              "<matplotlib.axes._subplots.AxesSubplot at 0x7f790888f5d0>"
            ]
          },
          "metadata": {},
          "execution_count": 15
        },
        {
          "output_type": "display_data",
          "data": {
            "image/png": "[encoded data removed]",
            "text/plain": [
              "<Figure size 432x288 with 1 Axes>"
            ]
          },
          "metadata": {
            "needs_background": "light"
          }
        }
      ]
    },
    {
      "cell_type": "code",
      "metadata": {
        "colab": {
          "base_uri": "https://localhost:8080/",
          "height": 298
        },
        "id": "fEe186akx7Qg",
        "outputId": "db60cae8-77d1-419c-8185-0331bb1e517b"
      },
      "source": [
        "sns.boxplot(x='status',y='hsc_p',data=data)"
      ],
      "execution_count": 16,
      "outputs": [
        {
          "output_type": "execute_result",
          "data": {
            "text/plain": [
              "<matplotlib.axes._subplots.AxesSubplot at 0x7f7908851390>"
            ]
          },
          "metadata": {},
          "execution_count": 16
        },
        {
          "output_type": "display_data",
          "data": {
            "image/png": "[encoded data removed]",
            "text/plain": [
              "<Figure size 432x288 with 1 Axes>"
            ]
          },
          "metadata": {
            "needs_background": "light"
          }
        }
      ]
    },
    {
      "cell_type": "code",
      "metadata": {
        "colab": {
          "base_uri": "https://localhost:8080/",
          "height": 296
        },
        "id": "zDZX6qbJx9wV",
        "outputId": "db8fdcd3-cdfd-495e-9102-7d8a33bb65c3"
      },
      "source": [
        "sns.boxplot(x='status',y='mba_p',data=data)"
      ],
      "execution_count": 17,
      "outputs": [
        {
          "output_type": "execute_result",
          "data": {
            "text/plain": [
              "<matplotlib.axes._subplots.AxesSubplot at 0x7f7908792510>"
            ]
          },
          "metadata": {},
          "execution_count": 17
        },
        {
          "output_type": "display_data",
          "data": {
            "image/png": "[encoded data removed]",
            "text/plain": [
              "<Figure size 432x288 with 1 Axes>"
            ]
          },
          "metadata": {
            "needs_background": "light"
          }
        }
      ]
    },
    {
      "cell_type": "code",
      "metadata": {
        "colab": {
          "base_uri": "https://localhost:8080/",
          "height": 299
        },
        "id": "Zms_oPq8yA3j",
        "outputId": "41f8d68f-e57c-4134-d60c-7d63f045576b"
      },
      "source": [
        "sns.boxplot(x='status',y='etest_p',data=data)\n"
      ],
      "execution_count": 18,
      "outputs": [
        {
          "output_type": "execute_result",
          "data": {
            "text/plain": [
              "<matplotlib.axes._subplots.AxesSubplot at 0x7f7908714d10>"
            ]
          },
          "metadata": {},
          "execution_count": 18
        },
        {
          "output_type": "display_data",
          "data": {
            "image/png": "[encoded data removed]",
            "text/plain": [
              "<Figure size 432x288 with 1 Axes>"
            ]
          },
          "metadata": {
            "needs_background": "light"
          }
        }
      ]
    },
    {
      "cell_type": "markdown",
      "metadata": {
        "id": "JxFMN-AMyMnj"
      },
      "source": [
        "\n",
        "These plots show that the placement depends mostly on the school and UG marks, not so much on Employment Test or MBA percentage\n",
        "\n",
        "As status contains string values, we need to get dummy variable for it and drop the original column."
      ]
    },
    {
      "cell_type": "code",
      "metadata": {
        "id": "yeKb9xAnyDkf"
      },
      "source": [
        "status_dummies=pd.get_dummies(data['status'],drop_first=True)"
      ],
      "execution_count": 19,
      "outputs": []
    },
    {
      "cell_type": "code",
      "metadata": {
        "colab": {
          "base_uri": "https://localhost:8080/",
          "height": 203
        },
        "id": "lGDZojIGyGTD",
        "outputId": "abb14e8b-89e7-4365-da52-e6e427409351"
      },
      "source": [
        "data=pd.concat([data.drop('status',axis=1),status_dummies],axis=1)\n",
        "data.head()"
      ],
      "execution_count": 20,
      "outputs": [
        {
          "output_type": "execute_result",
          "data": {
            "text/html": [
              "<div>\n",
              "<style scoped>\n",
              "    .dataframe tbody tr th:only-of-type {\n",
              "        vertical-align: middle;\n",
              "    }\n",
              "\n",
              "    .dataframe tbody tr th {\n",
              "        vertical-align: top;\n",
              "    }\n",
              "\n",
              "    .dataframe thead th {\n",
              "        text-align: right;\n",
              "    }\n",
              "</style>\n",
              "<table border=\"1\" class=\"dataframe\">\n",
              "  <thead>\n",
              "    <tr style=\"text-align: right;\">\n",
              "      <th></th>\n",
              "      <th>gender</th>\n",
              "      <th>ssc_p</th>\n",
              "      <th>ssc_b</th>\n",
              "      <th>hsc_p</th>\n",
              "      <th>hsc_b</th>\n",
              "      <th>hsc_s</th>\n",
              "      <th>degree_p</th>\n",
              "      <th>degree_t</th>\n",
              "      <th>workex</th>\n",
              "      <th>etest_p</th>\n",
              "      <th>specialisation</th>\n",
              "      <th>mba_p</th>\n",
              "      <th>salary</th>\n",
              "      <th>Placed</th>\n",
              "    </tr>\n",
              "  </thead>\n",
              "  <tbody>\n",
              "    <tr>\n",
              "      <th>0</th>\n",
              "      <td>M</td>\n",
              "      <td>67.00</td>\n",
              "      <td>Others</td>\n",
              "      <td>91.00</td>\n",
              "      <td>Others</td>\n",
              "      <td>Commerce</td>\n",
              "      <td>58.00</td>\n",
              "      <td>Sci&amp;Tech</td>\n",
              "      <td>No</td>\n",
              "      <td>55.0</td>\n",
              "      <td>Mkt&amp;HR</td>\n",
              "      <td>58.80</td>\n",
              "      <td>270000.0</td>\n",
              "      <td>1</td>\n",
              "    </tr>\n",
              "    <tr>\n",
              "      <th>1</th>\n",
              "      <td>M</td>\n",
              "      <td>79.33</td>\n",
              "      <td>Central</td>\n",
              "      <td>78.33</td>\n",
              "      <td>Others</td>\n",
              "      <td>Science</td>\n",
              "      <td>77.48</td>\n",
              "      <td>Sci&amp;Tech</td>\n",
              "      <td>Yes</td>\n",
              "      <td>86.5</td>\n",
              "      <td>Mkt&amp;Fin</td>\n",
              "      <td>66.28</td>\n",
              "      <td>200000.0</td>\n",
              "      <td>1</td>\n",
              "    </tr>\n",
              "    <tr>\n",
              "      <th>2</th>\n",
              "      <td>M</td>\n",
              "      <td>65.00</td>\n",
              "      <td>Central</td>\n",
              "      <td>68.00</td>\n",
              "      <td>Central</td>\n",
              "      <td>Arts</td>\n",
              "      <td>64.00</td>\n",
              "      <td>Comm&amp;Mgmt</td>\n",
              "      <td>No</td>\n",
              "      <td>75.0</td>\n",
              "      <td>Mkt&amp;Fin</td>\n",
              "      <td>57.80</td>\n",
              "      <td>250000.0</td>\n",
              "      <td>1</td>\n",
              "    </tr>\n",
              "    <tr>\n",
              "      <th>3</th>\n",
              "      <td>M</td>\n",
              "      <td>56.00</td>\n",
              "      <td>Central</td>\n",
              "      <td>52.00</td>\n",
              "      <td>Central</td>\n",
              "      <td>Science</td>\n",
              "      <td>52.00</td>\n",
              "      <td>Sci&amp;Tech</td>\n",
              "      <td>No</td>\n",
              "      <td>66.0</td>\n",
              "      <td>Mkt&amp;HR</td>\n",
              "      <td>59.43</td>\n",
              "      <td>NaN</td>\n",
              "      <td>0</td>\n",
              "    </tr>\n",
              "    <tr>\n",
              "      <th>4</th>\n",
              "      <td>M</td>\n",
              "      <td>85.80</td>\n",
              "      <td>Central</td>\n",
              "      <td>73.60</td>\n",
              "      <td>Central</td>\n",
              "      <td>Commerce</td>\n",
              "      <td>73.30</td>\n",
              "      <td>Comm&amp;Mgmt</td>\n",
              "      <td>No</td>\n",
              "      <td>96.8</td>\n",
              "      <td>Mkt&amp;Fin</td>\n",
              "      <td>55.50</td>\n",
              "      <td>425000.0</td>\n",
              "      <td>1</td>\n",
              "    </tr>\n",
              "  </tbody>\n",
              "</table>\n",
              "</div>"
            ],
            "text/plain": [
              "  gender  ssc_p    ssc_b  hsc_p  ... specialisation  mba_p    salary Placed\n",
              "0      M  67.00   Others  91.00  ...         Mkt&HR  58.80  270000.0      1\n",
              "1      M  79.33  Central  78.33  ...        Mkt&Fin  66.28  200000.0      1\n",
              "2      M  65.00  Central  68.00  ...        Mkt&Fin  57.80  250000.0      1\n",
              "3      M  56.00  Central  52.00  ...         Mkt&HR  59.43       NaN      0\n",
              "4      M  85.80  Central  73.60  ...        Mkt&Fin  55.50  425000.0      1\n",
              "\n",
              "[5 rows x 14 columns]"
            ]
          },
          "metadata": {},
          "execution_count": 20
        }
      ]
    },
    {
      "cell_type": "markdown",
      "metadata": {
        "id": "YLULanBqyYQk"
      },
      "source": [
        "We need to do this for all other string columns."
      ]
    },
    {
      "cell_type": "code",
      "metadata": {
        "id": "RvgjUzbPyhqj"
      },
      "source": [
        "\n",
        "dummies=pd.get_dummies(data[['gender','ssc_b','hsc_b','hsc_s','degree_t','workex','specialisation']],drop_first=True)\n",
        "data=data.drop(['gender','ssc_b','hsc_b','hsc_s','degree_t','workex','specialisation'],axis=1)\n",
        "data=pd.concat([data,dummies],axis=1)"
      ],
      "execution_count": 21,
      "outputs": []
    },
    {
      "cell_type": "code",
      "metadata": {
        "colab": {
          "base_uri": "https://localhost:8080/",
          "height": 562
        },
        "id": "cNNSw6KfylKu",
        "outputId": "3c0b5ef9-5ac4-4733-ae42-f44b1df9e1b0"
      },
      "source": [
        "data.corr()"
      ],
      "execution_count": 22,
      "outputs": [
        {
          "output_type": "execute_result",
          "data": {
            "text/html": [
              "<div>\n",
              "<style scoped>\n",
              "    .dataframe tbody tr th:only-of-type {\n",
              "        vertical-align: middle;\n",
              "    }\n",
              "\n",
              "    .dataframe tbody tr th {\n",
              "        vertical-align: top;\n",
              "    }\n",
              "\n",
              "    .dataframe thead th {\n",
              "        text-align: right;\n",
              "    }\n",
              "</style>\n",
              "<table border=\"1\" class=\"dataframe\">\n",
              "  <thead>\n",
              "    <tr style=\"text-align: right;\">\n",
              "      <th></th>\n",
              "      <th>ssc_p</th>\n",
              "      <th>hsc_p</th>\n",
              "      <th>degree_p</th>\n",
              "      <th>etest_p</th>\n",
              "      <th>mba_p</th>\n",
              "      <th>salary</th>\n",
              "      <th>Placed</th>\n",
              "      <th>gender_M</th>\n",
              "      <th>ssc_b_Others</th>\n",
              "      <th>hsc_b_Others</th>\n",
              "      <th>hsc_s_Commerce</th>\n",
              "      <th>hsc_s_Science</th>\n",
              "      <th>degree_t_Others</th>\n",
              "      <th>degree_t_Sci&amp;Tech</th>\n",
              "      <th>workex_Yes</th>\n",
              "      <th>specialisation_Mkt&amp;HR</th>\n",
              "    </tr>\n",
              "  </thead>\n",
              "  <tbody>\n",
              "    <tr>\n",
              "      <th>ssc_p</th>\n",
              "      <td>1.000000</td>\n",
              "      <td>0.511472</td>\n",
              "      <td>0.538404</td>\n",
              "      <td>0.261993</td>\n",
              "      <td>0.388478</td>\n",
              "      <td>0.035330</td>\n",
              "      <td>0.607889</td>\n",
              "      <td>-0.068969</td>\n",
              "      <td>0.116194</td>\n",
              "      <td>0.066996</td>\n",
              "      <td>-0.101323</td>\n",
              "      <td>0.189847</td>\n",
              "      <td>-0.066127</td>\n",
              "      <td>0.221235</td>\n",
              "      <td>0.175675</td>\n",
              "      <td>-0.172536</td>\n",
              "    </tr>\n",
              "    <tr>\n",
              "      <th>hsc_p</th>\n",
              "      <td>0.511472</td>\n",
              "      <td>1.000000</td>\n",
              "      <td>0.434206</td>\n",
              "      <td>0.245113</td>\n",
              "      <td>0.354823</td>\n",
              "      <td>0.076819</td>\n",
              "      <td>0.491228</td>\n",
              "      <td>-0.021334</td>\n",
              "      <td>-0.137013</td>\n",
              "      <td>-0.019548</td>\n",
              "      <td>0.258093</td>\n",
              "      <td>-0.226675</td>\n",
              "      <td>-0.131382</td>\n",
              "      <td>-0.053599</td>\n",
              "      <td>0.141025</td>\n",
              "      <td>-0.241630</td>\n",
              "    </tr>\n",
              "    <tr>\n",
              "      <th>degree_p</th>\n",
              "      <td>0.538404</td>\n",
              "      <td>0.434206</td>\n",
              "      <td>1.000000</td>\n",
              "      <td>0.224470</td>\n",
              "      <td>0.402364</td>\n",
              "      <td>-0.019272</td>\n",
              "      <td>0.479861</td>\n",
              "      <td>-0.173217</td>\n",
              "      <td>0.038070</td>\n",
              "      <td>0.067229</td>\n",
              "      <td>-0.022724</td>\n",
              "      <td>0.092006</td>\n",
              "      <td>-0.180408</td>\n",
              "      <td>0.123477</td>\n",
              "      <td>0.122648</td>\n",
              "      <td>-0.218286</td>\n",
              "    </tr>\n",
              "    <tr>\n",
              "      <th>etest_p</th>\n",
              "      <td>0.261993</td>\n",
              "      <td>0.245113</td>\n",
              "      <td>0.224470</td>\n",
              "      <td>1.000000</td>\n",
              "      <td>0.218055</td>\n",
              "      <td>0.178307</td>\n",
              "      <td>0.127639</td>\n",
              "      <td>0.084294</td>\n",
              "      <td>-0.018991</td>\n",
              "      <td>0.039108</td>\n",
              "      <td>-0.021732</td>\n",
              "      <td>0.055352</td>\n",
              "      <td>0.006907</td>\n",
              "      <td>0.009748</td>\n",
              "      <td>0.056735</td>\n",
              "      <td>-0.236315</td>\n",
              "    </tr>\n",
              "    <tr>\n",
              "      <th>mba_p</th>\n",
              "      <td>0.388478</td>\n",
              "      <td>0.354823</td>\n",
              "      <td>0.402364</td>\n",
              "      <td>0.218055</td>\n",
              "      <td>1.000000</td>\n",
              "      <td>0.175013</td>\n",
              "      <td>0.076922</td>\n",
              "      <td>-0.300531</td>\n",
              "      <td>0.083120</td>\n",
              "      <td>0.090201</td>\n",
              "      <td>-0.049415</td>\n",
              "      <td>0.048050</td>\n",
              "      <td>-0.036055</td>\n",
              "      <td>0.125009</td>\n",
              "      <td>0.168811</td>\n",
              "      <td>-0.105728</td>\n",
              "    </tr>\n",
              "    <tr>\n",
              "      <th>salary</th>\n",
              "      <td>0.035330</td>\n",
              "      <td>0.076819</td>\n",
              "      <td>-0.019272</td>\n",
              "      <td>0.178307</td>\n",
              "      <td>0.175013</td>\n",
              "      <td>1.000000</td>\n",
              "      <td>NaN</td>\n",
              "      <td>0.158912</td>\n",
              "      <td>0.005539</td>\n",
              "      <td>-0.007549</td>\n",
              "      <td>-0.014219</td>\n",
              "      <td>0.049547</td>\n",
              "      <td>-0.016573</td>\n",
              "      <td>0.172492</td>\n",
              "      <td>0.136920</td>\n",
              "      <td>-0.146576</td>\n",
              "    </tr>\n",
              "    <tr>\n",
              "      <th>Placed</th>\n",
              "      <td>0.607889</td>\n",
              "      <td>0.491228</td>\n",
              "      <td>0.479861</td>\n",
              "      <td>0.127639</td>\n",
              "      <td>0.076922</td>\n",
              "      <td>NaN</td>\n",
              "      <td>1.000000</td>\n",
              "      <td>0.090670</td>\n",
              "      <td>0.037297</td>\n",
              "      <td>0.016945</td>\n",
              "      <td>0.024414</td>\n",
              "      <td>0.007279</td>\n",
              "      <td>-0.117232</td>\n",
              "      <td>0.008688</td>\n",
              "      <td>0.276060</td>\n",
              "      <td>-0.250655</td>\n",
              "    </tr>\n",
              "    <tr>\n",
              "      <th>gender_M</th>\n",
              "      <td>-0.068969</td>\n",
              "      <td>-0.021334</td>\n",
              "      <td>-0.173217</td>\n",
              "      <td>0.084294</td>\n",
              "      <td>-0.300531</td>\n",
              "      <td>0.158912</td>\n",
              "      <td>0.090670</td>\n",
              "      <td>1.000000</td>\n",
              "      <td>0.019429</td>\n",
              "      <td>0.065945</td>\n",
              "      <td>-0.001087</td>\n",
              "      <td>0.042682</td>\n",
              "      <td>-0.093246</td>\n",
              "      <td>0.084072</td>\n",
              "      <td>0.085153</td>\n",
              "      <td>-0.106160</td>\n",
              "    </tr>\n",
              "    <tr>\n",
              "      <th>ssc_b_Others</th>\n",
              "      <td>0.116194</td>\n",
              "      <td>-0.137013</td>\n",
              "      <td>0.038070</td>\n",
              "      <td>-0.018991</td>\n",
              "      <td>0.083120</td>\n",
              "      <td>0.005539</td>\n",
              "      <td>0.037297</td>\n",
              "      <td>0.019429</td>\n",
              "      <td>1.000000</td>\n",
              "      <td>0.605883</td>\n",
              "      <td>-0.056671</td>\n",
              "      <td>0.058505</td>\n",
              "      <td>-0.002758</td>\n",
              "      <td>0.101060</td>\n",
              "      <td>-0.040744</td>\n",
              "      <td>-0.051565</td>\n",
              "    </tr>\n",
              "    <tr>\n",
              "      <th>hsc_b_Others</th>\n",
              "      <td>0.066996</td>\n",
              "      <td>-0.019548</td>\n",
              "      <td>0.067229</td>\n",
              "      <td>0.039108</td>\n",
              "      <td>0.090201</td>\n",
              "      <td>-0.007549</td>\n",
              "      <td>0.016945</td>\n",
              "      <td>0.065945</td>\n",
              "      <td>0.605883</td>\n",
              "      <td>1.000000</td>\n",
              "      <td>-0.073522</td>\n",
              "      <td>0.126446</td>\n",
              "      <td>-0.116920</td>\n",
              "      <td>0.086548</td>\n",
              "      <td>0.038357</td>\n",
              "      <td>0.002232</td>\n",
              "    </tr>\n",
              "    <tr>\n",
              "      <th>hsc_s_Commerce</th>\n",
              "      <td>-0.101323</td>\n",
              "      <td>0.258093</td>\n",
              "      <td>-0.022724</td>\n",
              "      <td>-0.021732</td>\n",
              "      <td>-0.049415</td>\n",
              "      <td>-0.014219</td>\n",
              "      <td>0.024414</td>\n",
              "      <td>-0.001087</td>\n",
              "      <td>-0.056671</td>\n",
              "      <td>-0.073522</td>\n",
              "      <td>1.000000</td>\n",
              "      <td>-0.901673</td>\n",
              "      <td>-0.202135</td>\n",
              "      <td>-0.584673</td>\n",
              "      <td>-0.056719</td>\n",
              "      <td>-0.129985</td>\n",
              "    </tr>\n",
              "    <tr>\n",
              "      <th>hsc_s_Science</th>\n",
              "      <td>0.189847</td>\n",
              "      <td>-0.226675</td>\n",
              "      <td>0.092006</td>\n",
              "      <td>0.055352</td>\n",
              "      <td>0.048050</td>\n",
              "      <td>0.049547</td>\n",
              "      <td>0.007279</td>\n",
              "      <td>0.042682</td>\n",
              "      <td>0.058505</td>\n",
              "      <td>0.126446</td>\n",
              "      <td>-0.901673</td>\n",
              "      <td>1.000000</td>\n",
              "      <td>0.057432</td>\n",
              "      <td>0.654593</td>\n",
              "      <td>0.033270</td>\n",
              "      <td>0.166639</td>\n",
              "    </tr>\n",
              "    <tr>\n",
              "      <th>degree_t_Others</th>\n",
              "      <td>-0.066127</td>\n",
              "      <td>-0.131382</td>\n",
              "      <td>-0.180408</td>\n",
              "      <td>0.006907</td>\n",
              "      <td>-0.036055</td>\n",
              "      <td>-0.016573</td>\n",
              "      <td>-0.117232</td>\n",
              "      <td>-0.093246</td>\n",
              "      <td>-0.002758</td>\n",
              "      <td>-0.116920</td>\n",
              "      <td>-0.202135</td>\n",
              "      <td>0.057432</td>\n",
              "      <td>1.000000</td>\n",
              "      <td>-0.142806</td>\n",
              "      <td>0.009507</td>\n",
              "      <td>0.090948</td>\n",
              "    </tr>\n",
              "    <tr>\n",
              "      <th>degree_t_Sci&amp;Tech</th>\n",
              "      <td>0.221235</td>\n",
              "      <td>-0.053599</td>\n",
              "      <td>0.123477</td>\n",
              "      <td>0.009748</td>\n",
              "      <td>0.125009</td>\n",
              "      <td>0.172492</td>\n",
              "      <td>0.008688</td>\n",
              "      <td>0.084072</td>\n",
              "      <td>0.101060</td>\n",
              "      <td>0.086548</td>\n",
              "      <td>-0.584673</td>\n",
              "      <td>0.654593</td>\n",
              "      <td>-0.142806</td>\n",
              "      <td>1.000000</td>\n",
              "      <td>0.102962</td>\n",
              "      <td>0.061503</td>\n",
              "    </tr>\n",
              "    <tr>\n",
              "      <th>workex_Yes</th>\n",
              "      <td>0.175675</td>\n",
              "      <td>0.141025</td>\n",
              "      <td>0.122648</td>\n",
              "      <td>0.056735</td>\n",
              "      <td>0.168811</td>\n",
              "      <td>0.136920</td>\n",
              "      <td>0.276060</td>\n",
              "      <td>0.085153</td>\n",
              "      <td>-0.040744</td>\n",
              "      <td>0.038357</td>\n",
              "      <td>-0.056719</td>\n",
              "      <td>0.033270</td>\n",
              "      <td>0.009507</td>\n",
              "      <td>0.102962</td>\n",
              "      <td>1.000000</td>\n",
              "      <td>-0.191174</td>\n",
              "    </tr>\n",
              "    <tr>\n",
              "      <th>specialisation_Mkt&amp;HR</th>\n",
              "      <td>-0.172536</td>\n",
              "      <td>-0.241630</td>\n",
              "      <td>-0.218286</td>\n",
              "      <td>-0.236315</td>\n",
              "      <td>-0.105728</td>\n",
              "      <td>-0.146576</td>\n",
              "      <td>-0.250655</td>\n",
              "      <td>-0.106160</td>\n",
              "      <td>-0.051565</td>\n",
              "      <td>0.002232</td>\n",
              "      <td>-0.129985</td>\n",
              "      <td>0.166639</td>\n",
              "      <td>0.090948</td>\n",
              "      <td>0.061503</td>\n",
              "      <td>-0.191174</td>\n",
              "      <td>1.000000</td>\n",
              "    </tr>\n",
              "  </tbody>\n",
              "</table>\n",
              "</div>"
            ],
            "text/plain": [
              "                          ssc_p     hsc_p  ...  workex_Yes  specialisation_Mkt&HR\n",
              "ssc_p                  1.000000  0.511472  ...    0.175675              -0.172536\n",
              "hsc_p                  0.511472  1.000000  ...    0.141025              -0.241630\n",
              "degree_p               0.538404  0.434206  ...    0.122648              -0.218286\n",
              "etest_p                0.261993  0.245113  ...    0.056735              -0.236315\n",
              "mba_p                  0.388478  0.354823  ...    0.168811              -0.105728\n",
              "salary                 0.035330  0.076819  ...    0.136920              -0.146576\n",
              "Placed                 0.607889  0.491228  ...    0.276060              -0.250655\n",
              "gender_M              -0.068969 -0.021334  ...    0.085153              -0.106160\n",
              "ssc_b_Others           0.116194 -0.137013  ...   -0.040744              -0.051565\n",
              "hsc_b_Others           0.066996 -0.019548  ...    0.038357               0.002232\n",
              "hsc_s_Commerce        -0.101323  0.258093  ...   -0.056719              -0.129985\n",
              "hsc_s_Science          0.189847 -0.226675  ...    0.033270               0.166639\n",
              "degree_t_Others       -0.066127 -0.131382  ...    0.009507               0.090948\n",
              "degree_t_Sci&Tech      0.221235 -0.053599  ...    0.102962               0.061503\n",
              "workex_Yes             0.175675  0.141025  ...    1.000000              -0.191174\n",
              "specialisation_Mkt&HR -0.172536 -0.241630  ...   -0.191174               1.000000\n",
              "\n",
              "[16 rows x 16 columns]"
            ]
          },
          "metadata": {},
          "execution_count": 22
        }
      ]
    },
    {
      "cell_type": "code",
      "metadata": {
        "colab": {
          "base_uri": "https://localhost:8080/",
          "height": 825
        },
        "id": "pLbDnFgEynbh",
        "outputId": "b509ff74-5205-4d76-c83f-a4c0e1b84055"
      },
      "source": [
        "\n",
        "plt.figure(figsize=(10,12))\n",
        "sns.heatmap(data.corr(),cmap='YlGn')"
      ],
      "execution_count": 23,
      "outputs": [
        {
          "output_type": "execute_result",
          "data": {
            "text/plain": [
              "<matplotlib.axes._subplots.AxesSubplot at 0x7f7908904d50>"
            ]
          },
          "metadata": {},
          "execution_count": 23
        },
        {
          "output_type": "display_data",
          "data": {
            "image/png": "[encoded data removed]",
            "text/plain": [
              "<Figure size 720x864 with 2 Axes>"
            ]
          },
          "metadata": {
            "needs_background": "light"
          }
        }
      ]
    },
    {
      "cell_type": "markdown",
      "metadata": {
        "id": "bUjzgnzXzBNA"
      },
      "source": [
        "**Data Analysis for Salary**"
      ]
    },
    {
      "cell_type": "code",
      "metadata": {
        "colab": {
          "base_uri": "https://localhost:8080/",
          "height": 400
        },
        "id": "dRiDQQVayqZj",
        "outputId": "09bdb647-612c-4d86-dd65-7f2a3c32e5be"
      },
      "source": [
        "\n",
        "sns.lmplot(x='salary',y='ssc_p',data=data)"
      ],
      "execution_count": 24,
      "outputs": [
        {
          "output_type": "execute_result",
          "data": {
            "text/plain": [
              "<seaborn.axisgrid.FacetGrid at 0x7f79005b16d0>"
            ]
          },
          "metadata": {},
          "execution_count": 24
        },
        {
          "output_type": "display_data",
          "data": {
            "image/png": "[encoded data removed]",
            "text/plain": [
              "<Figure size 360x360 with 1 Axes>"
            ]
          },
          "metadata": {
            "needs_background": "light"
          }
        }
      ]
    },
    {
      "cell_type": "code",
      "metadata": {
        "colab": {
          "base_uri": "https://localhost:8080/",
          "height": 400
        },
        "id": "uIB3ctRjyt5W",
        "outputId": "45c25125-c355-4d59-ddb3-1d6d9aa692a0"
      },
      "source": [
        "sns.lmplot(x='salary',y='hsc_p',data=data)"
      ],
      "execution_count": 25,
      "outputs": [
        {
          "output_type": "execute_result",
          "data": {
            "text/plain": [
              "<seaborn.axisgrid.FacetGrid at 0x7f790051b650>"
            ]
          },
          "metadata": {},
          "execution_count": 25
        },
        {
          "output_type": "display_data",
          "data": {
            "image/png": "[encoded data removed]",
            "text/plain": [
              "<Figure size 360x360 with 1 Axes>"
            ]
          },
          "metadata": {
            "needs_background": "light"
          }
        }
      ]
    },
    {
      "cell_type": "code",
      "metadata": {
        "colab": {
          "base_uri": "https://localhost:8080/",
          "height": 400
        },
        "id": "0MGvJj2nyxLt",
        "outputId": "d7308786-2fc9-4d01-dc9c-1bb39654a76d"
      },
      "source": [
        "\n",
        "sns.lmplot(x='salary',y='degree_p',data=data)"
      ],
      "execution_count": 26,
      "outputs": [
        {
          "output_type": "execute_result",
          "data": {
            "text/plain": [
              "<seaborn.axisgrid.FacetGrid at 0x7f790049d410>"
            ]
          },
          "metadata": {},
          "execution_count": 26
        },
        {
          "output_type": "display_data",
          "data": {
            "image/png": "[encoded data removed]",
            "text/plain": [
              "<Figure size 360x360 with 1 Axes>"
            ]
          },
          "metadata": {
            "needs_background": "light"
          }
        }
      ]
    },
    {
      "cell_type": "code",
      "metadata": {
        "colab": {
          "base_uri": "https://localhost:8080/",
          "height": 400
        },
        "id": "yfVyIdzlyzbq",
        "outputId": "7c6573f9-f0bf-44df-e594-fa6ce349c5fb"
      },
      "source": [
        "sns.lmplot(x='salary',y='etest_p',data=data)"
      ],
      "execution_count": 27,
      "outputs": [
        {
          "output_type": "execute_result",
          "data": {
            "text/plain": [
              "<seaborn.axisgrid.FacetGrid at 0x7f790899ec90>"
            ]
          },
          "metadata": {},
          "execution_count": 27
        },
        {
          "output_type": "display_data",
          "data": {
            "image/png": "[encoded data removed]",
            "text/plain": [
              "<Figure size 360x360 with 1 Axes>"
            ]
          },
          "metadata": {
            "needs_background": "light"
          }
        }
      ]
    },
    {
      "cell_type": "code",
      "metadata": {
        "colab": {
          "base_uri": "https://localhost:8080/",
          "height": 400
        },
        "id": "k7pEuFCoy1eO",
        "outputId": "6999f1a0-e914-45eb-c922-d6d3e4da738c"
      },
      "source": [
        "sns.lmplot(x='salary',y='mba_p',data=data)"
      ],
      "execution_count": 28,
      "outputs": [
        {
          "output_type": "execute_result",
          "data": {
            "text/plain": [
              "<seaborn.axisgrid.FacetGrid at 0x7f79087088d0>"
            ]
          },
          "metadata": {},
          "execution_count": 28
        },
        {
          "output_type": "display_data",
          "data": {
            "image/png": "[encoded data removed]",
            "text/plain": [
              "<Figure size 360x360 with 1 Axes>"
            ]
          },
          "metadata": {
            "needs_background": "light"
          }
        }
      ]
    },
    {
      "cell_type": "code",
      "metadata": {
        "colab": {
          "base_uri": "https://localhost:8080/",
          "height": 297
        },
        "id": "5ZkMWZN2y33K",
        "outputId": "6799b69d-dece-43d9-8c2e-9f0dc7797c8a"
      },
      "source": [
        "sns.boxplot(x='gender_M',y='salary',data=data)"
      ],
      "execution_count": 29,
      "outputs": [
        {
          "output_type": "execute_result",
          "data": {
            "text/plain": [
              "<matplotlib.axes._subplots.AxesSubplot at 0x7f7900381450>"
            ]
          },
          "metadata": {},
          "execution_count": 29
        },
        {
          "output_type": "display_data",
          "data": {
            "image/png": "[encoded data removed]",
            "text/plain": [
              "<Figure size 432x288 with 1 Axes>"
            ]
          },
          "metadata": {
            "needs_background": "light"
          }
        }
      ]
    },
    {
      "cell_type": "code",
      "metadata": {
        "colab": {
          "base_uri": "https://localhost:8080/",
          "height": 350
        },
        "id": "niv-gsxny6GL",
        "outputId": "d1e216d7-0d73-41af-b338-12c32478be95"
      },
      "source": [
        "sns.distplot(data.corr()['salary'],bins=20)"
      ],
      "execution_count": 30,
      "outputs": [
        {
          "output_type": "stream",
          "name": "stderr",
          "text": [
            "/usr/local/lib/python3.7/dist-packages/seaborn/distributions.py:2557: FutureWarning: `distplot` is a deprecated function and will be removed in a future version. Please adapt your code to use either `displot` (a figure-level function with similar flexibility) or `histplot` (an axes-level function for histograms).\n",
            "  warnings.warn(msg, FutureWarning)\n"
          ]
        },
        {
          "output_type": "execute_result",
          "data": {
            "text/plain": [
              "<matplotlib.axes._subplots.AxesSubplot at 0x7f79002b5190>"
            ]
          },
          "metadata": {},
          "execution_count": 30
        },
        {
          "output_type": "display_data",
          "data": {
            "image/png": "[encoded data removed]",
            "text/plain": [
              "<Figure size 432x288 with 1 Axes>"
            ]
          },
          "metadata": {
            "needs_background": "light"
          }
        }
      ]
    },
    {
      "cell_type": "markdown",
      "metadata": {
        "id": "4QR-vPgUzFta"
      },
      "source": [
        "\n",
        "This shows that salary doesn't really depend on any factor, still we will try to use Linear Regression to get a pattern."
      ]
    },
    {
      "cell_type": "markdown",
      "metadata": {
        "id": "frKAEcCOzJnF"
      },
      "source": [
        "\n",
        "# Making Models for Status"
      ]
    },
    {
      "cell_type": "markdown",
      "metadata": {
        "id": "MGvhTCSqzOGT"
      },
      "source": [
        "**Train Test Split**"
      ]
    },
    {
      "cell_type": "code",
      "metadata": {
        "id": "W2p7rg2vy8aO"
      },
      "source": [
        "\n",
        "X=data.drop(['Placed','salary'],axis=1)\n",
        "y=data['Placed']\n",
        "from sklearn.model_selection import train_test_split\n",
        "X_train, X_test, y_train, y_test = train_test_split(X, y, test_size=0.3, random_state=42)"
      ],
      "execution_count": 31,
      "outputs": []
    },
    {
      "cell_type": "markdown",
      "metadata": {
        "id": "narJ3lxPzikK"
      },
      "source": [
        "# Logistics Regression Model"
      ]
    },
    {
      "cell_type": "code",
      "metadata": {
        "id": "75TnizL7zejr"
      },
      "source": [
        "from sklearn.linear_model import LogisticRegression"
      ],
      "execution_count": 32,
      "outputs": []
    },
    {
      "cell_type": "code",
      "metadata": {
        "id": "mPVIP3_8zmKo"
      },
      "source": [
        "lm=LogisticRegression()"
      ],
      "execution_count": 33,
      "outputs": []
    },
    {
      "cell_type": "code",
      "metadata": {
        "colab": {
          "base_uri": "https://localhost:8080/"
        },
        "id": "XvHSSlMRzogh",
        "outputId": "e0020001-e337-4541-9ae7-9bff604b602b"
      },
      "source": [
        "\n",
        "lm.fit(X_train,y_train)"
      ],
      "execution_count": 34,
      "outputs": [
        {
          "output_type": "stream",
          "name": "stderr",
          "text": [
            "/usr/local/lib/python3.7/dist-packages/sklearn/linear_model/_logistic.py:940: ConvergenceWarning: lbfgs failed to converge (status=1):\n",
            "STOP: TOTAL NO. of ITERATIONS REACHED LIMIT.\n",
            "\n",
            "Increase the number of iterations (max_iter) or scale the data as shown in:\n",
            "    https://scikit-learn.org/stable/modules/preprocessing.html\n",
            "Please also refer to the documentation for alternative solver options:\n",
            "    https://scikit-learn.org/stable/modules/linear_model.html#logistic-regression\n",
            "  extra_warning_msg=_LOGISTIC_SOLVER_CONVERGENCE_MSG)\n"
          ]
        },
        {
          "output_type": "execute_result",
          "data": {
            "text/plain": [
              "LogisticRegression(C=1.0, class_weight=None, dual=False, fit_intercept=True,\n",
              "                   intercept_scaling=1, l1_ratio=None, max_iter=100,\n",
              "                   multi_class='auto', n_jobs=None, penalty='l2',\n",
              "                   random_state=None, solver='lbfgs', tol=0.0001, verbose=0,\n",
              "                   warm_start=False)"
            ]
          },
          "metadata": {},
          "execution_count": 34
        }
      ]
    },
    {
      "cell_type": "code",
      "metadata": {
        "colab": {
          "base_uri": "https://localhost:8080/"
        },
        "id": "bYeJrWgezqbm",
        "outputId": "a8db554b-5868-45f4-b9d7-ab3b065867e4"
      },
      "source": [
        "pred=lm.predict(X_test)\n",
        "\n",
        "from sklearn.metrics import classification_report,confusion_matrix\n",
        "print(confusion_matrix(y_test,pred))"
      ],
      "execution_count": 35,
      "outputs": [
        {
          "output_type": "stream",
          "name": "stdout",
          "text": [
            "[[15  6]\n",
            " [ 4 40]]\n"
          ]
        }
      ]
    },
    {
      "cell_type": "markdown",
      "metadata": {
        "id": "74U7sfB4z0vT"
      },
      "source": [
        "# Decision Tree Model"
      ]
    },
    {
      "cell_type": "code",
      "metadata": {
        "colab": {
          "base_uri": "https://localhost:8080/"
        },
        "id": "uxbm7zB7zxPA",
        "outputId": "65cece51-2273-4cd9-bec3-6519308bd29d"
      },
      "source": [
        "from sklearn.tree import DecisionTreeClassifier\n",
        "dtc=DecisionTreeClassifier()\n",
        "dtc.fit(X_train,y_train)"
      ],
      "execution_count": 36,
      "outputs": [
        {
          "output_type": "execute_result",
          "data": {
            "text/plain": [
              "DecisionTreeClassifier(ccp_alpha=0.0, class_weight=None, criterion='gini',\n",
              "                       max_depth=None, max_features=None, max_leaf_nodes=None,\n",
              "                       min_impurity_decrease=0.0, min_impurity_split=None,\n",
              "                       min_samples_leaf=1, min_samples_split=2,\n",
              "                       min_weight_fraction_leaf=0.0, presort='deprecated',\n",
              "                       random_state=None, splitter='best')"
            ]
          },
          "metadata": {},
          "execution_count": 36
        }
      ]
    },
    {
      "cell_type": "code",
      "metadata": {
        "colab": {
          "base_uri": "https://localhost:8080/"
        },
        "id": "bx7jzjMoz6_2",
        "outputId": "2b5e93e1-6a3c-4e62-a1ff-51b1822195b5"
      },
      "source": [
        "pred2=dtc.predict(X_test)\n",
        "print(confusion_matrix(y_test,pred2))"
      ],
      "execution_count": 37,
      "outputs": [
        {
          "output_type": "stream",
          "name": "stdout",
          "text": [
            "[[15  6]\n",
            " [ 3 41]]\n"
          ]
        }
      ]
    },
    {
      "cell_type": "code",
      "metadata": {
        "colab": {
          "base_uri": "https://localhost:8080/"
        },
        "id": "_DYl2LwU0k3E",
        "outputId": "711430dc-37dd-4628-faa6-76bad260e610"
      },
      "source": [
        "print(classification_report(y_test,pred2))"
      ],
      "execution_count": 38,
      "outputs": [
        {
          "output_type": "stream",
          "name": "stdout",
          "text": [
            "              precision    recall  f1-score   support\n",
            "\n",
            "           0       0.83      0.71      0.77        21\n",
            "           1       0.87      0.93      0.90        44\n",
            "\n",
            "    accuracy                           0.86        65\n",
            "   macro avg       0.85      0.82      0.84        65\n",
            "weighted avg       0.86      0.86      0.86        65\n",
            "\n"
          ]
        }
      ]
    },
    {
      "cell_type": "markdown",
      "metadata": {
        "id": "T-dC8xJY0q2W"
      },
      "source": [
        "# Random Forest Model"
      ]
    },
    {
      "cell_type": "code",
      "metadata": {
        "colab": {
          "base_uri": "https://localhost:8080/"
        },
        "id": "wDXd_m5m0m9t",
        "outputId": "cc9ae93e-4c49-4b69-ac73-3a809c21d4b6"
      },
      "source": [
        "from sklearn.ensemble import RandomForestClassifier\n",
        "rf=RandomForestClassifier(n_estimators=200)\n",
        "rf.fit(X_train,y_train)"
      ],
      "execution_count": 39,
      "outputs": [
        {
          "output_type": "execute_result",
          "data": {
            "text/plain": [
              "RandomForestClassifier(bootstrap=True, ccp_alpha=0.0, class_weight=None,\n",
              "                       criterion='gini', max_depth=None, max_features='auto',\n",
              "                       max_leaf_nodes=None, max_samples=None,\n",
              "                       min_impurity_decrease=0.0, min_impurity_split=None,\n",
              "                       min_samples_leaf=1, min_samples_split=2,\n",
              "                       min_weight_fraction_leaf=0.0, n_estimators=200,\n",
              "                       n_jobs=None, oob_score=False, random_state=None,\n",
              "                       verbose=0, warm_start=False)"
            ]
          },
          "metadata": {},
          "execution_count": 39
        }
      ]
    },
    {
      "cell_type": "code",
      "metadata": {
        "colab": {
          "base_uri": "https://localhost:8080/"
        },
        "id": "-1Obvdic0wNO",
        "outputId": "abb2add7-1bed-44f1-fb94-e61d357dea5c"
      },
      "source": [
        "pred3=rf.predict(X_test)\n",
        "print(confusion_matrix(y_test,pred3))"
      ],
      "execution_count": 40,
      "outputs": [
        {
          "output_type": "stream",
          "name": "stdout",
          "text": [
            "[[10 11]\n",
            " [ 2 42]]\n"
          ]
        }
      ]
    },
    {
      "cell_type": "code",
      "metadata": {
        "colab": {
          "base_uri": "https://localhost:8080/"
        },
        "id": "CQl_ADmd0z12",
        "outputId": "0a27059e-6d5c-4a2e-a284-7f37baff8794"
      },
      "source": [
        "print(classification_report(y_test,pred3))"
      ],
      "execution_count": 41,
      "outputs": [
        {
          "output_type": "stream",
          "name": "stdout",
          "text": [
            "              precision    recall  f1-score   support\n",
            "\n",
            "           0       0.83      0.48      0.61        21\n",
            "           1       0.79      0.95      0.87        44\n",
            "\n",
            "    accuracy                           0.80        65\n",
            "   macro avg       0.81      0.72      0.74        65\n",
            "weighted avg       0.81      0.80      0.78        65\n",
            "\n"
          ]
        }
      ]
    },
    {
      "cell_type": "markdown",
      "metadata": {
        "id": "lpFjH2rn05S0"
      },
      "source": [
        "# Neural Network Model\n",
        "\n",
        "Scaling the data"
      ]
    },
    {
      "cell_type": "code",
      "metadata": {
        "colab": {
          "base_uri": "https://localhost:8080/"
        },
        "id": "NhaJQ0mV01le",
        "outputId": "c7654f98-dd46-48c6-a064-5bbac79079a2"
      },
      "source": [
        "from sklearn.preprocessing import  MinMaxScaler\n",
        "scaler=MinMaxScaler()\n",
        "scaler.fit(X_train)"
      ],
      "execution_count": 42,
      "outputs": [
        {
          "output_type": "execute_result",
          "data": {
            "text/plain": [
              "MinMaxScaler(copy=True, feature_range=(0, 1))"
            ]
          },
          "metadata": {},
          "execution_count": 42
        }
      ]
    },
    {
      "cell_type": "code",
      "metadata": {
        "id": "JozpEQ8k1Bj0"
      },
      "source": [
        "X_train=scaler.transform(X_train)\n",
        "X_test=scaler.transform(X_test)"
      ],
      "execution_count": 43,
      "outputs": []
    },
    {
      "cell_type": "markdown",
      "metadata": {
        "id": "Hl9rxYvU1H3p"
      },
      "source": [
        "**Creating the model**"
      ]
    },
    {
      "cell_type": "code",
      "metadata": {
        "colab": {
          "base_uri": "https://localhost:8080/"
        },
        "id": "kFm_Gd1H1Dvf",
        "outputId": "5a4d6710-2e88-4946-b9b8-7559a3d08afc"
      },
      "source": [
        "import tensorflow as tf\n",
        "from tensorflow.keras.models import Sequential\n",
        "from tensorflow.keras.layers import Dense,Activation,Dropout\n",
        "from tensorflow.keras.callbacks import EarlyStopping\n",
        "X_train.shape"
      ],
      "execution_count": 44,
      "outputs": [
        {
          "output_type": "execute_result",
          "data": {
            "text/plain": [
              "(150, 14)"
            ]
          },
          "metadata": {},
          "execution_count": 44
        }
      ]
    },
    {
      "cell_type": "code",
      "metadata": {
        "id": "Jg-HWsaN1NxG"
      },
      "source": [
        "model=Sequential()\n",
        "#input layer\n",
        "model.add(Dense(units=14,activation='relu'))\n",
        "#hidden layer 1\n",
        "model.add(Dense(units=10,activation='relu'))\n",
        "#hidden layer 2\n",
        "model.add(Dense(units=5,activation='relu'))\n",
        "#output layer\n",
        "model.add(Dense(units=1,activation='sigmoid'))\n",
        "model.compile(optimizer='adam',loss='binary_crossentropy')\n",
        "early_stop= EarlyStopping(mode='min',verbose=1,patience=30)"
      ],
      "execution_count": 45,
      "outputs": []
    },
    {
      "cell_type": "markdown",
      "metadata": {
        "id": "6YsZwozL1XRs"
      },
      "source": [
        "**Training and Evaluating the Model**"
      ]
    },
    {
      "cell_type": "code",
      "metadata": {
        "colab": {
          "base_uri": "https://localhost:8080/"
        },
        "id": "QR3YqAJZ1Tqb",
        "outputId": "3f96b407-6f9e-430c-d8fb-95e56416cd3f"
      },
      "source": [
        "model.fit(x=X_train,y=y_train,epochs=600,verbose=1,validation_data=(X_test,y_test),callbacks=[early_stop])"
      ],
      "execution_count": 47,
      "outputs": [
        {
          "output_type": "stream",
          "name": "stdout",
          "text": [
            "Epoch 1/600\n",
            "5/5 [==============================] - 0s 14ms/step - loss: 0.3402 - val_loss: 0.6357\n",
            "Epoch 2/600\n",
            "5/5 [==============================] - 0s 6ms/step - loss: 0.3368 - val_loss: 0.6420\n",
            "Epoch 3/600\n",
            "5/5 [==============================] - 0s 7ms/step - loss: 0.3323 - val_loss: 0.6372\n",
            "Epoch 4/600\n",
            "5/5 [==============================] - 0s 7ms/step - loss: 0.3272 - val_loss: 0.6316\n",
            "Epoch 5/600\n",
            "5/5 [==============================] - 0s 6ms/step - loss: 0.3226 - val_loss: 0.6303\n",
            "Epoch 6/600\n",
            "5/5 [==============================] - 0s 7ms/step - loss: 0.3200 - val_loss: 0.6275\n",
            "Epoch 7/600\n",
            "5/5 [==============================] - 0s 8ms/step - loss: 0.3136 - val_loss: 0.6320\n",
            "Epoch 8/600\n",
            "5/5 [==============================] - 0s 7ms/step - loss: 0.3095 - val_loss: 0.6428\n",
            "Epoch 9/600\n",
            "5/5 [==============================] - 0s 7ms/step - loss: 0.3081 - val_loss: 0.6436\n",
            "Epoch 10/600\n",
            "5/5 [==============================] - 0s 6ms/step - loss: 0.3052 - val_loss: 0.6299\n",
            "Epoch 11/600\n",
            "5/5 [==============================] - 0s 7ms/step - loss: 0.2982 - val_loss: 0.6264\n",
            "Epoch 12/600\n",
            "5/5 [==============================] - 0s 7ms/step - loss: 0.2950 - val_loss: 0.6256\n",
            "Epoch 13/600\n",
            "5/5 [==============================] - 0s 7ms/step - loss: 0.2919 - val_loss: 0.6268\n",
            "Epoch 14/600\n",
            "5/5 [==============================] - 0s 7ms/step - loss: 0.2878 - val_loss: 0.6227\n",
            "Epoch 15/600\n",
            "5/5 [==============================] - 0s 6ms/step - loss: 0.2840 - val_loss: 0.6218\n",
            "Epoch 16/600\n",
            "5/5 [==============================] - 0s 7ms/step - loss: 0.2809 - val_loss: 0.6229\n",
            "Epoch 17/600\n",
            "5/5 [==============================] - 0s 8ms/step - loss: 0.2776 - val_loss: 0.6237\n",
            "Epoch 18/600\n",
            "5/5 [==============================] - 0s 7ms/step - loss: 0.2739 - val_loss: 0.6253\n",
            "Epoch 19/600\n",
            "5/5 [==============================] - 0s 7ms/step - loss: 0.2704 - val_loss: 0.6223\n",
            "Epoch 20/600\n",
            "5/5 [==============================] - 0s 8ms/step - loss: 0.2673 - val_loss: 0.6192\n",
            "Epoch 21/600\n",
            "5/5 [==============================] - 0s 8ms/step - loss: 0.2634 - val_loss: 0.6138\n",
            "Epoch 22/600\n",
            "5/5 [==============================] - 0s 7ms/step - loss: 0.2607 - val_loss: 0.6152\n",
            "Epoch 23/600\n",
            "5/5 [==============================] - 0s 8ms/step - loss: 0.2560 - val_loss: 0.6159\n",
            "Epoch 24/600\n",
            "5/5 [==============================] - 0s 7ms/step - loss: 0.2533 - val_loss: 0.6160\n",
            "Epoch 25/600\n",
            "5/5 [==============================] - 0s 8ms/step - loss: 0.2495 - val_loss: 0.6092\n",
            "Epoch 26/600\n",
            "5/5 [==============================] - 0s 7ms/step - loss: 0.2476 - val_loss: 0.6049\n",
            "Epoch 27/600\n",
            "5/5 [==============================] - 0s 9ms/step - loss: 0.2433 - val_loss: 0.6083\n",
            "Epoch 28/600\n",
            "5/5 [==============================] - 0s 7ms/step - loss: 0.2403 - val_loss: 0.6092\n",
            "Epoch 29/600\n",
            "5/5 [==============================] - 0s 7ms/step - loss: 0.2405 - val_loss: 0.6140\n",
            "Epoch 30/600\n",
            "5/5 [==============================] - 0s 7ms/step - loss: 0.2374 - val_loss: 0.5987\n",
            "Epoch 31/600\n",
            "5/5 [==============================] - 0s 7ms/step - loss: 0.2338 - val_loss: 0.5935\n",
            "Epoch 32/600\n",
            "5/5 [==============================] - 0s 6ms/step - loss: 0.2293 - val_loss: 0.5997\n",
            "Epoch 33/600\n",
            "5/5 [==============================] - 0s 6ms/step - loss: 0.2275 - val_loss: 0.6022\n",
            "Epoch 34/600\n",
            "5/5 [==============================] - 0s 7ms/step - loss: 0.2242 - val_loss: 0.5988\n",
            "Epoch 35/600\n",
            "5/5 [==============================] - 0s 7ms/step - loss: 0.2224 - val_loss: 0.6006\n",
            "Epoch 36/600\n",
            "5/5 [==============================] - 0s 9ms/step - loss: 0.2208 - val_loss: 0.5881\n",
            "Epoch 37/600\n",
            "5/5 [==============================] - 0s 8ms/step - loss: 0.2173 - val_loss: 0.5890\n",
            "Epoch 38/600\n",
            "5/5 [==============================] - 0s 8ms/step - loss: 0.2140 - val_loss: 0.5936\n",
            "Epoch 39/600\n",
            "5/5 [==============================] - 0s 9ms/step - loss: 0.2121 - val_loss: 0.6032\n",
            "Epoch 40/600\n",
            "5/5 [==============================] - 0s 8ms/step - loss: 0.2108 - val_loss: 0.5957\n",
            "Epoch 41/600\n",
            "5/5 [==============================] - 0s 7ms/step - loss: 0.2095 - val_loss: 0.5911\n",
            "Epoch 42/600\n",
            "5/5 [==============================] - 0s 6ms/step - loss: 0.2047 - val_loss: 0.5997\n",
            "Epoch 43/600\n",
            "5/5 [==============================] - 0s 7ms/step - loss: 0.2066 - val_loss: 0.6076\n",
            "Epoch 44/600\n",
            "5/5 [==============================] - 0s 6ms/step - loss: 0.2024 - val_loss: 0.5870\n",
            "Epoch 45/600\n",
            "5/5 [==============================] - 0s 6ms/step - loss: 0.1994 - val_loss: 0.5797\n",
            "Epoch 46/600\n",
            "5/5 [==============================] - 0s 7ms/step - loss: 0.2003 - val_loss: 0.5876\n",
            "Epoch 47/600\n",
            "5/5 [==============================] - 0s 6ms/step - loss: 0.1955 - val_loss: 0.5839\n",
            "Epoch 48/600\n",
            "5/5 [==============================] - 0s 7ms/step - loss: 0.1942 - val_loss: 0.5877\n",
            "Epoch 49/600\n",
            "5/5 [==============================] - 0s 7ms/step - loss: 0.1924 - val_loss: 0.5778\n",
            "Epoch 50/600\n",
            "5/5 [==============================] - 0s 8ms/step - loss: 0.1914 - val_loss: 0.5748\n",
            "Epoch 51/600\n",
            "5/5 [==============================] - 0s 7ms/step - loss: 0.1887 - val_loss: 0.5852\n",
            "Epoch 52/600\n",
            "5/5 [==============================] - 0s 7ms/step - loss: 0.1864 - val_loss: 0.5887\n",
            "Epoch 53/600\n",
            "5/5 [==============================] - 0s 6ms/step - loss: 0.1852 - val_loss: 0.5819\n",
            "Epoch 54/600\n",
            "5/5 [==============================] - 0s 7ms/step - loss: 0.1837 - val_loss: 0.5833\n",
            "Epoch 55/600\n",
            "5/5 [==============================] - 0s 7ms/step - loss: 0.1826 - val_loss: 0.5860\n",
            "Epoch 56/600\n",
            "5/5 [==============================] - 0s 8ms/step - loss: 0.1861 - val_loss: 0.5683\n",
            "Epoch 57/600\n",
            "5/5 [==============================] - 0s 7ms/step - loss: 0.1793 - val_loss: 0.5823\n",
            "Epoch 58/600\n",
            "5/5 [==============================] - 0s 6ms/step - loss: 0.1777 - val_loss: 0.5879\n",
            "Epoch 59/600\n",
            "5/5 [==============================] - 0s 6ms/step - loss: 0.1753 - val_loss: 0.5808\n",
            "Epoch 60/600\n",
            "5/5 [==============================] - 0s 7ms/step - loss: 0.1747 - val_loss: 0.5695\n",
            "Epoch 61/600\n",
            "5/5 [==============================] - 0s 7ms/step - loss: 0.1729 - val_loss: 0.5718\n",
            "Epoch 62/600\n",
            "5/5 [==============================] - 0s 6ms/step - loss: 0.1745 - val_loss: 0.5809\n",
            "Epoch 63/600\n",
            "5/5 [==============================] - 0s 7ms/step - loss: 0.1696 - val_loss: 0.5700\n",
            "Epoch 64/600\n",
            "5/5 [==============================] - 0s 7ms/step - loss: 0.1688 - val_loss: 0.5679\n",
            "Epoch 65/600\n",
            "5/5 [==============================] - 0s 7ms/step - loss: 0.1679 - val_loss: 0.5654\n",
            "Epoch 66/600\n",
            "5/5 [==============================] - 0s 7ms/step - loss: 0.1663 - val_loss: 0.5653\n",
            "Epoch 67/600\n",
            "5/5 [==============================] - 0s 8ms/step - loss: 0.1652 - val_loss: 0.5679\n",
            "Epoch 68/600\n",
            "5/5 [==============================] - 0s 7ms/step - loss: 0.1631 - val_loss: 0.5703\n",
            "Epoch 69/600\n",
            "5/5 [==============================] - 0s 7ms/step - loss: 0.1625 - val_loss: 0.5682\n",
            "Epoch 70/600\n",
            "5/5 [==============================] - 0s 7ms/step - loss: 0.1608 - val_loss: 0.5720\n",
            "Epoch 71/600\n",
            "5/5 [==============================] - 0s 8ms/step - loss: 0.1608 - val_loss: 0.5747\n",
            "Epoch 72/600\n",
            "5/5 [==============================] - 0s 6ms/step - loss: 0.1593 - val_loss: 0.5661\n",
            "Epoch 73/600\n",
            "5/5 [==============================] - 0s 6ms/step - loss: 0.1573 - val_loss: 0.5655\n",
            "Epoch 74/600\n",
            "5/5 [==============================] - 0s 6ms/step - loss: 0.1564 - val_loss: 0.5669\n",
            "Epoch 75/600\n",
            "5/5 [==============================] - 0s 6ms/step - loss: 0.1550 - val_loss: 0.5690\n",
            "Epoch 76/600\n",
            "5/5 [==============================] - 0s 7ms/step - loss: 0.1548 - val_loss: 0.5740\n",
            "Epoch 77/600\n",
            "5/5 [==============================] - 0s 7ms/step - loss: 0.1552 - val_loss: 0.5642\n",
            "Epoch 78/600\n",
            "5/5 [==============================] - 0s 7ms/step - loss: 0.1528 - val_loss: 0.5626\n",
            "Epoch 79/600\n",
            "5/5 [==============================] - 0s 8ms/step - loss: 0.1551 - val_loss: 0.5756\n",
            "Epoch 80/600\n",
            "5/5 [==============================] - 0s 8ms/step - loss: 0.1513 - val_loss: 0.5646\n",
            "Epoch 81/600\n",
            "5/5 [==============================] - 0s 7ms/step - loss: 0.1503 - val_loss: 0.5588\n",
            "Epoch 82/600\n",
            "5/5 [==============================] - 0s 7ms/step - loss: 0.1496 - val_loss: 0.5674\n",
            "Epoch 83/600\n",
            "5/5 [==============================] - 0s 7ms/step - loss: 0.1476 - val_loss: 0.5623\n",
            "Epoch 84/600\n",
            "5/5 [==============================] - 0s 7ms/step - loss: 0.1466 - val_loss: 0.5635\n",
            "Epoch 85/600\n",
            "5/5 [==============================] - 0s 7ms/step - loss: 0.1478 - val_loss: 0.5685\n",
            "Epoch 86/600\n",
            "5/5 [==============================] - 0s 8ms/step - loss: 0.1451 - val_loss: 0.5570\n",
            "Epoch 87/600\n",
            "5/5 [==============================] - 0s 7ms/step - loss: 0.1458 - val_loss: 0.5525\n",
            "Epoch 88/600\n",
            "5/5 [==============================] - 0s 8ms/step - loss: 0.1453 - val_loss: 0.5669\n",
            "Epoch 89/600\n",
            "5/5 [==============================] - 0s 7ms/step - loss: 0.1421 - val_loss: 0.5644\n",
            "Epoch 90/600\n",
            "5/5 [==============================] - 0s 8ms/step - loss: 0.1421 - val_loss: 0.5554\n",
            "Epoch 91/600\n",
            "5/5 [==============================] - 0s 8ms/step - loss: 0.1402 - val_loss: 0.5589\n",
            "Epoch 92/600\n",
            "5/5 [==============================] - 0s 9ms/step - loss: 0.1394 - val_loss: 0.5590\n",
            "Epoch 93/600\n",
            "5/5 [==============================] - 0s 8ms/step - loss: 0.1388 - val_loss: 0.5592\n",
            "Epoch 94/600\n",
            "5/5 [==============================] - 0s 12ms/step - loss: 0.1397 - val_loss: 0.5602\n",
            "Epoch 95/600\n",
            "5/5 [==============================] - 0s 9ms/step - loss: 0.1369 - val_loss: 0.5636\n",
            "Epoch 96/600\n",
            "5/5 [==============================] - 0s 8ms/step - loss: 0.1387 - val_loss: 0.5737\n",
            "Epoch 97/600\n",
            "5/5 [==============================] - 0s 7ms/step - loss: 0.1371 - val_loss: 0.5611\n",
            "Epoch 98/600\n",
            "5/5 [==============================] - 0s 7ms/step - loss: 0.1373 - val_loss: 0.5543\n",
            "Epoch 99/600\n",
            "5/5 [==============================] - 0s 7ms/step - loss: 0.1345 - val_loss: 0.5645\n",
            "Epoch 100/600\n",
            "5/5 [==============================] - 0s 7ms/step - loss: 0.1370 - val_loss: 0.5743\n",
            "Epoch 101/600\n",
            "5/5 [==============================] - 0s 7ms/step - loss: 0.1330 - val_loss: 0.5638\n",
            "Epoch 102/600\n",
            "5/5 [==============================] - 0s 10ms/step - loss: 0.1313 - val_loss: 0.5575\n",
            "Epoch 103/600\n",
            "5/5 [==============================] - 0s 7ms/step - loss: 0.1341 - val_loss: 0.5504\n",
            "Epoch 104/600\n",
            "5/5 [==============================] - 0s 9ms/step - loss: 0.1315 - val_loss: 0.5616\n",
            "Epoch 105/600\n",
            "5/5 [==============================] - 0s 7ms/step - loss: 0.1310 - val_loss: 0.5704\n",
            "Epoch 106/600\n",
            "5/5 [==============================] - 0s 8ms/step - loss: 0.1307 - val_loss: 0.5627\n",
            "Epoch 107/600\n",
            "5/5 [==============================] - 0s 7ms/step - loss: 0.1294 - val_loss: 0.5619\n",
            "Epoch 108/600\n",
            "5/5 [==============================] - 0s 8ms/step - loss: 0.1286 - val_loss: 0.5556\n",
            "Epoch 109/600\n",
            "5/5 [==============================] - 0s 7ms/step - loss: 0.1284 - val_loss: 0.5591\n",
            "Epoch 110/600\n",
            "5/5 [==============================] - 0s 9ms/step - loss: 0.1286 - val_loss: 0.5562\n",
            "Epoch 111/600\n",
            "5/5 [==============================] - 0s 7ms/step - loss: 0.1277 - val_loss: 0.5661\n",
            "Epoch 112/600\n",
            "5/5 [==============================] - 0s 8ms/step - loss: 0.1268 - val_loss: 0.5682\n",
            "Epoch 113/600\n",
            "5/5 [==============================] - 0s 8ms/step - loss: 0.1266 - val_loss: 0.5678\n",
            "Epoch 114/600\n",
            "5/5 [==============================] - 0s 8ms/step - loss: 0.1253 - val_loss: 0.5622\n",
            "Epoch 115/600\n",
            "5/5 [==============================] - 0s 8ms/step - loss: 0.1254 - val_loss: 0.5598\n",
            "Epoch 116/600\n",
            "5/5 [==============================] - 0s 8ms/step - loss: 0.1250 - val_loss: 0.5635\n",
            "Epoch 117/600\n",
            "5/5 [==============================] - 0s 9ms/step - loss: 0.1246 - val_loss: 0.5715\n",
            "Epoch 118/600\n",
            "5/5 [==============================] - 0s 9ms/step - loss: 0.1238 - val_loss: 0.5679\n",
            "Epoch 119/600\n",
            "5/5 [==============================] - 0s 10ms/step - loss: 0.1233 - val_loss: 0.5683\n",
            "Epoch 120/600\n",
            "5/5 [==============================] - 0s 8ms/step - loss: 0.1228 - val_loss: 0.5746\n",
            "Epoch 121/600\n",
            "5/5 [==============================] - 0s 7ms/step - loss: 0.1231 - val_loss: 0.5792\n",
            "Epoch 122/600\n",
            "5/5 [==============================] - 0s 8ms/step - loss: 0.1227 - val_loss: 0.5770\n",
            "Epoch 123/600\n",
            "5/5 [==============================] - 0s 8ms/step - loss: 0.1251 - val_loss: 0.5623\n",
            "Epoch 124/600\n",
            "5/5 [==============================] - 0s 8ms/step - loss: 0.1234 - val_loss: 0.5683\n",
            "Epoch 125/600\n",
            "5/5 [==============================] - 0s 7ms/step - loss: 0.1211 - val_loss: 0.5713\n",
            "Epoch 126/600\n",
            "5/5 [==============================] - 0s 7ms/step - loss: 0.1208 - val_loss: 0.5717\n",
            "Epoch 127/600\n",
            "5/5 [==============================] - 0s 8ms/step - loss: 0.1199 - val_loss: 0.5736\n",
            "Epoch 128/600\n",
            "5/5 [==============================] - 0s 7ms/step - loss: 0.1214 - val_loss: 0.5705\n",
            "Epoch 129/600\n",
            "5/5 [==============================] - 0s 8ms/step - loss: 0.1206 - val_loss: 0.5828\n",
            "Epoch 130/600\n",
            "5/5 [==============================] - 0s 9ms/step - loss: 0.1192 - val_loss: 0.5777\n",
            "Epoch 131/600\n",
            "5/5 [==============================] - 0s 7ms/step - loss: 0.1181 - val_loss: 0.5750\n",
            "Epoch 132/600\n",
            "5/5 [==============================] - 0s 8ms/step - loss: 0.1191 - val_loss: 0.5780\n",
            "Epoch 133/600\n",
            "5/5 [==============================] - 0s 9ms/step - loss: 0.1185 - val_loss: 0.5808\n",
            "Epoch 00133: early stopping\n"
          ]
        },
        {
          "output_type": "execute_result",
          "data": {
            "text/plain": [
              "<keras.callbacks.History at 0x7f78b05dd8d0>"
            ]
          },
          "metadata": {},
          "execution_count": 47
        }
      ]
    },
    {
      "cell_type": "code",
      "metadata": {
        "colab": {
          "base_uri": "https://localhost:8080/",
          "height": 282
        },
        "id": "BqYomBhW1dOR",
        "outputId": "3c197775-905c-4e10-dc9a-d03d78f95d6d"
      },
      "source": [
        "model_loss=pd.DataFrame(model.history.history)\n",
        "model_loss.plot()"
      ],
      "execution_count": 49,
      "outputs": [
        {
          "output_type": "execute_result",
          "data": {
            "text/plain": [
              "<matplotlib.axes._subplots.AxesSubplot at 0x7f78b2371f10>"
            ]
          },
          "metadata": {},
          "execution_count": 49
        },
        {
          "output_type": "display_data",
          "data": {
            "image/png": "[encoded data removed]",
            "text/plain": [
              "<Figure size 432x288 with 1 Axes>"
            ]
          },
          "metadata": {
            "needs_background": "light"
          }
        }
      ]
    },
    {
      "cell_type": "code",
      "metadata": {
        "id": "wqJh5YK31ncN"
      },
      "source": [
        "y_pred = model.predict(X_test)\n",
        "pred4 = np.round(y_pred).astype(int)"
      ],
      "execution_count": 53,
      "outputs": []
    },
    {
      "cell_type": "code",
      "metadata": {
        "colab": {
          "base_uri": "https://localhost:8080/"
        },
        "id": "6jiXZLJ-1upy",
        "outputId": "bf0303c0-24ba-4317-8361-2663378659ea"
      },
      "source": [
        "print(confusion_matrix(y_test,pred4))"
      ],
      "execution_count": 54,
      "outputs": [
        {
          "output_type": "stream",
          "name": "stdout",
          "text": [
            "[[11 10]\n",
            " [ 3 41]]\n"
          ]
        }
      ]
    },
    {
      "cell_type": "code",
      "metadata": {
        "colab": {
          "base_uri": "https://localhost:8080/"
        },
        "id": "GYkLUdXc2aXC",
        "outputId": "bc42ff5c-7567-4151-8df7-8c456230676e"
      },
      "source": [
        "print(classification_report(y_test,pred4))"
      ],
      "execution_count": 55,
      "outputs": [
        {
          "output_type": "stream",
          "name": "stdout",
          "text": [
            "              precision    recall  f1-score   support\n",
            "\n",
            "           0       0.79      0.52      0.63        21\n",
            "           1       0.80      0.93      0.86        44\n",
            "\n",
            "    accuracy                           0.80        65\n",
            "   macro avg       0.79      0.73      0.75        65\n",
            "weighted avg       0.80      0.80      0.79        65\n",
            "\n"
          ]
        }
      ]
    },
    {
      "cell_type": "markdown",
      "metadata": {
        "id": "8LNMTOkn2h-L"
      },
      "source": [
        "# Comparison of all the Models\n",
        "**All the models used have an accuracy of above 80%, but the best model among them is Logistic Regression with 85% accuracy.**\n",
        "\n",
        "# Making Model for Salary\n",
        "<h2> Train Test Split </h2>"
      ]
    },
    {
      "cell_type": "code",
      "metadata": {
        "colab": {
          "base_uri": "https://localhost:8080/",
          "height": 223
        },
        "id": "rjisd42j2cnu",
        "outputId": "c99d1290-c39a-4278-bf41-9ae2d6d685ae"
      },
      "source": [
        "data=data.dropna()\n",
        "X=data.drop(['Placed','salary'],axis=1).values\n",
        "y=data['salary'].values\n",
        "data.head()"
      ],
      "execution_count": 56,
      "outputs": [
        {
          "output_type": "execute_result",
          "data": {
            "text/html": [
              "<div>\n",
              "<style scoped>\n",
              "    .dataframe tbody tr th:only-of-type {\n",
              "        vertical-align: middle;\n",
              "    }\n",
              "\n",
              "    .dataframe tbody tr th {\n",
              "        vertical-align: top;\n",
              "    }\n",
              "\n",
              "    .dataframe thead th {\n",
              "        text-align: right;\n",
              "    }\n",
              "</style>\n",
              "<table border=\"1\" class=\"dataframe\">\n",
              "  <thead>\n",
              "    <tr style=\"text-align: right;\">\n",
              "      <th></th>\n",
              "      <th>ssc_p</th>\n",
              "      <th>hsc_p</th>\n",
              "      <th>degree_p</th>\n",
              "      <th>etest_p</th>\n",
              "      <th>mba_p</th>\n",
              "      <th>salary</th>\n",
              "      <th>Placed</th>\n",
              "      <th>gender_M</th>\n",
              "      <th>ssc_b_Others</th>\n",
              "      <th>hsc_b_Others</th>\n",
              "      <th>hsc_s_Commerce</th>\n",
              "      <th>hsc_s_Science</th>\n",
              "      <th>degree_t_Others</th>\n",
              "      <th>degree_t_Sci&amp;Tech</th>\n",
              "      <th>workex_Yes</th>\n",
              "      <th>specialisation_Mkt&amp;HR</th>\n",
              "    </tr>\n",
              "  </thead>\n",
              "  <tbody>\n",
              "    <tr>\n",
              "      <th>0</th>\n",
              "      <td>67.00</td>\n",
              "      <td>91.00</td>\n",
              "      <td>58.00</td>\n",
              "      <td>55.0</td>\n",
              "      <td>58.80</td>\n",
              "      <td>270000.0</td>\n",
              "      <td>1</td>\n",
              "      <td>1</td>\n",
              "      <td>1</td>\n",
              "      <td>1</td>\n",
              "      <td>1</td>\n",
              "      <td>0</td>\n",
              "      <td>0</td>\n",
              "      <td>1</td>\n",
              "      <td>0</td>\n",
              "      <td>1</td>\n",
              "    </tr>\n",
              "    <tr>\n",
              "      <th>1</th>\n",
              "      <td>79.33</td>\n",
              "      <td>78.33</td>\n",
              "      <td>77.48</td>\n",
              "      <td>86.5</td>\n",
              "      <td>66.28</td>\n",
              "      <td>200000.0</td>\n",
              "      <td>1</td>\n",
              "      <td>1</td>\n",
              "      <td>0</td>\n",
              "      <td>1</td>\n",
              "      <td>0</td>\n",
              "      <td>1</td>\n",
              "      <td>0</td>\n",
              "      <td>1</td>\n",
              "      <td>1</td>\n",
              "      <td>0</td>\n",
              "    </tr>\n",
              "    <tr>\n",
              "      <th>2</th>\n",
              "      <td>65.00</td>\n",
              "      <td>68.00</td>\n",
              "      <td>64.00</td>\n",
              "      <td>75.0</td>\n",
              "      <td>57.80</td>\n",
              "      <td>250000.0</td>\n",
              "      <td>1</td>\n",
              "      <td>1</td>\n",
              "      <td>0</td>\n",
              "      <td>0</td>\n",
              "      <td>0</td>\n",
              "      <td>0</td>\n",
              "      <td>0</td>\n",
              "      <td>0</td>\n",
              "      <td>0</td>\n",
              "      <td>0</td>\n",
              "    </tr>\n",
              "    <tr>\n",
              "      <th>4</th>\n",
              "      <td>85.80</td>\n",
              "      <td>73.60</td>\n",
              "      <td>73.30</td>\n",
              "      <td>96.8</td>\n",
              "      <td>55.50</td>\n",
              "      <td>425000.0</td>\n",
              "      <td>1</td>\n",
              "      <td>1</td>\n",
              "      <td>0</td>\n",
              "      <td>0</td>\n",
              "      <td>1</td>\n",
              "      <td>0</td>\n",
              "      <td>0</td>\n",
              "      <td>0</td>\n",
              "      <td>0</td>\n",
              "      <td>0</td>\n",
              "    </tr>\n",
              "    <tr>\n",
              "      <th>7</th>\n",
              "      <td>82.00</td>\n",
              "      <td>64.00</td>\n",
              "      <td>66.00</td>\n",
              "      <td>67.0</td>\n",
              "      <td>62.14</td>\n",
              "      <td>252000.0</td>\n",
              "      <td>1</td>\n",
              "      <td>1</td>\n",
              "      <td>0</td>\n",
              "      <td>0</td>\n",
              "      <td>0</td>\n",
              "      <td>1</td>\n",
              "      <td>0</td>\n",
              "      <td>1</td>\n",
              "      <td>1</td>\n",
              "      <td>0</td>\n",
              "    </tr>\n",
              "  </tbody>\n",
              "</table>\n",
              "</div>"
            ],
            "text/plain": [
              "   ssc_p  hsc_p  degree_p  ...  degree_t_Sci&Tech  workex_Yes  specialisation_Mkt&HR\n",
              "0  67.00  91.00     58.00  ...                  1           0                      1\n",
              "1  79.33  78.33     77.48  ...                  1           1                      0\n",
              "2  65.00  68.00     64.00  ...                  0           0                      0\n",
              "4  85.80  73.60     73.30  ...                  0           0                      0\n",
              "7  82.00  64.00     66.00  ...                  1           1                      0\n",
              "\n",
              "[5 rows x 16 columns]"
            ]
          },
          "metadata": {},
          "execution_count": 56
        }
      ]
    },
    {
      "cell_type": "code",
      "metadata": {
        "id": "PBsdRn0_2zd9"
      },
      "source": [
        "\n",
        "X_train, X_test, y_train, y_test = train_test_split(X, y, test_size=0.3, random_state=42)"
      ],
      "execution_count": 59,
      "outputs": []
    },
    {
      "cell_type": "markdown",
      "metadata": {
        "id": "ZRotML0d3FI6"
      },
      "source": [
        "# Linear Regression Model\n"
      ]
    },
    {
      "cell_type": "code",
      "metadata": {
        "colab": {
          "base_uri": "https://localhost:8080/"
        },
        "id": "KlPZ-WLq2-cH",
        "outputId": "be315860-cda9-4da6-9f7c-89ed527ad2b9"
      },
      "source": [
        "\n",
        "from sklearn.linear_model import LinearRegression\n",
        "linr=LinearRegression()\n",
        "linr.fit(X_train,y_train)"
      ],
      "execution_count": 60,
      "outputs": [
        {
          "output_type": "execute_result",
          "data": {
            "text/plain": [
              "LinearRegression(copy_X=True, fit_intercept=True, n_jobs=None, normalize=False)"
            ]
          },
          "metadata": {},
          "execution_count": 60
        }
      ]
    },
    {
      "cell_type": "code",
      "metadata": {
        "colab": {
          "base_uri": "https://localhost:8080/"
        },
        "id": "_t-Bkobi3O7S",
        "outputId": "27c4fb0e-a39d-48fc-d3d1-f179bfb8f4d3"
      },
      "source": [
        "pred5=linr.predict(X_test)\n",
        "pred5"
      ],
      "execution_count": 61,
      "outputs": [
        {
          "output_type": "execute_result",
          "data": {
            "text/plain": [
              "array([345974.30534722, 354944.41170727, 321390.77263035, 322583.53327418,\n",
              "       274859.17300396, 268232.57806394, 281497.62892727, 319287.44605754,\n",
              "       320106.20178765, 312071.19749585, 331816.31590804, 249273.5348958 ,\n",
              "       314728.75766836, 266980.91556772, 227390.25436423, 298560.02399247,\n",
              "       274893.16146015, 288287.58348327, 244586.82546051, 350781.78152989,\n",
              "       282218.44164514, 229548.90527661, 354621.14135881, 307172.88282109,\n",
              "       275480.26143902, 281692.95121008, 274516.22910248, 339797.89459875,\n",
              "       329261.01690607, 348562.28814563, 290123.2328983 , 277986.80687269,\n",
              "       294217.71891302, 204216.30621891, 348974.99407035, 279759.65505237,\n",
              "       281883.84165104, 350393.10313497, 261889.46276638, 319502.96654245,\n",
              "       352342.61021285, 366218.32465634, 292396.51443566, 299134.98796574,\n",
              "       353935.70374873])"
            ]
          },
          "metadata": {},
          "execution_count": 61
        }
      ]
    },
    {
      "cell_type": "code",
      "metadata": {
        "colab": {
          "base_uri": "https://localhost:8080/",
          "height": 346
        },
        "id": "t_d-VxPe3Q7G",
        "outputId": "f9e12fdb-ff9b-4202-dc1a-aa163c5417d4"
      },
      "source": [
        "sns.distplot((y_test-pred5),bins=50)"
      ],
      "execution_count": 62,
      "outputs": [
        {
          "output_type": "stream",
          "name": "stderr",
          "text": [
            "/usr/local/lib/python3.7/dist-packages/seaborn/distributions.py:2557: FutureWarning: `distplot` is a deprecated function and will be removed in a future version. Please adapt your code to use either `displot` (a figure-level function with similar flexibility) or `histplot` (an axes-level function for histograms).\n",
            "  warnings.warn(msg, FutureWarning)\n"
          ]
        },
        {
          "output_type": "execute_result",
          "data": {
            "text/plain": [
              "<matplotlib.axes._subplots.AxesSubplot at 0x7f78b22b5a50>"
            ]
          },
          "metadata": {},
          "execution_count": 62
        },
        {
          "output_type": "display_data",
          "data": {
            "image/png": "[encoded data removed]",
            "text/plain": [
              "<Figure size 432x288 with 1 Axes>"
            ]
          },
          "metadata": {
            "needs_background": "light"
          }
        }
      ]
    },
    {
      "cell_type": "code",
      "metadata": {
        "colab": {
          "base_uri": "https://localhost:8080/",
          "height": 282
        },
        "id": "t1krR_5E3TjV",
        "outputId": "0cbbfba9-ed04-4f8a-cccc-100a45413a46"
      },
      "source": [
        "\n",
        "sns.scatterplot(x=y_test,y=pred5)\n",
        "plt.plot(y_test,y_test,'r')"
      ],
      "execution_count": 63,
      "outputs": [
        {
          "output_type": "execute_result",
          "data": {
            "text/plain": [
              "[<matplotlib.lines.Line2D at 0x7f78b4ce8a90>]"
            ]
          },
          "metadata": {},
          "execution_count": 63
        },
        {
          "output_type": "display_data",
          "data": {
            "image/png": "[encoded data removed]",
            "text/plain": [
              "<Figure size 432x288 with 1 Axes>"
            ]
          },
          "metadata": {
            "needs_background": "light"
          }
        }
      ]
    },
    {
      "cell_type": "markdown",
      "metadata": {
        "id": "wJRcCNm23Zoz"
      },
      "source": [
        "\n",
        "As seen from the above graphs, this model is not so good at predicting the Salaries of the students"
      ]
    },
    {
      "cell_type": "markdown",
      "metadata": {
        "id": "xh9vkqPl3dVN"
      },
      "source": [
        "# Neural Network Model\n",
        "Scaling Data"
      ]
    },
    {
      "cell_type": "code",
      "metadata": {
        "colab": {
          "base_uri": "https://localhost:8080/"
        },
        "id": "0QgUZUUU3V5O",
        "outputId": "b153368f-d62a-446a-a988-47e32fc4677e"
      },
      "source": [
        "from sklearn.preprocessing import MinMaxScaler\n",
        "scaler =MinMaxScaler()\n",
        "scaler.fit(X_train)"
      ],
      "execution_count": 64,
      "outputs": [
        {
          "output_type": "execute_result",
          "data": {
            "text/plain": [
              "MinMaxScaler(copy=True, feature_range=(0, 1))"
            ]
          },
          "metadata": {},
          "execution_count": 64
        }
      ]
    },
    {
      "cell_type": "code",
      "metadata": {
        "id": "eXaqCjHJ3kY8"
      },
      "source": [
        "X_train=scaler.transform(X_train)\n",
        "X_test=scaler.transform(X_test)"
      ],
      "execution_count": 65,
      "outputs": []
    },
    {
      "cell_type": "markdown",
      "metadata": {
        "id": "92MIa21D3xKh"
      },
      "source": [
        "# Creating Model"
      ]
    },
    {
      "cell_type": "code",
      "metadata": {
        "id": "dXt4ocdN3mNr"
      },
      "source": [
        "import tensorflow as tf\n",
        "from tensorflow.keras.models import Sequential\n",
        "from tensorflow.keras.layers import Dense,Activation\n",
        "from tensorflow.keras.optimizers import Adam \n",
        "from tensorflow.keras.callbacks import EarlyStopping"
      ],
      "execution_count": 66,
      "outputs": []
    },
    {
      "cell_type": "code",
      "metadata": {
        "colab": {
          "base_uri": "https://localhost:8080/"
        },
        "id": "RMucQctN3oRV",
        "outputId": "7885cf5f-4236-4338-e6b5-b60f809e6bf4"
      },
      "source": [
        "X_train.shape"
      ],
      "execution_count": 67,
      "outputs": [
        {
          "output_type": "execute_result",
          "data": {
            "text/plain": [
              "(103, 14)"
            ]
          },
          "metadata": {},
          "execution_count": 67
        }
      ]
    },
    {
      "cell_type": "code",
      "metadata": {
        "id": "FcevHViF30T8"
      },
      "source": [
        "model=Sequential()\n",
        "\n",
        "#input layer\n",
        "model.add(Dense(units=14,activation='relu'))\n",
        "#hidden layer 1\n",
        "model.add(Dense(units=10,activation='relu'))\n",
        "#hidden layer 2\n",
        "model.add(Dense(units=6,activation='relu'))\n",
        "#hidden layer 3\n",
        "model.add(Dense(units=3,activation='relu'))\n",
        "#output layer\n",
        "model.add(Dense(units=1))\n",
        "\n",
        "model.compile(loss='mse',optimizer='adam')\n"
      ],
      "execution_count": 68,
      "outputs": []
    },
    {
      "cell_type": "code",
      "metadata": {
        "id": "IUftJFPk32wC"
      },
      "source": [
        "early_stopping= EarlyStopping(verbose=1,mode='min',patience=20)"
      ],
      "execution_count": 69,
      "outputs": []
    },
    {
      "cell_type": "code",
      "metadata": {
        "colab": {
          "base_uri": "https://localhost:8080/"
        },
        "id": "8blWTQiP35NU",
        "outputId": "10c6b547-0e82-4a02-b0dd-4d96c5f15c52"
      },
      "source": [
        "model.fit(x=X_train,y=y_train,epochs=1000,verbose=1,validation_data=(X_test,y_test),callbacks=[early_stopping])"
      ],
      "execution_count": 70,
      "outputs": [
        {
          "output_type": "stream",
          "name": "stdout",
          "text": [
            "Epoch 1/1000\n",
            "4/4 [==============================] - 1s 41ms/step - loss: 93241311232.0000 - val_loss: 89150603264.0000\n",
            "Epoch 2/1000\n",
            "4/4 [==============================] - 0s 8ms/step - loss: 93241221120.0000 - val_loss: 89150504960.0000\n",
            "Epoch 3/1000\n",
            "4/4 [==============================] - 0s 9ms/step - loss: 93241147392.0000 - val_loss: 89150431232.0000\n",
            "Epoch 4/1000\n",
            "4/4 [==============================] - 0s 9ms/step - loss: 93241106432.0000 - val_loss: 89150382080.0000\n",
            "Epoch 5/1000\n",
            "4/4 [==============================] - 0s 8ms/step - loss: 93241049088.0000 - val_loss: 89150349312.0000\n",
            "Epoch 6/1000\n",
            "4/4 [==============================] - 0s 15ms/step - loss: 93241040896.0000 - val_loss: 89150324736.0000\n",
            "Epoch 7/1000\n",
            "4/4 [==============================] - 0s 8ms/step - loss: 93241024512.0000 - val_loss: 89150316544.0000\n",
            "Epoch 8/1000\n",
            "4/4 [==============================] - 0s 8ms/step - loss: 93241008128.0000 - val_loss: 89150308352.0000\n",
            "Epoch 9/1000\n",
            "4/4 [==============================] - 0s 8ms/step - loss: 93241008128.0000 - val_loss: 89150308352.0000\n",
            "Epoch 10/1000\n",
            "4/4 [==============================] - 0s 9ms/step - loss: 93241008128.0000 - val_loss: 89150300160.0000\n",
            "Epoch 11/1000\n",
            "4/4 [==============================] - 0s 10ms/step - loss: 93240999936.0000 - val_loss: 89150300160.0000\n",
            "Epoch 12/1000\n",
            "4/4 [==============================] - 0s 9ms/step - loss: 93240999936.0000 - val_loss: 89150283776.0000\n",
            "Epoch 13/1000\n",
            "4/4 [==============================] - 0s 11ms/step - loss: 93240983552.0000 - val_loss: 89150283776.0000\n",
            "Epoch 14/1000\n",
            "4/4 [==============================] - 0s 9ms/step - loss: 93240999936.0000 - val_loss: 89150283776.0000\n",
            "Epoch 15/1000\n",
            "4/4 [==============================] - 0s 8ms/step - loss: 93240983552.0000 - val_loss: 89150283776.0000\n",
            "Epoch 16/1000\n",
            "4/4 [==============================] - 0s 9ms/step - loss: 93240983552.0000 - val_loss: 89150283776.0000\n",
            "Epoch 17/1000\n",
            "4/4 [==============================] - 0s 8ms/step - loss: 93240983552.0000 - val_loss: 89150283776.0000\n",
            "Epoch 18/1000\n",
            "4/4 [==============================] - 0s 9ms/step - loss: 93240975360.0000 - val_loss: 89150275584.0000\n",
            "Epoch 19/1000\n",
            "4/4 [==============================] - 0s 9ms/step - loss: 93240975360.0000 - val_loss: 89150275584.0000\n",
            "Epoch 20/1000\n",
            "4/4 [==============================] - 0s 8ms/step - loss: 93240975360.0000 - val_loss: 89150267392.0000\n",
            "Epoch 21/1000\n",
            "4/4 [==============================] - 0s 9ms/step - loss: 93240967168.0000 - val_loss: 89150267392.0000\n",
            "Epoch 22/1000\n",
            "4/4 [==============================] - 0s 8ms/step - loss: 93240967168.0000 - val_loss: 89150267392.0000\n",
            "Epoch 23/1000\n",
            "4/4 [==============================] - 0s 10ms/step - loss: 93240967168.0000 - val_loss: 89150267392.0000\n",
            "Epoch 24/1000\n",
            "4/4 [==============================] - 0s 8ms/step - loss: 93240958976.0000 - val_loss: 89150259200.0000\n",
            "Epoch 25/1000\n",
            "4/4 [==============================] - 0s 14ms/step - loss: 93240967168.0000 - val_loss: 89150259200.0000\n",
            "Epoch 26/1000\n",
            "4/4 [==============================] - 0s 9ms/step - loss: 93240958976.0000 - val_loss: 89150251008.0000\n",
            "Epoch 27/1000\n",
            "4/4 [==============================] - 0s 8ms/step - loss: 93240958976.0000 - val_loss: 89150251008.0000\n",
            "Epoch 28/1000\n",
            "4/4 [==============================] - 0s 7ms/step - loss: 93240958976.0000 - val_loss: 89150251008.0000\n",
            "Epoch 29/1000\n",
            "4/4 [==============================] - 0s 8ms/step - loss: 93240942592.0000 - val_loss: 89150251008.0000\n",
            "Epoch 30/1000\n",
            "4/4 [==============================] - 0s 8ms/step - loss: 93240942592.0000 - val_loss: 89150242816.0000\n",
            "Epoch 31/1000\n",
            "4/4 [==============================] - 0s 8ms/step - loss: 93240958976.0000 - val_loss: 89150242816.0000\n",
            "Epoch 32/1000\n",
            "4/4 [==============================] - 0s 8ms/step - loss: 93240942592.0000 - val_loss: 89150242816.0000\n",
            "Epoch 33/1000\n",
            "4/4 [==============================] - 0s 8ms/step - loss: 93240942592.0000 - val_loss: 89150242816.0000\n",
            "Epoch 34/1000\n",
            "4/4 [==============================] - 0s 9ms/step - loss: 93240942592.0000 - val_loss: 89150234624.0000\n",
            "Epoch 35/1000\n",
            "4/4 [==============================] - 0s 9ms/step - loss: 93240942592.0000 - val_loss: 89150234624.0000\n",
            "Epoch 36/1000\n",
            "4/4 [==============================] - 0s 10ms/step - loss: 93240934400.0000 - val_loss: 89150234624.0000\n",
            "Epoch 37/1000\n",
            "4/4 [==============================] - 0s 8ms/step - loss: 93240934400.0000 - val_loss: 89150234624.0000\n",
            "Epoch 38/1000\n",
            "4/4 [==============================] - 0s 8ms/step - loss: 93240926208.0000 - val_loss: 89150226432.0000\n",
            "Epoch 39/1000\n",
            "4/4 [==============================] - 0s 8ms/step - loss: 93240926208.0000 - val_loss: 89150226432.0000\n",
            "Epoch 40/1000\n",
            "4/4 [==============================] - 0s 9ms/step - loss: 93240926208.0000 - val_loss: 89150226432.0000\n",
            "Epoch 41/1000\n",
            "4/4 [==============================] - 0s 10ms/step - loss: 93240926208.0000 - val_loss: 89150226432.0000\n",
            "Epoch 42/1000\n",
            "4/4 [==============================] - 0s 10ms/step - loss: 93240926208.0000 - val_loss: 89150226432.0000\n",
            "Epoch 43/1000\n",
            "4/4 [==============================] - 0s 11ms/step - loss: 93240926208.0000 - val_loss: 89150226432.0000\n",
            "Epoch 44/1000\n",
            "4/4 [==============================] - 0s 8ms/step - loss: 93240918016.0000 - val_loss: 89150210048.0000\n",
            "Epoch 45/1000\n",
            "4/4 [==============================] - 0s 8ms/step - loss: 93240918016.0000 - val_loss: 89150210048.0000\n",
            "Epoch 46/1000\n",
            "4/4 [==============================] - 0s 8ms/step - loss: 93240901632.0000 - val_loss: 89150201856.0000\n",
            "Epoch 47/1000\n",
            "4/4 [==============================] - 0s 8ms/step - loss: 93240918016.0000 - val_loss: 89150201856.0000\n",
            "Epoch 48/1000\n",
            "4/4 [==============================] - 0s 8ms/step - loss: 93240918016.0000 - val_loss: 89150201856.0000\n",
            "Epoch 49/1000\n",
            "4/4 [==============================] - 0s 12ms/step - loss: 93240901632.0000 - val_loss: 89150201856.0000\n",
            "Epoch 50/1000\n",
            "4/4 [==============================] - 0s 9ms/step - loss: 93240918016.0000 - val_loss: 89150201856.0000\n",
            "Epoch 51/1000\n",
            "4/4 [==============================] - 0s 10ms/step - loss: 93240901632.0000 - val_loss: 89150185472.0000\n",
            "Epoch 52/1000\n",
            "4/4 [==============================] - 0s 9ms/step - loss: 93240893440.0000 - val_loss: 89150185472.0000\n",
            "Epoch 53/1000\n",
            "4/4 [==============================] - 0s 11ms/step - loss: 93240893440.0000 - val_loss: 89150185472.0000\n",
            "Epoch 54/1000\n",
            "4/4 [==============================] - 0s 9ms/step - loss: 93240893440.0000 - val_loss: 89150185472.0000\n",
            "Epoch 55/1000\n",
            "4/4 [==============================] - 0s 8ms/step - loss: 93240893440.0000 - val_loss: 89150185472.0000\n",
            "Epoch 56/1000\n",
            "4/4 [==============================] - 0s 8ms/step - loss: 93240893440.0000 - val_loss: 89150185472.0000\n",
            "Epoch 57/1000\n",
            "4/4 [==============================] - 0s 11ms/step - loss: 93240885248.0000 - val_loss: 89150185472.0000\n",
            "Epoch 58/1000\n",
            "4/4 [==============================] - 0s 9ms/step - loss: 93240885248.0000 - val_loss: 89150185472.0000\n",
            "Epoch 59/1000\n",
            "4/4 [==============================] - 0s 8ms/step - loss: 93240885248.0000 - val_loss: 89150177280.0000\n",
            "Epoch 60/1000\n",
            "4/4 [==============================] - 0s 9ms/step - loss: 93240877056.0000 - val_loss: 89150177280.0000\n",
            "Epoch 61/1000\n",
            "4/4 [==============================] - 0s 8ms/step - loss: 93240877056.0000 - val_loss: 89150169088.0000\n",
            "Epoch 62/1000\n",
            "4/4 [==============================] - 0s 9ms/step - loss: 93240877056.0000 - val_loss: 89150169088.0000\n",
            "Epoch 63/1000\n",
            "4/4 [==============================] - 0s 8ms/step - loss: 93240877056.0000 - val_loss: 89150169088.0000\n",
            "Epoch 64/1000\n",
            "4/4 [==============================] - 0s 9ms/step - loss: 93240877056.0000 - val_loss: 89150169088.0000\n",
            "Epoch 65/1000\n",
            "4/4 [==============================] - 0s 8ms/step - loss: 93240885248.0000 - val_loss: 89150160896.0000\n",
            "Epoch 66/1000\n",
            "4/4 [==============================] - 0s 8ms/step - loss: 93240860672.0000 - val_loss: 89150160896.0000\n",
            "Epoch 67/1000\n",
            "4/4 [==============================] - 0s 9ms/step - loss: 93240877056.0000 - val_loss: 89150160896.0000\n",
            "Epoch 68/1000\n",
            "4/4 [==============================] - 0s 9ms/step - loss: 93240860672.0000 - val_loss: 89150160896.0000\n",
            "Epoch 69/1000\n",
            "4/4 [==============================] - 0s 10ms/step - loss: 93240852480.0000 - val_loss: 89150160896.0000\n",
            "Epoch 70/1000\n",
            "4/4 [==============================] - 0s 9ms/step - loss: 93240860672.0000 - val_loss: 89150160896.0000\n",
            "Epoch 71/1000\n",
            "4/4 [==============================] - 0s 9ms/step - loss: 93240852480.0000 - val_loss: 89150152704.0000\n",
            "Epoch 72/1000\n",
            "4/4 [==============================] - 0s 10ms/step - loss: 93240852480.0000 - val_loss: 89150152704.0000\n",
            "Epoch 73/1000\n",
            "4/4 [==============================] - 0s 8ms/step - loss: 93240852480.0000 - val_loss: 89150152704.0000\n",
            "Epoch 74/1000\n",
            "4/4 [==============================] - 0s 8ms/step - loss: 93240852480.0000 - val_loss: 89150152704.0000\n",
            "Epoch 75/1000\n",
            "4/4 [==============================] - 0s 8ms/step - loss: 93240844288.0000 - val_loss: 89150144512.0000\n",
            "Epoch 76/1000\n",
            "4/4 [==============================] - 0s 9ms/step - loss: 93240844288.0000 - val_loss: 89150144512.0000\n",
            "Epoch 77/1000\n",
            "4/4 [==============================] - 0s 10ms/step - loss: 93240844288.0000 - val_loss: 89150144512.0000\n",
            "Epoch 78/1000\n",
            "4/4 [==============================] - 0s 9ms/step - loss: 93240836096.0000 - val_loss: 89150144512.0000\n",
            "Epoch 79/1000\n",
            "4/4 [==============================] - 0s 9ms/step - loss: 93240844288.0000 - val_loss: 89150144512.0000\n",
            "Epoch 80/1000\n",
            "4/4 [==============================] - 0s 8ms/step - loss: 93240836096.0000 - val_loss: 89150144512.0000\n",
            "Epoch 81/1000\n",
            "4/4 [==============================] - 0s 9ms/step - loss: 93240836096.0000 - val_loss: 89150128128.0000\n",
            "Epoch 82/1000\n",
            "4/4 [==============================] - 0s 10ms/step - loss: 93240836096.0000 - val_loss: 89150128128.0000\n",
            "Epoch 83/1000\n",
            "4/4 [==============================] - 0s 9ms/step - loss: 93240836096.0000 - val_loss: 89150119936.0000\n",
            "Epoch 84/1000\n",
            "4/4 [==============================] - 0s 9ms/step - loss: 93240819712.0000 - val_loss: 89150119936.0000\n",
            "Epoch 85/1000\n",
            "4/4 [==============================] - 0s 8ms/step - loss: 93240819712.0000 - val_loss: 89150119936.0000\n",
            "Epoch 86/1000\n",
            "4/4 [==============================] - 0s 10ms/step - loss: 93240819712.0000 - val_loss: 89150119936.0000\n",
            "Epoch 87/1000\n",
            "4/4 [==============================] - 0s 9ms/step - loss: 93240819712.0000 - val_loss: 89150119936.0000\n",
            "Epoch 88/1000\n",
            "4/4 [==============================] - 0s 8ms/step - loss: 93240819712.0000 - val_loss: 89150119936.0000\n",
            "Epoch 89/1000\n",
            "4/4 [==============================] - 0s 8ms/step - loss: 93240819712.0000 - val_loss: 89150119936.0000\n",
            "Epoch 90/1000\n",
            "4/4 [==============================] - 0s 8ms/step - loss: 93240811520.0000 - val_loss: 89150119936.0000\n",
            "Epoch 91/1000\n",
            "4/4 [==============================] - 0s 10ms/step - loss: 93240811520.0000 - val_loss: 89150103552.0000\n",
            "Epoch 92/1000\n",
            "4/4 [==============================] - 0s 10ms/step - loss: 93240803328.0000 - val_loss: 89150103552.0000\n",
            "Epoch 93/1000\n",
            "4/4 [==============================] - 0s 9ms/step - loss: 93240811520.0000 - val_loss: 89150103552.0000\n",
            "Epoch 94/1000\n",
            "4/4 [==============================] - 0s 9ms/step - loss: 93240803328.0000 - val_loss: 89150103552.0000\n",
            "Epoch 95/1000\n",
            "4/4 [==============================] - 0s 9ms/step - loss: 93240795136.0000 - val_loss: 89150103552.0000\n",
            "Epoch 96/1000\n",
            "4/4 [==============================] - 0s 10ms/step - loss: 93240803328.0000 - val_loss: 89150103552.0000\n",
            "Epoch 97/1000\n",
            "4/4 [==============================] - 0s 9ms/step - loss: 93240803328.0000 - val_loss: 89150095360.0000\n",
            "Epoch 98/1000\n",
            "4/4 [==============================] - 0s 8ms/step - loss: 93240803328.0000 - val_loss: 89150095360.0000\n",
            "Epoch 99/1000\n",
            "4/4 [==============================] - 0s 8ms/step - loss: 93240795136.0000 - val_loss: 89150078976.0000\n",
            "Epoch 100/1000\n",
            "4/4 [==============================] - 0s 8ms/step - loss: 93240778752.0000 - val_loss: 89150078976.0000\n",
            "Epoch 101/1000\n",
            "4/4 [==============================] - 0s 9ms/step - loss: 93240778752.0000 - val_loss: 89150078976.0000\n",
            "Epoch 102/1000\n",
            "4/4 [==============================] - 0s 10ms/step - loss: 93240795136.0000 - val_loss: 89150078976.0000\n",
            "Epoch 103/1000\n",
            "4/4 [==============================] - 0s 9ms/step - loss: 93240770560.0000 - val_loss: 89150078976.0000\n",
            "Epoch 104/1000\n",
            "4/4 [==============================] - 0s 9ms/step - loss: 93240778752.0000 - val_loss: 89150070784.0000\n",
            "Epoch 105/1000\n",
            "4/4 [==============================] - 0s 9ms/step - loss: 93240770560.0000 - val_loss: 89150070784.0000\n",
            "Epoch 106/1000\n",
            "4/4 [==============================] - 0s 9ms/step - loss: 93240770560.0000 - val_loss: 89150070784.0000\n",
            "Epoch 107/1000\n",
            "4/4 [==============================] - 0s 8ms/step - loss: 93240762368.0000 - val_loss: 89150070784.0000\n",
            "Epoch 108/1000\n",
            "4/4 [==============================] - 0s 9ms/step - loss: 93240770560.0000 - val_loss: 89150062592.0000\n",
            "Epoch 109/1000\n",
            "4/4 [==============================] - 0s 11ms/step - loss: 93240770560.0000 - val_loss: 89150062592.0000\n",
            "Epoch 110/1000\n",
            "4/4 [==============================] - 0s 10ms/step - loss: 93240762368.0000 - val_loss: 89150062592.0000\n",
            "Epoch 111/1000\n",
            "4/4 [==============================] - 0s 8ms/step - loss: 93240762368.0000 - val_loss: 89150062592.0000\n",
            "Epoch 112/1000\n",
            "4/4 [==============================] - 0s 11ms/step - loss: 93240770560.0000 - val_loss: 89150062592.0000\n",
            "Epoch 113/1000\n",
            "4/4 [==============================] - 0s 10ms/step - loss: 93240762368.0000 - val_loss: 89150062592.0000\n",
            "Epoch 114/1000\n",
            "4/4 [==============================] - 0s 9ms/step - loss: 93240762368.0000 - val_loss: 89150046208.0000\n",
            "Epoch 115/1000\n",
            "4/4 [==============================] - 0s 10ms/step - loss: 93240754176.0000 - val_loss: 89150046208.0000\n",
            "Epoch 116/1000\n",
            "4/4 [==============================] - 0s 8ms/step - loss: 93240754176.0000 - val_loss: 89150046208.0000\n",
            "Epoch 117/1000\n",
            "4/4 [==============================] - 0s 8ms/step - loss: 93240754176.0000 - val_loss: 89150046208.0000\n",
            "Epoch 118/1000\n",
            "4/4 [==============================] - 0s 9ms/step - loss: 93240745984.0000 - val_loss: 89150046208.0000\n",
            "Epoch 119/1000\n",
            "4/4 [==============================] - 0s 9ms/step - loss: 93240745984.0000 - val_loss: 89150046208.0000\n",
            "Epoch 120/1000\n",
            "4/4 [==============================] - 0s 9ms/step - loss: 93240745984.0000 - val_loss: 89150046208.0000\n",
            "Epoch 121/1000\n",
            "4/4 [==============================] - 0s 11ms/step - loss: 93240754176.0000 - val_loss: 89150046208.0000\n",
            "Epoch 122/1000\n",
            "4/4 [==============================] - 0s 10ms/step - loss: 93240745984.0000 - val_loss: 89150038016.0000\n",
            "Epoch 123/1000\n",
            "4/4 [==============================] - 0s 9ms/step - loss: 93240745984.0000 - val_loss: 89150021632.0000\n",
            "Epoch 124/1000\n",
            "4/4 [==============================] - 0s 9ms/step - loss: 93240729600.0000 - val_loss: 89150021632.0000\n",
            "Epoch 125/1000\n",
            "4/4 [==============================] - 0s 8ms/step - loss: 93240729600.0000 - val_loss: 89150021632.0000\n",
            "Epoch 126/1000\n",
            "4/4 [==============================] - 0s 8ms/step - loss: 93240729600.0000 - val_loss: 89150021632.0000\n",
            "Epoch 127/1000\n",
            "4/4 [==============================] - 0s 8ms/step - loss: 93240721408.0000 - val_loss: 89150021632.0000\n",
            "Epoch 128/1000\n",
            "4/4 [==============================] - 0s 8ms/step - loss: 93240729600.0000 - val_loss: 89150021632.0000\n",
            "Epoch 129/1000\n",
            "4/4 [==============================] - 0s 16ms/step - loss: 93240721408.0000 - val_loss: 89150021632.0000\n",
            "Epoch 130/1000\n",
            "4/4 [==============================] - 0s 11ms/step - loss: 93240721408.0000 - val_loss: 89150013440.0000\n",
            "Epoch 131/1000\n",
            "4/4 [==============================] - 0s 9ms/step - loss: 93240713216.0000 - val_loss: 89150013440.0000\n",
            "Epoch 132/1000\n",
            "4/4 [==============================] - 0s 8ms/step - loss: 93240721408.0000 - val_loss: 89150013440.0000\n",
            "Epoch 133/1000\n",
            "4/4 [==============================] - 0s 9ms/step - loss: 93240721408.0000 - val_loss: 89150013440.0000\n",
            "Epoch 134/1000\n",
            "4/4 [==============================] - 0s 9ms/step - loss: 93240713216.0000 - val_loss: 89150013440.0000\n",
            "Epoch 135/1000\n",
            "4/4 [==============================] - 0s 10ms/step - loss: 93240721408.0000 - val_loss: 89150013440.0000\n",
            "Epoch 136/1000\n",
            "4/4 [==============================] - 0s 9ms/step - loss: 93240721408.0000 - val_loss: 89150005248.0000\n",
            "Epoch 137/1000\n",
            "4/4 [==============================] - 0s 9ms/step - loss: 93240713216.0000 - val_loss: 89150005248.0000\n",
            "Epoch 138/1000\n",
            "4/4 [==============================] - 0s 10ms/step - loss: 93240705024.0000 - val_loss: 89149997056.0000\n",
            "Epoch 139/1000\n",
            "4/4 [==============================] - 0s 9ms/step - loss: 93240688640.0000 - val_loss: 89149997056.0000\n",
            "Epoch 140/1000\n",
            "4/4 [==============================] - 0s 8ms/step - loss: 93240688640.0000 - val_loss: 89149988864.0000\n",
            "Epoch 141/1000\n",
            "4/4 [==============================] - 0s 9ms/step - loss: 93240705024.0000 - val_loss: 89149988864.0000\n",
            "Epoch 142/1000\n",
            "4/4 [==============================] - 0s 10ms/step - loss: 93240688640.0000 - val_loss: 89149988864.0000\n",
            "Epoch 143/1000\n",
            "4/4 [==============================] - 0s 10ms/step - loss: 93240688640.0000 - val_loss: 89149988864.0000\n",
            "Epoch 144/1000\n",
            "4/4 [==============================] - 0s 9ms/step - loss: 93240688640.0000 - val_loss: 89149980672.0000\n",
            "Epoch 145/1000\n",
            "4/4 [==============================] - 0s 9ms/step - loss: 93240688640.0000 - val_loss: 89149980672.0000\n",
            "Epoch 146/1000\n",
            "4/4 [==============================] - 0s 8ms/step - loss: 93240688640.0000 - val_loss: 89149980672.0000\n",
            "Epoch 147/1000\n",
            "4/4 [==============================] - 0s 8ms/step - loss: 93240680448.0000 - val_loss: 89149980672.0000\n",
            "Epoch 148/1000\n",
            "4/4 [==============================] - 0s 10ms/step - loss: 93240680448.0000 - val_loss: 89149980672.0000\n",
            "Epoch 149/1000\n",
            "4/4 [==============================] - 0s 9ms/step - loss: 93240680448.0000 - val_loss: 89149980672.0000\n",
            "Epoch 150/1000\n",
            "4/4 [==============================] - 0s 9ms/step - loss: 93240672256.0000 - val_loss: 89149980672.0000\n",
            "Epoch 151/1000\n",
            "4/4 [==============================] - 0s 8ms/step - loss: 93240680448.0000 - val_loss: 89149980672.0000\n",
            "Epoch 152/1000\n",
            "4/4 [==============================] - 0s 8ms/step - loss: 93240664064.0000 - val_loss: 89149964288.0000\n",
            "Epoch 153/1000\n",
            "4/4 [==============================] - 0s 10ms/step - loss: 93240672256.0000 - val_loss: 89149964288.0000\n",
            "Epoch 154/1000\n",
            "4/4 [==============================] - 0s 10ms/step - loss: 93240664064.0000 - val_loss: 89149964288.0000\n",
            "Epoch 155/1000\n",
            "4/4 [==============================] - 0s 8ms/step - loss: 93240664064.0000 - val_loss: 89149956096.0000\n",
            "Epoch 156/1000\n",
            "4/4 [==============================] - 0s 10ms/step - loss: 93240647680.0000 - val_loss: 89149956096.0000\n",
            "Epoch 157/1000\n",
            "4/4 [==============================] - 0s 9ms/step - loss: 93240664064.0000 - val_loss: 89149956096.0000\n",
            "Epoch 158/1000\n",
            "4/4 [==============================] - 0s 11ms/step - loss: 93240664064.0000 - val_loss: 89149956096.0000\n",
            "Epoch 159/1000\n",
            "4/4 [==============================] - 0s 9ms/step - loss: 93240664064.0000 - val_loss: 89149947904.0000\n",
            "Epoch 160/1000\n",
            "4/4 [==============================] - 0s 8ms/step - loss: 93240664064.0000 - val_loss: 89149947904.0000\n",
            "Epoch 161/1000\n",
            "4/4 [==============================] - 0s 8ms/step - loss: 93240664064.0000 - val_loss: 89149939712.0000\n",
            "Epoch 162/1000\n",
            "4/4 [==============================] - 0s 9ms/step - loss: 93240647680.0000 - val_loss: 89149939712.0000\n",
            "Epoch 163/1000\n",
            "4/4 [==============================] - 0s 9ms/step - loss: 93240639488.0000 - val_loss: 89149931520.0000\n",
            "Epoch 164/1000\n",
            "4/4 [==============================] - 0s 9ms/step - loss: 93240639488.0000 - val_loss: 89149931520.0000\n",
            "Epoch 165/1000\n",
            "4/4 [==============================] - 0s 12ms/step - loss: 93240639488.0000 - val_loss: 89149931520.0000\n",
            "Epoch 166/1000\n",
            "4/4 [==============================] - 0s 10ms/step - loss: 93240639488.0000 - val_loss: 89149931520.0000\n",
            "Epoch 167/1000\n",
            "4/4 [==============================] - 0s 9ms/step - loss: 93240631296.0000 - val_loss: 89149931520.0000\n",
            "Epoch 168/1000\n",
            "4/4 [==============================] - 0s 12ms/step - loss: 93240639488.0000 - val_loss: 89149931520.0000\n",
            "Epoch 169/1000\n",
            "4/4 [==============================] - 0s 11ms/step - loss: 93240631296.0000 - val_loss: 89149915136.0000\n",
            "Epoch 170/1000\n",
            "4/4 [==============================] - 0s 8ms/step - loss: 93240631296.0000 - val_loss: 89149915136.0000\n",
            "Epoch 171/1000\n",
            "4/4 [==============================] - 0s 11ms/step - loss: 93240631296.0000 - val_loss: 89149915136.0000\n",
            "Epoch 172/1000\n",
            "4/4 [==============================] - 0s 10ms/step - loss: 93240623104.0000 - val_loss: 89149915136.0000\n",
            "Epoch 173/1000\n",
            "4/4 [==============================] - 0s 9ms/step - loss: 93240631296.0000 - val_loss: 89149915136.0000\n",
            "Epoch 174/1000\n",
            "4/4 [==============================] - 0s 10ms/step - loss: 93240623104.0000 - val_loss: 89149915136.0000\n",
            "Epoch 175/1000\n",
            "4/4 [==============================] - 0s 11ms/step - loss: 93240623104.0000 - val_loss: 89149915136.0000\n",
            "Epoch 176/1000\n",
            "4/4 [==============================] - 0s 10ms/step - loss: 93240606720.0000 - val_loss: 89149915136.0000\n",
            "Epoch 177/1000\n",
            "4/4 [==============================] - 0s 10ms/step - loss: 93240623104.0000 - val_loss: 89149898752.0000\n",
            "Epoch 178/1000\n",
            "4/4 [==============================] - 0s 10ms/step - loss: 93240623104.0000 - val_loss: 89149898752.0000\n",
            "Epoch 179/1000\n",
            "4/4 [==============================] - 0s 11ms/step - loss: 93240598528.0000 - val_loss: 89149898752.0000\n",
            "Epoch 180/1000\n",
            "4/4 [==============================] - 0s 9ms/step - loss: 93240606720.0000 - val_loss: 89149898752.0000\n",
            "Epoch 181/1000\n",
            "4/4 [==============================] - 0s 10ms/step - loss: 93240606720.0000 - val_loss: 89149898752.0000\n",
            "Epoch 182/1000\n",
            "4/4 [==============================] - 0s 9ms/step - loss: 93240598528.0000 - val_loss: 89149898752.0000\n",
            "Epoch 183/1000\n",
            "4/4 [==============================] - 0s 11ms/step - loss: 93240606720.0000 - val_loss: 89149898752.0000\n",
            "Epoch 184/1000\n",
            "4/4 [==============================] - 0s 10ms/step - loss: 93240598528.0000 - val_loss: 89149898752.0000\n",
            "Epoch 185/1000\n",
            "4/4 [==============================] - 0s 10ms/step - loss: 93240590336.0000 - val_loss: 89149882368.0000\n",
            "Epoch 186/1000\n",
            "4/4 [==============================] - 0s 11ms/step - loss: 93240590336.0000 - val_loss: 89149882368.0000\n",
            "Epoch 187/1000\n",
            "4/4 [==============================] - 0s 11ms/step - loss: 93240590336.0000 - val_loss: 89149882368.0000\n",
            "Epoch 188/1000\n",
            "4/4 [==============================] - 0s 10ms/step - loss: 93240590336.0000 - val_loss: 89149882368.0000\n",
            "Epoch 189/1000\n",
            "4/4 [==============================] - 0s 9ms/step - loss: 93240582144.0000 - val_loss: 89149882368.0000\n",
            "Epoch 190/1000\n",
            "4/4 [==============================] - 0s 13ms/step - loss: 93240582144.0000 - val_loss: 89149882368.0000\n",
            "Epoch 191/1000\n",
            "4/4 [==============================] - 0s 9ms/step - loss: 93240590336.0000 - val_loss: 89149882368.0000\n",
            "Epoch 192/1000\n",
            "4/4 [==============================] - 0s 8ms/step - loss: 93240582144.0000 - val_loss: 89149882368.0000\n",
            "Epoch 193/1000\n",
            "4/4 [==============================] - 0s 8ms/step - loss: 93240582144.0000 - val_loss: 89149865984.0000\n",
            "Epoch 194/1000\n",
            "4/4 [==============================] - 0s 9ms/step - loss: 93240582144.0000 - val_loss: 89149865984.0000\n",
            "Epoch 195/1000\n",
            "4/4 [==============================] - 0s 10ms/step - loss: 93240565760.0000 - val_loss: 89149865984.0000\n",
            "Epoch 196/1000\n",
            "4/4 [==============================] - 0s 8ms/step - loss: 93240582144.0000 - val_loss: 89149865984.0000\n",
            "Epoch 197/1000\n",
            "4/4 [==============================] - 0s 8ms/step - loss: 93240565760.0000 - val_loss: 89149865984.0000\n",
            "Epoch 198/1000\n",
            "4/4 [==============================] - 0s 8ms/step - loss: 93240557568.0000 - val_loss: 89149865984.0000\n",
            "Epoch 199/1000\n",
            "4/4 [==============================] - 0s 9ms/step - loss: 93240557568.0000 - val_loss: 89149865984.0000\n",
            "Epoch 200/1000\n",
            "4/4 [==============================] - 0s 16ms/step - loss: 93240565760.0000 - val_loss: 89149849600.0000\n",
            "Epoch 201/1000\n",
            "4/4 [==============================] - 0s 10ms/step - loss: 93240557568.0000 - val_loss: 89149849600.0000\n",
            "Epoch 202/1000\n",
            "4/4 [==============================] - 0s 13ms/step - loss: 93240557568.0000 - val_loss: 89149849600.0000\n",
            "Epoch 203/1000\n",
            "4/4 [==============================] - 0s 9ms/step - loss: 93240557568.0000 - val_loss: 89149849600.0000\n",
            "Epoch 204/1000\n",
            "4/4 [==============================] - 0s 10ms/step - loss: 93240549376.0000 - val_loss: 89149849600.0000\n",
            "Epoch 205/1000\n",
            "4/4 [==============================] - 0s 9ms/step - loss: 93240549376.0000 - val_loss: 89149849600.0000\n",
            "Epoch 206/1000\n",
            "4/4 [==============================] - 0s 10ms/step - loss: 93240557568.0000 - val_loss: 89149849600.0000\n",
            "Epoch 207/1000\n",
            "4/4 [==============================] - 0s 9ms/step - loss: 93240557568.0000 - val_loss: 89149849600.0000\n",
            "Epoch 208/1000\n",
            "4/4 [==============================] - 0s 10ms/step - loss: 93240541184.0000 - val_loss: 89149833216.0000\n",
            "Epoch 209/1000\n",
            "4/4 [==============================] - 0s 10ms/step - loss: 93240541184.0000 - val_loss: 89149833216.0000\n",
            "Epoch 210/1000\n",
            "4/4 [==============================] - 0s 11ms/step - loss: 93240541184.0000 - val_loss: 89149833216.0000\n",
            "Epoch 211/1000\n",
            "4/4 [==============================] - 0s 9ms/step - loss: 93240524800.0000 - val_loss: 89149833216.0000\n",
            "Epoch 212/1000\n",
            "4/4 [==============================] - 0s 10ms/step - loss: 93240541184.0000 - val_loss: 89149825024.0000\n",
            "Epoch 213/1000\n",
            "4/4 [==============================] - 0s 11ms/step - loss: 93240524800.0000 - val_loss: 89149825024.0000\n",
            "Epoch 214/1000\n",
            "4/4 [==============================] - 0s 9ms/step - loss: 93240524800.0000 - val_loss: 89149825024.0000\n",
            "Epoch 215/1000\n",
            "4/4 [==============================] - 0s 10ms/step - loss: 93240524800.0000 - val_loss: 89149825024.0000\n",
            "Epoch 216/1000\n",
            "4/4 [==============================] - 0s 11ms/step - loss: 93240516608.0000 - val_loss: 89149816832.0000\n",
            "Epoch 217/1000\n",
            "4/4 [==============================] - 0s 16ms/step - loss: 93240508416.0000 - val_loss: 89149816832.0000\n",
            "Epoch 218/1000\n",
            "4/4 [==============================] - 0s 10ms/step - loss: 93240516608.0000 - val_loss: 89149816832.0000\n",
            "Epoch 219/1000\n",
            "4/4 [==============================] - 0s 9ms/step - loss: 93240516608.0000 - val_loss: 89149816832.0000\n",
            "Epoch 220/1000\n",
            "4/4 [==============================] - 0s 9ms/step - loss: 93240516608.0000 - val_loss: 89149816832.0000\n",
            "Epoch 221/1000\n",
            "4/4 [==============================] - 0s 10ms/step - loss: 93240508416.0000 - val_loss: 89149816832.0000\n",
            "Epoch 222/1000\n",
            "4/4 [==============================] - 0s 9ms/step - loss: 93240508416.0000 - val_loss: 89149808640.0000\n",
            "Epoch 223/1000\n",
            "4/4 [==============================] - 0s 9ms/step - loss: 93240508416.0000 - val_loss: 89149808640.0000\n",
            "Epoch 224/1000\n",
            "4/4 [==============================] - 0s 10ms/step - loss: 93240516608.0000 - val_loss: 89149800448.0000\n",
            "Epoch 225/1000\n",
            "4/4 [==============================] - 0s 16ms/step - loss: 93240500224.0000 - val_loss: 89149792256.0000\n",
            "Epoch 226/1000\n",
            "4/4 [==============================] - 0s 9ms/step - loss: 93240508416.0000 - val_loss: 89149792256.0000\n",
            "Epoch 227/1000\n",
            "4/4 [==============================] - 0s 11ms/step - loss: 93240500224.0000 - val_loss: 89149792256.0000\n",
            "Epoch 228/1000\n",
            "4/4 [==============================] - 0s 9ms/step - loss: 93240483840.0000 - val_loss: 89149792256.0000\n",
            "Epoch 229/1000\n",
            "4/4 [==============================] - 0s 9ms/step - loss: 93240500224.0000 - val_loss: 89149792256.0000\n",
            "Epoch 230/1000\n",
            "4/4 [==============================] - 0s 9ms/step - loss: 93240500224.0000 - val_loss: 89149784064.0000\n",
            "Epoch 231/1000\n",
            "4/4 [==============================] - 0s 10ms/step - loss: 93240483840.0000 - val_loss: 89149784064.0000\n",
            "Epoch 232/1000\n",
            "4/4 [==============================] - 0s 9ms/step - loss: 93240483840.0000 - val_loss: 89149784064.0000\n",
            "Epoch 233/1000\n",
            "4/4 [==============================] - 0s 9ms/step - loss: 93240475648.0000 - val_loss: 89149784064.0000\n",
            "Epoch 234/1000\n",
            "4/4 [==============================] - 0s 9ms/step - loss: 93240475648.0000 - val_loss: 89149767680.0000\n",
            "Epoch 235/1000\n",
            "4/4 [==============================] - 0s 11ms/step - loss: 93240475648.0000 - val_loss: 89149767680.0000\n",
            "Epoch 236/1000\n",
            "4/4 [==============================] - 0s 11ms/step - loss: 93240475648.0000 - val_loss: 89149767680.0000\n",
            "Epoch 237/1000\n",
            "4/4 [==============================] - 0s 9ms/step - loss: 93240483840.0000 - val_loss: 89149767680.0000\n",
            "Epoch 238/1000\n",
            "4/4 [==============================] - 0s 9ms/step - loss: 93240467456.0000 - val_loss: 89149767680.0000\n",
            "Epoch 239/1000\n",
            "4/4 [==============================] - 0s 10ms/step - loss: 93240475648.0000 - val_loss: 89149767680.0000\n",
            "Epoch 240/1000\n",
            "4/4 [==============================] - 0s 10ms/step - loss: 93240467456.0000 - val_loss: 89149759488.0000\n",
            "Epoch 241/1000\n",
            "4/4 [==============================] - 0s 9ms/step - loss: 93240459264.0000 - val_loss: 89149759488.0000\n",
            "Epoch 242/1000\n",
            "4/4 [==============================] - 0s 9ms/step - loss: 93240459264.0000 - val_loss: 89149759488.0000\n",
            "Epoch 243/1000\n",
            "4/4 [==============================] - 0s 11ms/step - loss: 93240459264.0000 - val_loss: 89149759488.0000\n",
            "Epoch 244/1000\n",
            "4/4 [==============================] - 0s 8ms/step - loss: 93240459264.0000 - val_loss: 89149759488.0000\n",
            "Epoch 245/1000\n",
            "4/4 [==============================] - 0s 9ms/step - loss: 93240459264.0000 - val_loss: 89149759488.0000\n",
            "Epoch 246/1000\n",
            "4/4 [==============================] - 0s 10ms/step - loss: 93240442880.0000 - val_loss: 89149759488.0000\n",
            "Epoch 247/1000\n",
            "4/4 [==============================] - 0s 9ms/step - loss: 93240459264.0000 - val_loss: 89149759488.0000\n",
            "Epoch 248/1000\n",
            "4/4 [==============================] - 0s 8ms/step - loss: 93240459264.0000 - val_loss: 89149743104.0000\n",
            "Epoch 249/1000\n",
            "4/4 [==============================] - 0s 9ms/step - loss: 93240459264.0000 - val_loss: 89149743104.0000\n",
            "Epoch 250/1000\n",
            "4/4 [==============================] - 0s 8ms/step - loss: 93240442880.0000 - val_loss: 89149743104.0000\n",
            "Epoch 251/1000\n",
            "4/4 [==============================] - 0s 10ms/step - loss: 93240442880.0000 - val_loss: 89149743104.0000\n",
            "Epoch 252/1000\n",
            "4/4 [==============================] - 0s 13ms/step - loss: 93240434688.0000 - val_loss: 89149743104.0000\n",
            "Epoch 253/1000\n",
            "4/4 [==============================] - 0s 10ms/step - loss: 93240442880.0000 - val_loss: 89149743104.0000\n",
            "Epoch 254/1000\n",
            "4/4 [==============================] - 0s 8ms/step - loss: 93240434688.0000 - val_loss: 89149734912.0000\n",
            "Epoch 255/1000\n",
            "4/4 [==============================] - 0s 9ms/step - loss: 93240426496.0000 - val_loss: 89149734912.0000\n",
            "Epoch 256/1000\n",
            "4/4 [==============================] - 0s 10ms/step - loss: 93240434688.0000 - val_loss: 89149718528.0000\n",
            "Epoch 257/1000\n",
            "4/4 [==============================] - 0s 8ms/step - loss: 93240434688.0000 - val_loss: 89149718528.0000\n",
            "Epoch 258/1000\n",
            "4/4 [==============================] - 0s 10ms/step - loss: 93240426496.0000 - val_loss: 89149718528.0000\n",
            "Epoch 259/1000\n",
            "4/4 [==============================] - 0s 10ms/step - loss: 93240426496.0000 - val_loss: 89149718528.0000\n",
            "Epoch 260/1000\n",
            "4/4 [==============================] - 0s 9ms/step - loss: 93240426496.0000 - val_loss: 89149718528.0000\n",
            "Epoch 261/1000\n",
            "4/4 [==============================] - 0s 9ms/step - loss: 93240426496.0000 - val_loss: 89149718528.0000\n",
            "Epoch 262/1000\n",
            "4/4 [==============================] - 0s 15ms/step - loss: 93240426496.0000 - val_loss: 89149718528.0000\n",
            "Epoch 263/1000\n",
            "4/4 [==============================] - 0s 15ms/step - loss: 93240418304.0000 - val_loss: 89149710336.0000\n",
            "Epoch 264/1000\n",
            "4/4 [==============================] - 0s 11ms/step - loss: 93240410112.0000 - val_loss: 89149710336.0000\n",
            "Epoch 265/1000\n",
            "4/4 [==============================] - 0s 11ms/step - loss: 93240418304.0000 - val_loss: 89149710336.0000\n",
            "Epoch 266/1000\n",
            "4/4 [==============================] - 0s 10ms/step - loss: 93240410112.0000 - val_loss: 89149710336.0000\n",
            "Epoch 267/1000\n",
            "4/4 [==============================] - 0s 10ms/step - loss: 93240393728.0000 - val_loss: 89149710336.0000\n",
            "Epoch 268/1000\n",
            "4/4 [==============================] - 0s 11ms/step - loss: 93240393728.0000 - val_loss: 89149710336.0000\n",
            "Epoch 269/1000\n",
            "4/4 [==============================] - 0s 10ms/step - loss: 93240393728.0000 - val_loss: 89149702144.0000\n",
            "Epoch 270/1000\n",
            "4/4 [==============================] - 0s 8ms/step - loss: 93240410112.0000 - val_loss: 89149702144.0000\n",
            "Epoch 271/1000\n",
            "4/4 [==============================] - 0s 10ms/step - loss: 93240410112.0000 - val_loss: 89149685760.0000\n",
            "Epoch 272/1000\n",
            "4/4 [==============================] - 0s 10ms/step - loss: 93240393728.0000 - val_loss: 89149685760.0000\n",
            "Epoch 273/1000\n",
            "4/4 [==============================] - 0s 9ms/step - loss: 93240385536.0000 - val_loss: 89149685760.0000\n",
            "Epoch 274/1000\n",
            "4/4 [==============================] - 0s 9ms/step - loss: 93240385536.0000 - val_loss: 89149685760.0000\n",
            "Epoch 275/1000\n",
            "4/4 [==============================] - 0s 10ms/step - loss: 93240385536.0000 - val_loss: 89149677568.0000\n",
            "Epoch 276/1000\n",
            "4/4 [==============================] - 0s 11ms/step - loss: 93240393728.0000 - val_loss: 89149677568.0000\n",
            "Epoch 277/1000\n",
            "4/4 [==============================] - 0s 11ms/step - loss: 93240385536.0000 - val_loss: 89149677568.0000\n",
            "Epoch 278/1000\n",
            "4/4 [==============================] - 0s 9ms/step - loss: 93240385536.0000 - val_loss: 89149677568.0000\n",
            "Epoch 279/1000\n",
            "4/4 [==============================] - 0s 11ms/step - loss: 93240385536.0000 - val_loss: 89149677568.0000\n",
            "Epoch 280/1000\n",
            "4/4 [==============================] - 0s 11ms/step - loss: 93240377344.0000 - val_loss: 89149677568.0000\n",
            "Epoch 281/1000\n",
            "4/4 [==============================] - 0s 10ms/step - loss: 93240377344.0000 - val_loss: 89149661184.0000\n",
            "Epoch 282/1000\n",
            "4/4 [==============================] - 0s 11ms/step - loss: 93240377344.0000 - val_loss: 89149661184.0000\n",
            "Epoch 283/1000\n",
            "4/4 [==============================] - 0s 11ms/step - loss: 93240369152.0000 - val_loss: 89149661184.0000\n",
            "Epoch 284/1000\n",
            "4/4 [==============================] - 0s 10ms/step - loss: 93240369152.0000 - val_loss: 89149661184.0000\n",
            "Epoch 285/1000\n",
            "4/4 [==============================] - 0s 9ms/step - loss: 93240369152.0000 - val_loss: 89149661184.0000\n",
            "Epoch 286/1000\n",
            "4/4 [==============================] - 0s 10ms/step - loss: 93240369152.0000 - val_loss: 89149661184.0000\n",
            "Epoch 287/1000\n",
            "4/4 [==============================] - 0s 10ms/step - loss: 93240369152.0000 - val_loss: 89149661184.0000\n",
            "Epoch 288/1000\n",
            "4/4 [==============================] - 0s 12ms/step - loss: 93240352768.0000 - val_loss: 89149661184.0000\n",
            "Epoch 289/1000\n",
            "4/4 [==============================] - 0s 11ms/step - loss: 93240352768.0000 - val_loss: 89149636608.0000\n",
            "Epoch 290/1000\n",
            "4/4 [==============================] - 0s 10ms/step - loss: 93240352768.0000 - val_loss: 89149636608.0000\n",
            "Epoch 291/1000\n",
            "4/4 [==============================] - 0s 10ms/step - loss: 93240352768.0000 - val_loss: 89149636608.0000\n",
            "Epoch 292/1000\n",
            "4/4 [==============================] - 0s 10ms/step - loss: 93240344576.0000 - val_loss: 89149636608.0000\n",
            "Epoch 293/1000\n",
            "4/4 [==============================] - 0s 15ms/step - loss: 93240344576.0000 - val_loss: 89149636608.0000\n",
            "Epoch 294/1000\n",
            "4/4 [==============================] - 0s 9ms/step - loss: 93240352768.0000 - val_loss: 89149636608.0000\n",
            "Epoch 295/1000\n",
            "4/4 [==============================] - 0s 9ms/step - loss: 93240336384.0000 - val_loss: 89149636608.0000\n",
            "Epoch 296/1000\n",
            "4/4 [==============================] - 0s 9ms/step - loss: 93240336384.0000 - val_loss: 89149636608.0000\n",
            "Epoch 297/1000\n",
            "4/4 [==============================] - 0s 9ms/step - loss: 93240328192.0000 - val_loss: 89149628416.0000\n",
            "Epoch 298/1000\n",
            "4/4 [==============================] - 0s 13ms/step - loss: 93240328192.0000 - val_loss: 89149628416.0000\n",
            "Epoch 299/1000\n",
            "4/4 [==============================] - 0s 9ms/step - loss: 93240336384.0000 - val_loss: 89149628416.0000\n",
            "Epoch 300/1000\n",
            "4/4 [==============================] - 0s 10ms/step - loss: 93240336384.0000 - val_loss: 89149628416.0000\n",
            "Epoch 301/1000\n",
            "4/4 [==============================] - 0s 10ms/step - loss: 93240328192.0000 - val_loss: 89149628416.0000\n",
            "Epoch 302/1000\n",
            "4/4 [==============================] - 0s 9ms/step - loss: 93240336384.0000 - val_loss: 89149628416.0000\n",
            "Epoch 303/1000\n",
            "4/4 [==============================] - 0s 10ms/step - loss: 93240328192.0000 - val_loss: 89149620224.0000\n",
            "Epoch 304/1000\n",
            "4/4 [==============================] - 0s 12ms/step - loss: 93240311808.0000 - val_loss: 89149620224.0000\n",
            "Epoch 305/1000\n",
            "4/4 [==============================] - 0s 9ms/step - loss: 93240328192.0000 - val_loss: 89149612032.0000\n",
            "Epoch 306/1000\n",
            "4/4 [==============================] - 0s 8ms/step - loss: 93240311808.0000 - val_loss: 89149612032.0000\n",
            "Epoch 307/1000\n",
            "4/4 [==============================] - 0s 9ms/step - loss: 93240311808.0000 - val_loss: 89149612032.0000\n",
            "Epoch 308/1000\n",
            "4/4 [==============================] - 0s 16ms/step - loss: 93240311808.0000 - val_loss: 89149612032.0000\n",
            "Epoch 309/1000\n",
            "4/4 [==============================] - 0s 10ms/step - loss: 93240311808.0000 - val_loss: 89149612032.0000\n",
            "Epoch 310/1000\n",
            "4/4 [==============================] - 0s 9ms/step - loss: 93240303616.0000 - val_loss: 89149595648.0000\n",
            "Epoch 311/1000\n",
            "4/4 [==============================] - 0s 11ms/step - loss: 93240303616.0000 - val_loss: 89149595648.0000\n",
            "Epoch 312/1000\n",
            "4/4 [==============================] - 0s 10ms/step - loss: 93240295424.0000 - val_loss: 89149595648.0000\n",
            "Epoch 313/1000\n",
            "4/4 [==============================] - 0s 14ms/step - loss: 93240295424.0000 - val_loss: 89149595648.0000\n",
            "Epoch 314/1000\n",
            "4/4 [==============================] - 0s 11ms/step - loss: 93240295424.0000 - val_loss: 89149595648.0000\n",
            "Epoch 315/1000\n",
            "4/4 [==============================] - 0s 10ms/step - loss: 93240295424.0000 - val_loss: 89149595648.0000\n",
            "Epoch 316/1000\n",
            "4/4 [==============================] - 0s 10ms/step - loss: 93240295424.0000 - val_loss: 89149595648.0000\n",
            "Epoch 317/1000\n",
            "4/4 [==============================] - 0s 8ms/step - loss: 93240295424.0000 - val_loss: 89149595648.0000\n",
            "Epoch 318/1000\n",
            "4/4 [==============================] - 0s 10ms/step - loss: 93240303616.0000 - val_loss: 89149579264.0000\n",
            "Epoch 319/1000\n",
            "4/4 [==============================] - 0s 11ms/step - loss: 93240270848.0000 - val_loss: 89149579264.0000\n",
            "Epoch 320/1000\n",
            "4/4 [==============================] - 0s 11ms/step - loss: 93240295424.0000 - val_loss: 89149579264.0000\n",
            "Epoch 321/1000\n",
            "4/4 [==============================] - 0s 9ms/step - loss: 93240287232.0000 - val_loss: 89149579264.0000\n",
            "Epoch 322/1000\n",
            "4/4 [==============================] - 0s 10ms/step - loss: 93240270848.0000 - val_loss: 89149579264.0000\n",
            "Epoch 323/1000\n",
            "4/4 [==============================] - 0s 10ms/step - loss: 93240270848.0000 - val_loss: 89149579264.0000\n",
            "Epoch 324/1000\n",
            "4/4 [==============================] - 0s 10ms/step - loss: 93240287232.0000 - val_loss: 89149571072.0000\n",
            "Epoch 325/1000\n",
            "4/4 [==============================] - 0s 11ms/step - loss: 93240270848.0000 - val_loss: 89149571072.0000\n",
            "Epoch 326/1000\n",
            "4/4 [==============================] - 0s 11ms/step - loss: 93240270848.0000 - val_loss: 89149562880.0000\n",
            "Epoch 327/1000\n",
            "4/4 [==============================] - 0s 10ms/step - loss: 93240262656.0000 - val_loss: 89149562880.0000\n",
            "Epoch 328/1000\n",
            "4/4 [==============================] - 0s 9ms/step - loss: 93240262656.0000 - val_loss: 89149562880.0000\n",
            "Epoch 329/1000\n",
            "4/4 [==============================] - 0s 9ms/step - loss: 93240262656.0000 - val_loss: 89149562880.0000\n",
            "Epoch 330/1000\n",
            "4/4 [==============================] - 0s 11ms/step - loss: 93240262656.0000 - val_loss: 89149562880.0000\n",
            "Epoch 331/1000\n",
            "4/4 [==============================] - 0s 11ms/step - loss: 93240262656.0000 - val_loss: 89149562880.0000\n",
            "Epoch 332/1000\n",
            "4/4 [==============================] - 0s 10ms/step - loss: 93240262656.0000 - val_loss: 89149554688.0000\n",
            "Epoch 333/1000\n",
            "4/4 [==============================] - 0s 12ms/step - loss: 93240254464.0000 - val_loss: 89149554688.0000\n",
            "Epoch 334/1000\n",
            "4/4 [==============================] - 0s 15ms/step - loss: 93240254464.0000 - val_loss: 89149546496.0000\n",
            "Epoch 335/1000\n",
            "4/4 [==============================] - 0s 9ms/step - loss: 93240246272.0000 - val_loss: 89149546496.0000\n",
            "Epoch 336/1000\n",
            "4/4 [==============================] - 0s 10ms/step - loss: 93240246272.0000 - val_loss: 89149546496.0000\n",
            "Epoch 337/1000\n",
            "4/4 [==============================] - 0s 9ms/step - loss: 93240246272.0000 - val_loss: 89149546496.0000\n",
            "Epoch 338/1000\n",
            "4/4 [==============================] - 0s 14ms/step - loss: 93240254464.0000 - val_loss: 89149538304.0000\n",
            "Epoch 339/1000\n",
            "4/4 [==============================] - 0s 10ms/step - loss: 93240246272.0000 - val_loss: 89149538304.0000\n",
            "Epoch 340/1000\n",
            "4/4 [==============================] - 0s 9ms/step - loss: 93240246272.0000 - val_loss: 89149538304.0000\n",
            "Epoch 341/1000\n",
            "4/4 [==============================] - 0s 9ms/step - loss: 93240246272.0000 - val_loss: 89149538304.0000\n",
            "Epoch 342/1000\n",
            "4/4 [==============================] - 0s 11ms/step - loss: 93240229888.0000 - val_loss: 89149530112.0000\n",
            "Epoch 343/1000\n",
            "4/4 [==============================] - 0s 17ms/step - loss: 93240229888.0000 - val_loss: 89149530112.0000\n",
            "Epoch 344/1000\n",
            "4/4 [==============================] - 0s 9ms/step - loss: 93240229888.0000 - val_loss: 89149521920.0000\n",
            "Epoch 345/1000\n",
            "4/4 [==============================] - 0s 11ms/step - loss: 93240213504.0000 - val_loss: 89149521920.0000\n",
            "Epoch 346/1000\n",
            "4/4 [==============================] - 0s 12ms/step - loss: 93240229888.0000 - val_loss: 89149521920.0000\n",
            "Epoch 347/1000\n",
            "4/4 [==============================] - 0s 10ms/step - loss: 93240229888.0000 - val_loss: 89149521920.0000\n",
            "Epoch 348/1000\n",
            "4/4 [==============================] - 0s 12ms/step - loss: 93240221696.0000 - val_loss: 89149513728.0000\n",
            "Epoch 349/1000\n",
            "4/4 [==============================] - 0s 11ms/step - loss: 93240221696.0000 - val_loss: 89149513728.0000\n",
            "Epoch 350/1000\n",
            "4/4 [==============================] - 0s 11ms/step - loss: 93240213504.0000 - val_loss: 89149505536.0000\n",
            "Epoch 351/1000\n",
            "4/4 [==============================] - 0s 10ms/step - loss: 93240213504.0000 - val_loss: 89149505536.0000\n",
            "Epoch 352/1000\n",
            "4/4 [==============================] - 0s 9ms/step - loss: 93240213504.0000 - val_loss: 89149497344.0000\n",
            "Epoch 353/1000\n",
            "4/4 [==============================] - 0s 12ms/step - loss: 93240213504.0000 - val_loss: 89149497344.0000\n",
            "Epoch 354/1000\n",
            "4/4 [==============================] - 0s 11ms/step - loss: 93240213504.0000 - val_loss: 89149497344.0000\n",
            "Epoch 355/1000\n",
            "4/4 [==============================] - 0s 15ms/step - loss: 93240205312.0000 - val_loss: 89149497344.0000\n",
            "Epoch 356/1000\n",
            "4/4 [==============================] - 0s 11ms/step - loss: 93240205312.0000 - val_loss: 89149497344.0000\n",
            "Epoch 357/1000\n",
            "4/4 [==============================] - 0s 10ms/step - loss: 93240205312.0000 - val_loss: 89149489152.0000\n",
            "Epoch 358/1000\n",
            "4/4 [==============================] - 0s 12ms/step - loss: 93240188928.0000 - val_loss: 89149489152.0000\n",
            "Epoch 359/1000\n",
            "4/4 [==============================] - 0s 10ms/step - loss: 93240188928.0000 - val_loss: 89149489152.0000\n",
            "Epoch 360/1000\n",
            "4/4 [==============================] - 0s 10ms/step - loss: 93240188928.0000 - val_loss: 89149489152.0000\n",
            "Epoch 361/1000\n",
            "4/4 [==============================] - 0s 12ms/step - loss: 93240188928.0000 - val_loss: 89149489152.0000\n",
            "Epoch 362/1000\n",
            "4/4 [==============================] - 0s 12ms/step - loss: 93240180736.0000 - val_loss: 89149489152.0000\n",
            "Epoch 363/1000\n",
            "4/4 [==============================] - 0s 11ms/step - loss: 93240188928.0000 - val_loss: 89149480960.0000\n",
            "Epoch 364/1000\n",
            "4/4 [==============================] - 0s 10ms/step - loss: 93240180736.0000 - val_loss: 89149480960.0000\n",
            "Epoch 365/1000\n",
            "4/4 [==============================] - 0s 12ms/step - loss: 93240188928.0000 - val_loss: 89149472768.0000\n",
            "Epoch 366/1000\n",
            "4/4 [==============================] - 0s 10ms/step - loss: 93240172544.0000 - val_loss: 89149472768.0000\n",
            "Epoch 367/1000\n",
            "4/4 [==============================] - 0s 9ms/step - loss: 93240180736.0000 - val_loss: 89149464576.0000\n",
            "Epoch 368/1000\n",
            "4/4 [==============================] - 0s 16ms/step - loss: 93240172544.0000 - val_loss: 89149464576.0000\n",
            "Epoch 369/1000\n",
            "4/4 [==============================] - 0s 18ms/step - loss: 93240180736.0000 - val_loss: 89149464576.0000\n",
            "Epoch 370/1000\n",
            "4/4 [==============================] - 0s 10ms/step - loss: 93240172544.0000 - val_loss: 89149464576.0000\n",
            "Epoch 371/1000\n",
            "4/4 [==============================] - 0s 11ms/step - loss: 93240164352.0000 - val_loss: 89149464576.0000\n",
            "Epoch 372/1000\n",
            "4/4 [==============================] - 0s 10ms/step - loss: 93240164352.0000 - val_loss: 89149464576.0000\n",
            "Epoch 373/1000\n",
            "4/4 [==============================] - 0s 12ms/step - loss: 93240164352.0000 - val_loss: 89149456384.0000\n",
            "Epoch 374/1000\n",
            "4/4 [==============================] - 0s 10ms/step - loss: 93240164352.0000 - val_loss: 89149456384.0000\n",
            "Epoch 375/1000\n",
            "4/4 [==============================] - 0s 12ms/step - loss: 93240147968.0000 - val_loss: 89149456384.0000\n",
            "Epoch 376/1000\n",
            "4/4 [==============================] - 0s 11ms/step - loss: 93240147968.0000 - val_loss: 89149456384.0000\n",
            "Epoch 377/1000\n",
            "4/4 [==============================] - 0s 10ms/step - loss: 93240139776.0000 - val_loss: 89149456384.0000\n",
            "Epoch 378/1000\n",
            "4/4 [==============================] - 0s 10ms/step - loss: 93240147968.0000 - val_loss: 89149456384.0000\n",
            "Epoch 379/1000\n",
            "4/4 [==============================] - 0s 10ms/step - loss: 93240139776.0000 - val_loss: 89149456384.0000\n",
            "Epoch 380/1000\n",
            "4/4 [==============================] - 0s 12ms/step - loss: 93240139776.0000 - val_loss: 89149456384.0000\n",
            "Epoch 381/1000\n",
            "4/4 [==============================] - 0s 10ms/step - loss: 93240139776.0000 - val_loss: 89149440000.0000\n",
            "Epoch 382/1000\n",
            "4/4 [==============================] - 0s 11ms/step - loss: 93240139776.0000 - val_loss: 89149440000.0000\n",
            "Epoch 383/1000\n",
            "4/4 [==============================] - 0s 11ms/step - loss: 93240131584.0000 - val_loss: 89149431808.0000\n",
            "Epoch 384/1000\n",
            "4/4 [==============================] - 0s 9ms/step - loss: 93240131584.0000 - val_loss: 89149431808.0000\n",
            "Epoch 385/1000\n",
            "4/4 [==============================] - 0s 12ms/step - loss: 93240131584.0000 - val_loss: 89149431808.0000\n",
            "Epoch 386/1000\n",
            "4/4 [==============================] - 0s 11ms/step - loss: 93240131584.0000 - val_loss: 89149431808.0000\n",
            "Epoch 387/1000\n",
            "4/4 [==============================] - 0s 10ms/step - loss: 93240131584.0000 - val_loss: 89149431808.0000\n",
            "Epoch 388/1000\n",
            "4/4 [==============================] - 0s 11ms/step - loss: 93240131584.0000 - val_loss: 89149431808.0000\n",
            "Epoch 389/1000\n",
            "4/4 [==============================] - 0s 16ms/step - loss: 93240123392.0000 - val_loss: 89149415424.0000\n",
            "Epoch 390/1000\n",
            "4/4 [==============================] - 0s 9ms/step - loss: 93240107008.0000 - val_loss: 89149415424.0000\n",
            "Epoch 391/1000\n",
            "4/4 [==============================] - 0s 10ms/step - loss: 93240107008.0000 - val_loss: 89149415424.0000\n",
            "Epoch 392/1000\n",
            "4/4 [==============================] - 0s 10ms/step - loss: 93240123392.0000 - val_loss: 89149415424.0000\n",
            "Epoch 393/1000\n",
            "4/4 [==============================] - 0s 9ms/step - loss: 93240107008.0000 - val_loss: 89149415424.0000\n",
            "Epoch 394/1000\n",
            "4/4 [==============================] - 0s 9ms/step - loss: 93240123392.0000 - val_loss: 89149415424.0000\n",
            "Epoch 395/1000\n",
            "4/4 [==============================] - 0s 12ms/step - loss: 93240107008.0000 - val_loss: 89149415424.0000\n",
            "Epoch 396/1000\n",
            "4/4 [==============================] - 0s 12ms/step - loss: 93240107008.0000 - val_loss: 89149399040.0000\n",
            "Epoch 397/1000\n",
            "4/4 [==============================] - 0s 11ms/step - loss: 93240107008.0000 - val_loss: 89149399040.0000\n",
            "Epoch 398/1000\n",
            "4/4 [==============================] - 0s 10ms/step - loss: 93240098816.0000 - val_loss: 89149399040.0000\n",
            "Epoch 399/1000\n",
            "4/4 [==============================] - 0s 10ms/step - loss: 93240090624.0000 - val_loss: 89149399040.0000\n",
            "Epoch 400/1000\n",
            "4/4 [==============================] - 0s 10ms/step - loss: 93240098816.0000 - val_loss: 89149399040.0000\n",
            "Epoch 401/1000\n",
            "4/4 [==============================] - 0s 11ms/step - loss: 93240098816.0000 - val_loss: 89149399040.0000\n",
            "Epoch 402/1000\n",
            "4/4 [==============================] - 0s 11ms/step - loss: 93240090624.0000 - val_loss: 89149399040.0000\n",
            "Epoch 403/1000\n",
            "4/4 [==============================] - 0s 10ms/step - loss: 93240090624.0000 - val_loss: 89149399040.0000\n",
            "Epoch 404/1000\n",
            "4/4 [==============================] - 0s 18ms/step - loss: 93240090624.0000 - val_loss: 89149382656.0000\n",
            "Epoch 405/1000\n",
            "4/4 [==============================] - 0s 11ms/step - loss: 93240082432.0000 - val_loss: 89149382656.0000\n",
            "Epoch 406/1000\n",
            "4/4 [==============================] - 0s 16ms/step - loss: 93240082432.0000 - val_loss: 89149382656.0000\n",
            "Epoch 407/1000\n",
            "4/4 [==============================] - 0s 10ms/step - loss: 93240082432.0000 - val_loss: 89149382656.0000\n",
            "Epoch 408/1000\n",
            "4/4 [==============================] - 0s 17ms/step - loss: 93240082432.0000 - val_loss: 89149382656.0000\n",
            "Epoch 409/1000\n",
            "4/4 [==============================] - 0s 11ms/step - loss: 93240090624.0000 - val_loss: 89149374464.0000\n",
            "Epoch 410/1000\n",
            "4/4 [==============================] - 0s 12ms/step - loss: 93240082432.0000 - val_loss: 89149374464.0000\n",
            "Epoch 411/1000\n",
            "4/4 [==============================] - 0s 11ms/step - loss: 93240082432.0000 - val_loss: 89149374464.0000\n",
            "Epoch 412/1000\n",
            "4/4 [==============================] - 0s 10ms/step - loss: 93240074240.0000 - val_loss: 89149366272.0000\n",
            "Epoch 413/1000\n",
            "4/4 [==============================] - 0s 11ms/step - loss: 93240074240.0000 - val_loss: 89149366272.0000\n",
            "Epoch 414/1000\n",
            "4/4 [==============================] - 0s 12ms/step - loss: 93240057856.0000 - val_loss: 89149366272.0000\n",
            "Epoch 415/1000\n",
            "4/4 [==============================] - 0s 12ms/step - loss: 93240074240.0000 - val_loss: 89149366272.0000\n",
            "Epoch 416/1000\n",
            "4/4 [==============================] - 0s 10ms/step - loss: 93240057856.0000 - val_loss: 89149358080.0000\n",
            "Epoch 417/1000\n",
            "4/4 [==============================] - 0s 14ms/step - loss: 93240057856.0000 - val_loss: 89149358080.0000\n",
            "Epoch 418/1000\n",
            "4/4 [==============================] - 0s 13ms/step - loss: 93240057856.0000 - val_loss: 89149358080.0000\n",
            "Epoch 419/1000\n",
            "4/4 [==============================] - 0s 12ms/step - loss: 93240057856.0000 - val_loss: 89149358080.0000\n",
            "Epoch 420/1000\n",
            "4/4 [==============================] - 0s 14ms/step - loss: 93240057856.0000 - val_loss: 89149349888.0000\n",
            "Epoch 421/1000\n",
            "4/4 [==============================] - 0s 12ms/step - loss: 93240041472.0000 - val_loss: 89149349888.0000\n",
            "Epoch 422/1000\n",
            "4/4 [==============================] - 0s 12ms/step - loss: 93240057856.0000 - val_loss: 89149333504.0000\n",
            "Epoch 423/1000\n",
            "4/4 [==============================] - 0s 10ms/step - loss: 93240041472.0000 - val_loss: 89149333504.0000\n",
            "Epoch 424/1000\n",
            "4/4 [==============================] - 0s 12ms/step - loss: 93240041472.0000 - val_loss: 89149333504.0000\n",
            "Epoch 425/1000\n",
            "4/4 [==============================] - 0s 10ms/step - loss: 93240041472.0000 - val_loss: 89149333504.0000\n",
            "Epoch 426/1000\n",
            "4/4 [==============================] - 0s 11ms/step - loss: 93240049664.0000 - val_loss: 89149333504.0000\n",
            "Epoch 427/1000\n",
            "4/4 [==============================] - 0s 10ms/step - loss: 93240033280.0000 - val_loss: 89149333504.0000\n",
            "Epoch 428/1000\n",
            "4/4 [==============================] - 0s 10ms/step - loss: 93240033280.0000 - val_loss: 89149333504.0000\n",
            "Epoch 429/1000\n",
            "4/4 [==============================] - 0s 12ms/step - loss: 93240033280.0000 - val_loss: 89149325312.0000\n",
            "Epoch 430/1000\n",
            "4/4 [==============================] - 0s 17ms/step - loss: 93240033280.0000 - val_loss: 89149325312.0000\n",
            "Epoch 431/1000\n",
            "4/4 [==============================] - 0s 10ms/step - loss: 93240016896.0000 - val_loss: 89149325312.0000\n",
            "Epoch 432/1000\n",
            "4/4 [==============================] - 0s 10ms/step - loss: 93240033280.0000 - val_loss: 89149325312.0000\n",
            "Epoch 433/1000\n",
            "4/4 [==============================] - 0s 11ms/step - loss: 93240033280.0000 - val_loss: 89149325312.0000\n",
            "Epoch 434/1000\n",
            "4/4 [==============================] - 0s 11ms/step - loss: 93240016896.0000 - val_loss: 89149317120.0000\n",
            "Epoch 435/1000\n",
            "4/4 [==============================] - 0s 11ms/step - loss: 93240016896.0000 - val_loss: 89149317120.0000\n",
            "Epoch 436/1000\n",
            "4/4 [==============================] - 0s 14ms/step - loss: 93240016896.0000 - val_loss: 89149308928.0000\n",
            "Epoch 437/1000\n",
            "4/4 [==============================] - 0s 11ms/step - loss: 93240016896.0000 - val_loss: 89149308928.0000\n",
            "Epoch 438/1000\n",
            "4/4 [==============================] - 0s 11ms/step - loss: 93240008704.0000 - val_loss: 89149308928.0000\n",
            "Epoch 439/1000\n",
            "4/4 [==============================] - 0s 11ms/step - loss: 93240008704.0000 - val_loss: 89149308928.0000\n",
            "Epoch 440/1000\n",
            "4/4 [==============================] - 0s 16ms/step - loss: 93240008704.0000 - val_loss: 89149308928.0000\n",
            "Epoch 441/1000\n",
            "4/4 [==============================] - 0s 13ms/step - loss: 93240008704.0000 - val_loss: 89149300736.0000\n",
            "Epoch 442/1000\n",
            "4/4 [==============================] - 0s 10ms/step - loss: 93240008704.0000 - val_loss: 89149300736.0000\n",
            "Epoch 443/1000\n",
            "4/4 [==============================] - 0s 10ms/step - loss: 93240008704.0000 - val_loss: 89149292544.0000\n",
            "Epoch 444/1000\n",
            "4/4 [==============================] - 0s 10ms/step - loss: 93239992320.0000 - val_loss: 89149292544.0000\n",
            "Epoch 445/1000\n",
            "4/4 [==============================] - 0s 12ms/step - loss: 93239992320.0000 - val_loss: 89149292544.0000\n",
            "Epoch 446/1000\n",
            "4/4 [==============================] - 0s 13ms/step - loss: 93239992320.0000 - val_loss: 89149292544.0000\n",
            "Epoch 447/1000\n",
            "4/4 [==============================] - 0s 10ms/step - loss: 93240000512.0000 - val_loss: 89149292544.0000\n",
            "Epoch 448/1000\n",
            "4/4 [==============================] - 0s 12ms/step - loss: 93239992320.0000 - val_loss: 89149292544.0000\n",
            "Epoch 449/1000\n",
            "4/4 [==============================] - 0s 11ms/step - loss: 93239992320.0000 - val_loss: 89149292544.0000\n",
            "Epoch 450/1000\n",
            "4/4 [==============================] - 0s 11ms/step - loss: 93239975936.0000 - val_loss: 89149292544.0000\n",
            "Epoch 451/1000\n",
            "4/4 [==============================] - 0s 11ms/step - loss: 93239992320.0000 - val_loss: 89149276160.0000\n",
            "Epoch 452/1000\n",
            "4/4 [==============================] - 0s 11ms/step - loss: 93239975936.0000 - val_loss: 89149276160.0000\n",
            "Epoch 453/1000\n",
            "4/4 [==============================] - 0s 11ms/step - loss: 93239967744.0000 - val_loss: 89149276160.0000\n",
            "Epoch 454/1000\n",
            "4/4 [==============================] - 0s 11ms/step - loss: 93239975936.0000 - val_loss: 89149276160.0000\n",
            "Epoch 455/1000\n",
            "4/4 [==============================] - 0s 12ms/step - loss: 93239967744.0000 - val_loss: 89149276160.0000\n",
            "Epoch 456/1000\n",
            "4/4 [==============================] - 0s 11ms/step - loss: 93239967744.0000 - val_loss: 89149276160.0000\n",
            "Epoch 457/1000\n",
            "4/4 [==============================] - 0s 10ms/step - loss: 93239975936.0000 - val_loss: 89149267968.0000\n",
            "Epoch 458/1000\n",
            "4/4 [==============================] - 0s 9ms/step - loss: 93239967744.0000 - val_loss: 89149267968.0000\n",
            "Epoch 459/1000\n",
            "4/4 [==============================] - 0s 11ms/step - loss: 93239967744.0000 - val_loss: 89149259776.0000\n",
            "Epoch 460/1000\n",
            "4/4 [==============================] - 0s 11ms/step - loss: 93239959552.0000 - val_loss: 89149259776.0000\n",
            "Epoch 461/1000\n",
            "4/4 [==============================] - 0s 11ms/step - loss: 93239959552.0000 - val_loss: 89149259776.0000\n",
            "Epoch 462/1000\n",
            "4/4 [==============================] - 0s 10ms/step - loss: 93239959552.0000 - val_loss: 89149259776.0000\n",
            "Epoch 463/1000\n",
            "4/4 [==============================] - 0s 12ms/step - loss: 93239959552.0000 - val_loss: 89149251584.0000\n",
            "Epoch 464/1000\n",
            "4/4 [==============================] - 0s 12ms/step - loss: 93239959552.0000 - val_loss: 89149251584.0000\n",
            "Epoch 465/1000\n",
            "4/4 [==============================] - 0s 12ms/step - loss: 93239951360.0000 - val_loss: 89149243392.0000\n",
            "Epoch 466/1000\n",
            "4/4 [==============================] - 0s 10ms/step - loss: 93239951360.0000 - val_loss: 89149243392.0000\n",
            "Epoch 467/1000\n",
            "4/4 [==============================] - 0s 10ms/step - loss: 93239951360.0000 - val_loss: 89149243392.0000\n",
            "Epoch 468/1000\n",
            "4/4 [==============================] - 0s 11ms/step - loss: 93239934976.0000 - val_loss: 89149243392.0000\n",
            "Epoch 469/1000\n",
            "4/4 [==============================] - 0s 11ms/step - loss: 93239951360.0000 - val_loss: 89149235200.0000\n",
            "Epoch 470/1000\n",
            "4/4 [==============================] - 0s 12ms/step - loss: 93239926784.0000 - val_loss: 89149235200.0000\n",
            "Epoch 471/1000\n",
            "4/4 [==============================] - 0s 10ms/step - loss: 93239934976.0000 - val_loss: 89149235200.0000\n",
            "Epoch 472/1000\n",
            "4/4 [==============================] - 0s 14ms/step - loss: 93239934976.0000 - val_loss: 89149235200.0000\n",
            "Epoch 473/1000\n",
            "4/4 [==============================] - 0s 10ms/step - loss: 93239926784.0000 - val_loss: 89149227008.0000\n",
            "Epoch 474/1000\n",
            "4/4 [==============================] - 0s 12ms/step - loss: 93239934976.0000 - val_loss: 89149227008.0000\n",
            "Epoch 475/1000\n",
            "4/4 [==============================] - 0s 10ms/step - loss: 93239926784.0000 - val_loss: 89149218816.0000\n",
            "Epoch 476/1000\n",
            "4/4 [==============================] - 0s 11ms/step - loss: 93239926784.0000 - val_loss: 89149218816.0000\n",
            "Epoch 477/1000\n",
            "4/4 [==============================] - 0s 14ms/step - loss: 93239918592.0000 - val_loss: 89149210624.0000\n",
            "Epoch 478/1000\n",
            "4/4 [==============================] - 0s 13ms/step - loss: 93239918592.0000 - val_loss: 89149210624.0000\n",
            "Epoch 479/1000\n",
            "4/4 [==============================] - 0s 10ms/step - loss: 93239918592.0000 - val_loss: 89149210624.0000\n",
            "Epoch 480/1000\n",
            "4/4 [==============================] - 0s 12ms/step - loss: 93239918592.0000 - val_loss: 89149210624.0000\n",
            "Epoch 481/1000\n",
            "4/4 [==============================] - 0s 11ms/step - loss: 93239910400.0000 - val_loss: 89149210624.0000\n",
            "Epoch 482/1000\n",
            "4/4 [==============================] - 0s 12ms/step - loss: 93239910400.0000 - val_loss: 89149210624.0000\n",
            "Epoch 483/1000\n",
            "4/4 [==============================] - 0s 11ms/step - loss: 93239918592.0000 - val_loss: 89149194240.0000\n",
            "Epoch 484/1000\n",
            "4/4 [==============================] - 0s 10ms/step - loss: 93239894016.0000 - val_loss: 89149194240.0000\n",
            "Epoch 485/1000\n",
            "4/4 [==============================] - 0s 11ms/step - loss: 93239894016.0000 - val_loss: 89149194240.0000\n",
            "Epoch 486/1000\n",
            "4/4 [==============================] - 0s 17ms/step - loss: 93239910400.0000 - val_loss: 89149194240.0000\n",
            "Epoch 487/1000\n",
            "4/4 [==============================] - 0s 11ms/step - loss: 93239894016.0000 - val_loss: 89149194240.0000\n",
            "Epoch 488/1000\n",
            "4/4 [==============================] - 0s 10ms/step - loss: 93239894016.0000 - val_loss: 89149194240.0000\n",
            "Epoch 489/1000\n",
            "4/4 [==============================] - 0s 11ms/step - loss: 93239894016.0000 - val_loss: 89149194240.0000\n",
            "Epoch 490/1000\n",
            "4/4 [==============================] - 0s 16ms/step - loss: 93239894016.0000 - val_loss: 89149194240.0000\n",
            "Epoch 491/1000\n",
            "4/4 [==============================] - 0s 10ms/step - loss: 93239885824.0000 - val_loss: 89149186048.0000\n",
            "Epoch 492/1000\n",
            "4/4 [==============================] - 0s 10ms/step - loss: 93239885824.0000 - val_loss: 89149177856.0000\n",
            "Epoch 493/1000\n",
            "4/4 [==============================] - 0s 10ms/step - loss: 93239885824.0000 - val_loss: 89149177856.0000\n",
            "Epoch 494/1000\n",
            "4/4 [==============================] - 0s 11ms/step - loss: 93239877632.0000 - val_loss: 89149177856.0000\n",
            "Epoch 495/1000\n",
            "4/4 [==============================] - 0s 10ms/step - loss: 93239877632.0000 - val_loss: 89149177856.0000\n",
            "Epoch 496/1000\n",
            "4/4 [==============================] - 0s 11ms/step - loss: 93239877632.0000 - val_loss: 89149177856.0000\n",
            "Epoch 497/1000\n",
            "4/4 [==============================] - 0s 9ms/step - loss: 93239877632.0000 - val_loss: 89149177856.0000\n",
            "Epoch 498/1000\n",
            "4/4 [==============================] - 0s 10ms/step - loss: 93239869440.0000 - val_loss: 89149161472.0000\n",
            "Epoch 499/1000\n",
            "4/4 [==============================] - 0s 13ms/step - loss: 93239853056.0000 - val_loss: 89149161472.0000\n",
            "Epoch 500/1000\n",
            "4/4 [==============================] - 0s 14ms/step - loss: 93239869440.0000 - val_loss: 89149161472.0000\n",
            "Epoch 501/1000\n",
            "4/4 [==============================] - 0s 10ms/step - loss: 93239853056.0000 - val_loss: 89149161472.0000\n",
            "Epoch 502/1000\n",
            "4/4 [==============================] - 0s 10ms/step - loss: 93239853056.0000 - val_loss: 89149161472.0000\n",
            "Epoch 503/1000\n",
            "4/4 [==============================] - 0s 12ms/step - loss: 93239853056.0000 - val_loss: 89149161472.0000\n",
            "Epoch 504/1000\n",
            "4/4 [==============================] - 0s 12ms/step - loss: 93239869440.0000 - val_loss: 89149161472.0000\n",
            "Epoch 505/1000\n",
            "4/4 [==============================] - 0s 11ms/step - loss: 93239853056.0000 - val_loss: 89149161472.0000\n",
            "Epoch 506/1000\n",
            "4/4 [==============================] - 0s 13ms/step - loss: 93239869440.0000 - val_loss: 89149145088.0000\n",
            "Epoch 507/1000\n",
            "4/4 [==============================] - 0s 9ms/step - loss: 93239844864.0000 - val_loss: 89149145088.0000\n",
            "Epoch 508/1000\n",
            "4/4 [==============================] - 0s 17ms/step - loss: 93239853056.0000 - val_loss: 89149145088.0000\n",
            "Epoch 509/1000\n",
            "4/4 [==============================] - 0s 14ms/step - loss: 93239853056.0000 - val_loss: 89149145088.0000\n",
            "Epoch 510/1000\n",
            "4/4 [==============================] - 0s 12ms/step - loss: 93239844864.0000 - val_loss: 89149145088.0000\n",
            "Epoch 511/1000\n",
            "4/4 [==============================] - 0s 10ms/step - loss: 93239836672.0000 - val_loss: 89149145088.0000\n",
            "Epoch 512/1000\n",
            "4/4 [==============================] - 0s 12ms/step - loss: 93239844864.0000 - val_loss: 89149145088.0000\n",
            "Epoch 513/1000\n",
            "4/4 [==============================] - 0s 16ms/step - loss: 93239844864.0000 - val_loss: 89149145088.0000\n",
            "Epoch 514/1000\n",
            "4/4 [==============================] - 0s 14ms/step - loss: 93239836672.0000 - val_loss: 89149128704.0000\n",
            "Epoch 515/1000\n",
            "4/4 [==============================] - 0s 10ms/step - loss: 93239836672.0000 - val_loss: 89149128704.0000\n",
            "Epoch 516/1000\n",
            "4/4 [==============================] - 0s 13ms/step - loss: 93239828480.0000 - val_loss: 89149128704.0000\n",
            "Epoch 517/1000\n",
            "4/4 [==============================] - 0s 10ms/step - loss: 93239828480.0000 - val_loss: 89149128704.0000\n",
            "Epoch 518/1000\n",
            "4/4 [==============================] - 0s 13ms/step - loss: 93239836672.0000 - val_loss: 89149128704.0000\n",
            "Epoch 519/1000\n",
            "4/4 [==============================] - 0s 12ms/step - loss: 93239828480.0000 - val_loss: 89149128704.0000\n",
            "Epoch 520/1000\n",
            "4/4 [==============================] - 0s 10ms/step - loss: 93239828480.0000 - val_loss: 89149128704.0000\n",
            "Epoch 521/1000\n",
            "4/4 [==============================] - 0s 11ms/step - loss: 93239828480.0000 - val_loss: 89149128704.0000\n",
            "Epoch 522/1000\n",
            "4/4 [==============================] - 0s 13ms/step - loss: 93239812096.0000 - val_loss: 89149112320.0000\n",
            "Epoch 523/1000\n",
            "4/4 [==============================] - 0s 12ms/step - loss: 93239812096.0000 - val_loss: 89149112320.0000\n",
            "Epoch 524/1000\n",
            "4/4 [==============================] - 0s 11ms/step - loss: 93239812096.0000 - val_loss: 89149112320.0000\n",
            "Epoch 525/1000\n",
            "4/4 [==============================] - 0s 11ms/step - loss: 93239812096.0000 - val_loss: 89149112320.0000\n",
            "Epoch 526/1000\n",
            "4/4 [==============================] - 0s 11ms/step - loss: 93239803904.0000 - val_loss: 89149112320.0000\n",
            "Epoch 527/1000\n",
            "4/4 [==============================] - 0s 9ms/step - loss: 93239812096.0000 - val_loss: 89149112320.0000\n",
            "Epoch 528/1000\n",
            "4/4 [==============================] - 0s 11ms/step - loss: 93239803904.0000 - val_loss: 89149095936.0000\n",
            "Epoch 529/1000\n",
            "4/4 [==============================] - 0s 10ms/step - loss: 93239803904.0000 - val_loss: 89149095936.0000\n",
            "Epoch 530/1000\n",
            "4/4 [==============================] - 0s 11ms/step - loss: 93239795712.0000 - val_loss: 89149095936.0000\n",
            "Epoch 531/1000\n",
            "4/4 [==============================] - 0s 12ms/step - loss: 93239803904.0000 - val_loss: 89149095936.0000\n",
            "Epoch 532/1000\n",
            "4/4 [==============================] - 0s 10ms/step - loss: 93239795712.0000 - val_loss: 89149095936.0000\n",
            "Epoch 533/1000\n",
            "4/4 [==============================] - 0s 10ms/step - loss: 93239795712.0000 - val_loss: 89149095936.0000\n",
            "Epoch 534/1000\n",
            "4/4 [==============================] - 0s 11ms/step - loss: 93239795712.0000 - val_loss: 89149095936.0000\n",
            "Epoch 535/1000\n",
            "4/4 [==============================] - 0s 10ms/step - loss: 93239795712.0000 - val_loss: 89149095936.0000\n",
            "Epoch 536/1000\n",
            "4/4 [==============================] - 0s 11ms/step - loss: 93239787520.0000 - val_loss: 89149079552.0000\n",
            "Epoch 537/1000\n",
            "4/4 [==============================] - 0s 13ms/step - loss: 93239787520.0000 - val_loss: 89149079552.0000\n",
            "Epoch 538/1000\n",
            "4/4 [==============================] - 0s 11ms/step - loss: 93239771136.0000 - val_loss: 89149079552.0000\n",
            "Epoch 539/1000\n",
            "4/4 [==============================] - 0s 12ms/step - loss: 93239771136.0000 - val_loss: 89149079552.0000\n",
            "Epoch 540/1000\n",
            "4/4 [==============================] - 0s 14ms/step - loss: 93239771136.0000 - val_loss: 89149071360.0000\n",
            "Epoch 541/1000\n",
            "4/4 [==============================] - 0s 12ms/step - loss: 93239762944.0000 - val_loss: 89149071360.0000\n",
            "Epoch 542/1000\n",
            "4/4 [==============================] - 0s 10ms/step - loss: 93239771136.0000 - val_loss: 89149071360.0000\n",
            "Epoch 543/1000\n",
            "4/4 [==============================] - 0s 12ms/step - loss: 93239771136.0000 - val_loss: 89149071360.0000\n",
            "Epoch 544/1000\n",
            "4/4 [==============================] - 0s 12ms/step - loss: 93239771136.0000 - val_loss: 89149071360.0000\n",
            "Epoch 545/1000\n",
            "4/4 [==============================] - 0s 18ms/step - loss: 93239762944.0000 - val_loss: 89149063168.0000\n",
            "Epoch 546/1000\n",
            "4/4 [==============================] - 0s 14ms/step - loss: 93239762944.0000 - val_loss: 89149063168.0000\n",
            "Epoch 547/1000\n",
            "4/4 [==============================] - 0s 12ms/step - loss: 93239754752.0000 - val_loss: 89149054976.0000\n",
            "Epoch 548/1000\n",
            "4/4 [==============================] - 0s 11ms/step - loss: 93239754752.0000 - val_loss: 89149054976.0000\n",
            "Epoch 549/1000\n",
            "4/4 [==============================] - 0s 13ms/step - loss: 93239762944.0000 - val_loss: 89149054976.0000\n",
            "Epoch 550/1000\n",
            "4/4 [==============================] - 0s 11ms/step - loss: 93239754752.0000 - val_loss: 89149054976.0000\n",
            "Epoch 551/1000\n",
            "4/4 [==============================] - 0s 10ms/step - loss: 93239754752.0000 - val_loss: 89149054976.0000\n",
            "Epoch 552/1000\n",
            "4/4 [==============================] - 0s 12ms/step - loss: 93239754752.0000 - val_loss: 89149054976.0000\n",
            "Epoch 553/1000\n",
            "4/4 [==============================] - 0s 13ms/step - loss: 93239746560.0000 - val_loss: 89149038592.0000\n",
            "Epoch 554/1000\n",
            "4/4 [==============================] - 0s 11ms/step - loss: 93239730176.0000 - val_loss: 89149038592.0000\n",
            "Epoch 555/1000\n",
            "4/4 [==============================] - 0s 11ms/step - loss: 93239746560.0000 - val_loss: 89149030400.0000\n",
            "Epoch 556/1000\n",
            "4/4 [==============================] - 0s 10ms/step - loss: 93239730176.0000 - val_loss: 89149030400.0000\n",
            "Epoch 557/1000\n",
            "4/4 [==============================] - 0s 12ms/step - loss: 93239746560.0000 - val_loss: 89149030400.0000\n",
            "Epoch 558/1000\n",
            "4/4 [==============================] - 0s 10ms/step - loss: 93239730176.0000 - val_loss: 89149030400.0000\n",
            "Epoch 559/1000\n",
            "4/4 [==============================] - 0s 10ms/step - loss: 93239746560.0000 - val_loss: 89149030400.0000\n",
            "Epoch 560/1000\n",
            "4/4 [==============================] - 0s 10ms/step - loss: 93239730176.0000 - val_loss: 89149030400.0000\n",
            "Epoch 561/1000\n",
            "4/4 [==============================] - 0s 11ms/step - loss: 93239730176.0000 - val_loss: 89149014016.0000\n",
            "Epoch 562/1000\n",
            "4/4 [==============================] - 0s 11ms/step - loss: 93239713792.0000 - val_loss: 89149014016.0000\n",
            "Epoch 563/1000\n",
            "4/4 [==============================] - 0s 10ms/step - loss: 93239721984.0000 - val_loss: 89149014016.0000\n",
            "Epoch 564/1000\n",
            "4/4 [==============================] - 0s 13ms/step - loss: 93239713792.0000 - val_loss: 89149014016.0000\n",
            "Epoch 565/1000\n",
            "4/4 [==============================] - 0s 11ms/step - loss: 93239721984.0000 - val_loss: 89149014016.0000\n",
            "Epoch 566/1000\n",
            "4/4 [==============================] - 0s 13ms/step - loss: 93239713792.0000 - val_loss: 89149014016.0000\n",
            "Epoch 567/1000\n",
            "4/4 [==============================] - 0s 10ms/step - loss: 93239721984.0000 - val_loss: 89149014016.0000\n",
            "Epoch 568/1000\n",
            "4/4 [==============================] - 0s 12ms/step - loss: 93239721984.0000 - val_loss: 89149014016.0000\n",
            "Epoch 569/1000\n",
            "4/4 [==============================] - 0s 10ms/step - loss: 93239713792.0000 - val_loss: 89149005824.0000\n",
            "Epoch 570/1000\n",
            "4/4 [==============================] - 0s 10ms/step - loss: 93239697408.0000 - val_loss: 89149005824.0000\n",
            "Epoch 571/1000\n",
            "4/4 [==============================] - 0s 11ms/step - loss: 93239697408.0000 - val_loss: 89148997632.0000\n",
            "Epoch 572/1000\n",
            "4/4 [==============================] - 0s 11ms/step - loss: 93239705600.0000 - val_loss: 89148997632.0000\n",
            "Epoch 573/1000\n",
            "4/4 [==============================] - 0s 10ms/step - loss: 93239705600.0000 - val_loss: 89148997632.0000\n",
            "Epoch 574/1000\n",
            "4/4 [==============================] - 0s 11ms/step - loss: 93239697408.0000 - val_loss: 89148997632.0000\n",
            "Epoch 575/1000\n",
            "4/4 [==============================] - 0s 11ms/step - loss: 93239705600.0000 - val_loss: 89148997632.0000\n",
            "Epoch 576/1000\n",
            "4/4 [==============================] - 0s 10ms/step - loss: 93239697408.0000 - val_loss: 89148997632.0000\n",
            "Epoch 577/1000\n",
            "4/4 [==============================] - 0s 11ms/step - loss: 93239697408.0000 - val_loss: 89148989440.0000\n",
            "Epoch 578/1000\n",
            "4/4 [==============================] - 0s 12ms/step - loss: 93239697408.0000 - val_loss: 89148989440.0000\n",
            "Epoch 579/1000\n",
            "4/4 [==============================] - 0s 11ms/step - loss: 93239697408.0000 - val_loss: 89148989440.0000\n",
            "Epoch 580/1000\n",
            "4/4 [==============================] - 0s 16ms/step - loss: 93239681024.0000 - val_loss: 89148989440.0000\n",
            "Epoch 581/1000\n",
            "4/4 [==============================] - 0s 10ms/step - loss: 93239681024.0000 - val_loss: 89148989440.0000\n",
            "Epoch 582/1000\n",
            "4/4 [==============================] - 0s 11ms/step - loss: 93239681024.0000 - val_loss: 89148989440.0000\n",
            "Epoch 583/1000\n",
            "4/4 [==============================] - 0s 11ms/step - loss: 93239681024.0000 - val_loss: 89148989440.0000\n",
            "Epoch 584/1000\n",
            "4/4 [==============================] - 0s 12ms/step - loss: 93239681024.0000 - val_loss: 89148989440.0000\n",
            "Epoch 585/1000\n",
            "4/4 [==============================] - 0s 14ms/step - loss: 93239672832.0000 - val_loss: 89148964864.0000\n",
            "Epoch 586/1000\n",
            "4/4 [==============================] - 0s 10ms/step - loss: 93239664640.0000 - val_loss: 89148964864.0000\n",
            "Epoch 587/1000\n",
            "4/4 [==============================] - 0s 10ms/step - loss: 93239672832.0000 - val_loss: 89148964864.0000\n",
            "Epoch 588/1000\n",
            "4/4 [==============================] - 0s 10ms/step - loss: 93239664640.0000 - val_loss: 89148964864.0000\n",
            "Epoch 589/1000\n",
            "4/4 [==============================] - 0s 10ms/step - loss: 93239664640.0000 - val_loss: 89148964864.0000\n",
            "Epoch 590/1000\n",
            "4/4 [==============================] - 0s 12ms/step - loss: 93239664640.0000 - val_loss: 89148964864.0000\n",
            "Epoch 591/1000\n",
            "4/4 [==============================] - 0s 11ms/step - loss: 93239664640.0000 - val_loss: 89148956672.0000\n",
            "Epoch 592/1000\n",
            "4/4 [==============================] - 0s 11ms/step - loss: 93239664640.0000 - val_loss: 89148956672.0000\n",
            "Epoch 593/1000\n",
            "4/4 [==============================] - 0s 12ms/step - loss: 93239664640.0000 - val_loss: 89148956672.0000\n",
            "Epoch 594/1000\n",
            "4/4 [==============================] - 0s 12ms/step - loss: 93239656448.0000 - val_loss: 89148956672.0000\n",
            "Epoch 595/1000\n",
            "4/4 [==============================] - 0s 12ms/step - loss: 93239656448.0000 - val_loss: 89148956672.0000\n",
            "Epoch 596/1000\n",
            "4/4 [==============================] - 0s 11ms/step - loss: 93239656448.0000 - val_loss: 89148956672.0000\n",
            "Epoch 597/1000\n",
            "4/4 [==============================] - 0s 12ms/step - loss: 93239640064.0000 - val_loss: 89148956672.0000\n",
            "Epoch 598/1000\n",
            "4/4 [==============================] - 0s 10ms/step - loss: 93239640064.0000 - val_loss: 89148948480.0000\n",
            "Epoch 599/1000\n",
            "4/4 [==============================] - 0s 9ms/step - loss: 93239640064.0000 - val_loss: 89148940288.0000\n",
            "Epoch 600/1000\n",
            "4/4 [==============================] - 0s 10ms/step - loss: 93239640064.0000 - val_loss: 89148940288.0000\n",
            "Epoch 601/1000\n",
            "4/4 [==============================] - 0s 11ms/step - loss: 93239640064.0000 - val_loss: 89148932096.0000\n",
            "Epoch 602/1000\n",
            "4/4 [==============================] - 0s 14ms/step - loss: 93239631872.0000 - val_loss: 89148932096.0000\n",
            "Epoch 603/1000\n",
            "4/4 [==============================] - 0s 11ms/step - loss: 93239631872.0000 - val_loss: 89148932096.0000\n",
            "Epoch 604/1000\n",
            "4/4 [==============================] - 0s 10ms/step - loss: 93239623680.0000 - val_loss: 89148932096.0000\n",
            "Epoch 605/1000\n",
            "4/4 [==============================] - 0s 11ms/step - loss: 93239631872.0000 - val_loss: 89148932096.0000\n",
            "Epoch 606/1000\n",
            "4/4 [==============================] - 0s 11ms/step - loss: 93239631872.0000 - val_loss: 89148915712.0000\n",
            "Epoch 607/1000\n",
            "4/4 [==============================] - 0s 12ms/step - loss: 93239631872.0000 - val_loss: 89148915712.0000\n",
            "Epoch 608/1000\n",
            "4/4 [==============================] - 0s 12ms/step - loss: 93239623680.0000 - val_loss: 89148915712.0000\n",
            "Epoch 609/1000\n",
            "4/4 [==============================] - 0s 11ms/step - loss: 93239623680.0000 - val_loss: 89148915712.0000\n",
            "Epoch 610/1000\n",
            "4/4 [==============================] - 0s 11ms/step - loss: 93239615488.0000 - val_loss: 89148907520.0000\n",
            "Epoch 611/1000\n",
            "4/4 [==============================] - 0s 11ms/step - loss: 93239615488.0000 - val_loss: 89148907520.0000\n",
            "Epoch 612/1000\n",
            "4/4 [==============================] - 0s 12ms/step - loss: 93239615488.0000 - val_loss: 89148907520.0000\n",
            "Epoch 613/1000\n",
            "4/4 [==============================] - 0s 11ms/step - loss: 93239615488.0000 - val_loss: 89148907520.0000\n",
            "Epoch 614/1000\n",
            "4/4 [==============================] - 0s 18ms/step - loss: 93239615488.0000 - val_loss: 89148907520.0000\n",
            "Epoch 615/1000\n",
            "4/4 [==============================] - 0s 10ms/step - loss: 93239599104.0000 - val_loss: 89148907520.0000\n",
            "Epoch 616/1000\n",
            "4/4 [==============================] - 0s 13ms/step - loss: 93239599104.0000 - val_loss: 89148891136.0000\n",
            "Epoch 617/1000\n",
            "4/4 [==============================] - 0s 13ms/step - loss: 93239599104.0000 - val_loss: 89148891136.0000\n",
            "Epoch 618/1000\n",
            "4/4 [==============================] - 0s 11ms/step - loss: 93239590912.0000 - val_loss: 89148891136.0000\n",
            "Epoch 619/1000\n",
            "4/4 [==============================] - 0s 12ms/step - loss: 93239590912.0000 - val_loss: 89148891136.0000\n",
            "Epoch 620/1000\n",
            "4/4 [==============================] - 0s 11ms/step - loss: 93239599104.0000 - val_loss: 89148891136.0000\n",
            "Epoch 621/1000\n",
            "4/4 [==============================] - 0s 10ms/step - loss: 93239590912.0000 - val_loss: 89148891136.0000\n",
            "Epoch 622/1000\n",
            "4/4 [==============================] - 0s 11ms/step - loss: 93239590912.0000 - val_loss: 89148891136.0000\n",
            "Epoch 623/1000\n",
            "4/4 [==============================] - 0s 10ms/step - loss: 93239582720.0000 - val_loss: 89148891136.0000\n",
            "Epoch 624/1000\n",
            "4/4 [==============================] - 0s 11ms/step - loss: 93239582720.0000 - val_loss: 89148882944.0000\n",
            "Epoch 625/1000\n",
            "4/4 [==============================] - 0s 11ms/step - loss: 93239582720.0000 - val_loss: 89148882944.0000\n",
            "Epoch 626/1000\n",
            "4/4 [==============================] - 0s 14ms/step - loss: 93239574528.0000 - val_loss: 89148874752.0000\n",
            "Epoch 627/1000\n",
            "4/4 [==============================] - 0s 14ms/step - loss: 93239574528.0000 - val_loss: 89148874752.0000\n",
            "Epoch 628/1000\n",
            "4/4 [==============================] - 0s 11ms/step - loss: 93239582720.0000 - val_loss: 89148874752.0000\n",
            "Epoch 629/1000\n",
            "4/4 [==============================] - 0s 12ms/step - loss: 93239574528.0000 - val_loss: 89148874752.0000\n",
            "Epoch 630/1000\n",
            "4/4 [==============================] - 0s 20ms/step - loss: 93239574528.0000 - val_loss: 89148874752.0000\n",
            "Epoch 631/1000\n",
            "4/4 [==============================] - 0s 11ms/step - loss: 93239574528.0000 - val_loss: 89148874752.0000\n",
            "Epoch 632/1000\n",
            "4/4 [==============================] - 0s 11ms/step - loss: 93239558144.0000 - val_loss: 89148858368.0000\n",
            "Epoch 633/1000\n",
            "4/4 [==============================] - 0s 13ms/step - loss: 93239558144.0000 - val_loss: 89148858368.0000\n",
            "Epoch 634/1000\n",
            "4/4 [==============================] - 0s 12ms/step - loss: 93239549952.0000 - val_loss: 89148850176.0000\n",
            "Epoch 635/1000\n",
            "4/4 [==============================] - 0s 12ms/step - loss: 93239558144.0000 - val_loss: 89148850176.0000\n",
            "Epoch 636/1000\n",
            "4/4 [==============================] - 0s 10ms/step - loss: 93239558144.0000 - val_loss: 89148850176.0000\n",
            "Epoch 637/1000\n",
            "4/4 [==============================] - 0s 11ms/step - loss: 93239558144.0000 - val_loss: 89148850176.0000\n",
            "Epoch 638/1000\n",
            "4/4 [==============================] - 0s 11ms/step - loss: 93239549952.0000 - val_loss: 89148850176.0000\n",
            "Epoch 639/1000\n",
            "4/4 [==============================] - 0s 17ms/step - loss: 93239558144.0000 - val_loss: 89148841984.0000\n",
            "Epoch 640/1000\n",
            "4/4 [==============================] - 0s 12ms/step - loss: 93239541760.0000 - val_loss: 89148841984.0000\n",
            "Epoch 641/1000\n",
            "4/4 [==============================] - 0s 13ms/step - loss: 93239541760.0000 - val_loss: 89148833792.0000\n",
            "Epoch 642/1000\n",
            "4/4 [==============================] - 0s 12ms/step - loss: 93239541760.0000 - val_loss: 89148833792.0000\n",
            "Epoch 643/1000\n",
            "4/4 [==============================] - 0s 12ms/step - loss: 93239541760.0000 - val_loss: 89148833792.0000\n",
            "Epoch 644/1000\n",
            "4/4 [==============================] - 0s 15ms/step - loss: 93239541760.0000 - val_loss: 89148833792.0000\n",
            "Epoch 645/1000\n",
            "4/4 [==============================] - 0s 11ms/step - loss: 93239541760.0000 - val_loss: 89148833792.0000\n",
            "Epoch 646/1000\n",
            "4/4 [==============================] - 0s 12ms/step - loss: 93239533568.0000 - val_loss: 89148833792.0000\n",
            "Epoch 647/1000\n",
            "4/4 [==============================] - 0s 12ms/step - loss: 93239533568.0000 - val_loss: 89148825600.0000\n",
            "Epoch 648/1000\n",
            "4/4 [==============================] - 0s 10ms/step - loss: 93239533568.0000 - val_loss: 89148825600.0000\n",
            "Epoch 649/1000\n",
            "4/4 [==============================] - 0s 11ms/step - loss: 93239533568.0000 - val_loss: 89148817408.0000\n",
            "Epoch 650/1000\n",
            "4/4 [==============================] - 0s 10ms/step - loss: 93239517184.0000 - val_loss: 89148817408.0000\n",
            "Epoch 651/1000\n",
            "4/4 [==============================] - 0s 11ms/step - loss: 93239508992.0000 - val_loss: 89148817408.0000\n",
            "Epoch 652/1000\n",
            "4/4 [==============================] - 0s 11ms/step - loss: 93239517184.0000 - val_loss: 89148817408.0000\n",
            "Epoch 653/1000\n",
            "4/4 [==============================] - 0s 12ms/step - loss: 93239533568.0000 - val_loss: 89148809216.0000\n",
            "Epoch 654/1000\n",
            "4/4 [==============================] - 0s 11ms/step - loss: 93239517184.0000 - val_loss: 89148809216.0000\n",
            "Epoch 655/1000\n",
            "4/4 [==============================] - 0s 11ms/step - loss: 93239508992.0000 - val_loss: 89148809216.0000\n",
            "Epoch 656/1000\n",
            "4/4 [==============================] - 0s 10ms/step - loss: 93239508992.0000 - val_loss: 89148809216.0000\n",
            "Epoch 657/1000\n",
            "4/4 [==============================] - 0s 11ms/step - loss: 93239500800.0000 - val_loss: 89148801024.0000\n",
            "Epoch 658/1000\n",
            "4/4 [==============================] - 0s 11ms/step - loss: 93239500800.0000 - val_loss: 89148801024.0000\n",
            "Epoch 659/1000\n",
            "4/4 [==============================] - 0s 11ms/step - loss: 93239508992.0000 - val_loss: 89148801024.0000\n",
            "Epoch 660/1000\n",
            "4/4 [==============================] - 0s 10ms/step - loss: 93239500800.0000 - val_loss: 89148801024.0000\n",
            "Epoch 661/1000\n",
            "4/4 [==============================] - 0s 9ms/step - loss: 93239500800.0000 - val_loss: 89148801024.0000\n",
            "Epoch 662/1000\n",
            "4/4 [==============================] - 0s 11ms/step - loss: 93239500800.0000 - val_loss: 89148801024.0000\n",
            "Epoch 663/1000\n",
            "4/4 [==============================] - 0s 13ms/step - loss: 93239500800.0000 - val_loss: 89148792832.0000\n",
            "Epoch 664/1000\n",
            "4/4 [==============================] - 0s 13ms/step - loss: 93239492608.0000 - val_loss: 89148792832.0000\n",
            "Epoch 665/1000\n",
            "4/4 [==============================] - 0s 11ms/step - loss: 93239492608.0000 - val_loss: 89148784640.0000\n",
            "Epoch 666/1000\n",
            "4/4 [==============================] - 0s 12ms/step - loss: 93239492608.0000 - val_loss: 89148784640.0000\n",
            "Epoch 667/1000\n",
            "4/4 [==============================] - 0s 12ms/step - loss: 93239492608.0000 - val_loss: 89148784640.0000\n",
            "Epoch 668/1000\n",
            "4/4 [==============================] - 0s 11ms/step - loss: 93239492608.0000 - val_loss: 89148784640.0000\n",
            "Epoch 669/1000\n",
            "4/4 [==============================] - 0s 11ms/step - loss: 93239476224.0000 - val_loss: 89148776448.0000\n",
            "Epoch 670/1000\n",
            "4/4 [==============================] - 0s 12ms/step - loss: 93239476224.0000 - val_loss: 89148776448.0000\n",
            "Epoch 671/1000\n",
            "4/4 [==============================] - 0s 12ms/step - loss: 93239468032.0000 - val_loss: 89148768256.0000\n",
            "Epoch 672/1000\n",
            "4/4 [==============================] - 0s 11ms/step - loss: 93239468032.0000 - val_loss: 89148768256.0000\n",
            "Epoch 673/1000\n",
            "4/4 [==============================] - 0s 13ms/step - loss: 93239468032.0000 - val_loss: 89148768256.0000\n",
            "Epoch 674/1000\n",
            "4/4 [==============================] - 0s 14ms/step - loss: 93239468032.0000 - val_loss: 89148768256.0000\n",
            "Epoch 675/1000\n",
            "4/4 [==============================] - 0s 12ms/step - loss: 93239468032.0000 - val_loss: 89148768256.0000\n",
            "Epoch 676/1000\n",
            "4/4 [==============================] - 0s 11ms/step - loss: 93239468032.0000 - val_loss: 89148768256.0000\n",
            "Epoch 677/1000\n",
            "4/4 [==============================] - 0s 11ms/step - loss: 93239459840.0000 - val_loss: 89148760064.0000\n",
            "Epoch 678/1000\n",
            "4/4 [==============================] - 0s 10ms/step - loss: 93239459840.0000 - val_loss: 89148751872.0000\n",
            "Epoch 679/1000\n",
            "4/4 [==============================] - 0s 11ms/step - loss: 93239451648.0000 - val_loss: 89148751872.0000\n",
            "Epoch 680/1000\n",
            "4/4 [==============================] - 0s 10ms/step - loss: 93239459840.0000 - val_loss: 89148751872.0000\n",
            "Epoch 681/1000\n",
            "4/4 [==============================] - 0s 10ms/step - loss: 93239451648.0000 - val_loss: 89148751872.0000\n",
            "Epoch 682/1000\n",
            "4/4 [==============================] - 0s 11ms/step - loss: 93239451648.0000 - val_loss: 89148743680.0000\n",
            "Epoch 683/1000\n",
            "4/4 [==============================] - 0s 11ms/step - loss: 93239435264.0000 - val_loss: 89148743680.0000\n",
            "Epoch 684/1000\n",
            "4/4 [==============================] - 0s 13ms/step - loss: 93239451648.0000 - val_loss: 89148743680.0000\n",
            "Epoch 685/1000\n",
            "4/4 [==============================] - 0s 12ms/step - loss: 93239435264.0000 - val_loss: 89148743680.0000\n",
            "Epoch 686/1000\n",
            "4/4 [==============================] - 0s 14ms/step - loss: 93239435264.0000 - val_loss: 89148735488.0000\n",
            "Epoch 687/1000\n",
            "4/4 [==============================] - 0s 10ms/step - loss: 93239427072.0000 - val_loss: 89148735488.0000\n",
            "Epoch 688/1000\n",
            "4/4 [==============================] - 0s 12ms/step - loss: 93239435264.0000 - val_loss: 89148735488.0000\n",
            "Epoch 689/1000\n",
            "4/4 [==============================] - 0s 11ms/step - loss: 93239427072.0000 - val_loss: 89148735488.0000\n",
            "Epoch 690/1000\n",
            "4/4 [==============================] - 0s 12ms/step - loss: 93239427072.0000 - val_loss: 89148735488.0000\n",
            "Epoch 691/1000\n",
            "4/4 [==============================] - 0s 10ms/step - loss: 93239435264.0000 - val_loss: 89148735488.0000\n",
            "Epoch 692/1000\n",
            "4/4 [==============================] - 0s 12ms/step - loss: 93239435264.0000 - val_loss: 89148735488.0000\n",
            "Epoch 693/1000\n",
            "4/4 [==============================] - 0s 12ms/step - loss: 93239427072.0000 - val_loss: 89148735488.0000\n",
            "Epoch 694/1000\n",
            "4/4 [==============================] - 0s 12ms/step - loss: 93239418880.0000 - val_loss: 89148719104.0000\n",
            "Epoch 695/1000\n",
            "4/4 [==============================] - 0s 12ms/step - loss: 93239418880.0000 - val_loss: 89148719104.0000\n",
            "Epoch 696/1000\n",
            "4/4 [==============================] - 0s 12ms/step - loss: 93239418880.0000 - val_loss: 89148710912.0000\n",
            "Epoch 697/1000\n",
            "4/4 [==============================] - 0s 12ms/step - loss: 93239410688.0000 - val_loss: 89148710912.0000\n",
            "Epoch 698/1000\n",
            "4/4 [==============================] - 0s 12ms/step - loss: 93239418880.0000 - val_loss: 89148710912.0000\n",
            "Epoch 699/1000\n",
            "4/4 [==============================] - 0s 12ms/step - loss: 93239418880.0000 - val_loss: 89148710912.0000\n",
            "Epoch 700/1000\n",
            "4/4 [==============================] - 0s 11ms/step - loss: 93239410688.0000 - val_loss: 89148710912.0000\n",
            "Epoch 701/1000\n",
            "4/4 [==============================] - 0s 12ms/step - loss: 93239410688.0000 - val_loss: 89148710912.0000\n",
            "Epoch 702/1000\n",
            "4/4 [==============================] - 0s 19ms/step - loss: 93239410688.0000 - val_loss: 89148694528.0000\n",
            "Epoch 703/1000\n",
            "4/4 [==============================] - 0s 11ms/step - loss: 93239394304.0000 - val_loss: 89148694528.0000\n",
            "Epoch 704/1000\n",
            "4/4 [==============================] - 0s 12ms/step - loss: 93239394304.0000 - val_loss: 89148694528.0000\n",
            "Epoch 705/1000\n",
            "4/4 [==============================] - 0s 10ms/step - loss: 93239394304.0000 - val_loss: 89148694528.0000\n",
            "Epoch 706/1000\n",
            "4/4 [==============================] - 0s 11ms/step - loss: 93239394304.0000 - val_loss: 89148694528.0000\n",
            "Epoch 707/1000\n",
            "4/4 [==============================] - 0s 11ms/step - loss: 93239394304.0000 - val_loss: 89148694528.0000\n",
            "Epoch 708/1000\n",
            "4/4 [==============================] - 0s 14ms/step - loss: 93239394304.0000 - val_loss: 89148686336.0000\n",
            "Epoch 709/1000\n",
            "4/4 [==============================] - 0s 12ms/step - loss: 93239386112.0000 - val_loss: 89148686336.0000\n",
            "Epoch 710/1000\n",
            "4/4 [==============================] - 0s 15ms/step - loss: 93239394304.0000 - val_loss: 89148678144.0000\n",
            "Epoch 711/1000\n",
            "4/4 [==============================] - 0s 12ms/step - loss: 93239377920.0000 - val_loss: 89148678144.0000\n",
            "Epoch 712/1000\n",
            "4/4 [==============================] - 0s 10ms/step - loss: 93239377920.0000 - val_loss: 89148678144.0000\n",
            "Epoch 713/1000\n",
            "4/4 [==============================] - 0s 11ms/step - loss: 93239377920.0000 - val_loss: 89148678144.0000\n",
            "Epoch 714/1000\n",
            "4/4 [==============================] - 0s 12ms/step - loss: 93239377920.0000 - val_loss: 89148678144.0000\n",
            "Epoch 715/1000\n",
            "4/4 [==============================] - 0s 12ms/step - loss: 93239377920.0000 - val_loss: 89148678144.0000\n",
            "Epoch 716/1000\n",
            "4/4 [==============================] - 0s 10ms/step - loss: 93239369728.0000 - val_loss: 89148669952.0000\n",
            "Epoch 717/1000\n",
            "4/4 [==============================] - 0s 12ms/step - loss: 93239377920.0000 - val_loss: 89148669952.0000\n",
            "Epoch 718/1000\n",
            "4/4 [==============================] - 0s 11ms/step - loss: 93239361536.0000 - val_loss: 89148661760.0000\n",
            "Epoch 719/1000\n",
            "4/4 [==============================] - 0s 12ms/step - loss: 93239361536.0000 - val_loss: 89148661760.0000\n",
            "Epoch 720/1000\n",
            "4/4 [==============================] - 0s 11ms/step - loss: 93239361536.0000 - val_loss: 89148661760.0000\n",
            "Epoch 721/1000\n",
            "4/4 [==============================] - 0s 12ms/step - loss: 93239369728.0000 - val_loss: 89148661760.0000\n",
            "Epoch 722/1000\n",
            "4/4 [==============================] - 0s 12ms/step - loss: 93239369728.0000 - val_loss: 89148661760.0000\n",
            "Epoch 723/1000\n",
            "4/4 [==============================] - 0s 12ms/step - loss: 93239361536.0000 - val_loss: 89148661760.0000\n",
            "Epoch 724/1000\n",
            "4/4 [==============================] - 0s 12ms/step - loss: 93239361536.0000 - val_loss: 89148653568.0000\n",
            "Epoch 725/1000\n",
            "4/4 [==============================] - 0s 12ms/step - loss: 93239361536.0000 - val_loss: 89148653568.0000\n",
            "Epoch 726/1000\n",
            "4/4 [==============================] - 0s 11ms/step - loss: 93239345152.0000 - val_loss: 89148653568.0000\n",
            "Epoch 727/1000\n",
            "4/4 [==============================] - 0s 11ms/step - loss: 93239345152.0000 - val_loss: 89148653568.0000\n",
            "Epoch 728/1000\n",
            "4/4 [==============================] - 0s 11ms/step - loss: 93239336960.0000 - val_loss: 89148653568.0000\n",
            "Epoch 729/1000\n",
            "4/4 [==============================] - 0s 11ms/step - loss: 93239345152.0000 - val_loss: 89148637184.0000\n",
            "Epoch 730/1000\n",
            "4/4 [==============================] - 0s 12ms/step - loss: 93239336960.0000 - val_loss: 89148637184.0000\n",
            "Epoch 731/1000\n",
            "4/4 [==============================] - 0s 13ms/step - loss: 93239336960.0000 - val_loss: 89148637184.0000\n",
            "Epoch 732/1000\n",
            "4/4 [==============================] - 0s 12ms/step - loss: 93239336960.0000 - val_loss: 89148637184.0000\n",
            "Epoch 733/1000\n",
            "4/4 [==============================] - 0s 11ms/step - loss: 93239328768.0000 - val_loss: 89148628992.0000\n",
            "Epoch 734/1000\n",
            "4/4 [==============================] - 0s 13ms/step - loss: 93239320576.0000 - val_loss: 89148628992.0000\n",
            "Epoch 735/1000\n",
            "4/4 [==============================] - 0s 13ms/step - loss: 93239320576.0000 - val_loss: 89148612608.0000\n",
            "Epoch 736/1000\n",
            "4/4 [==============================] - 0s 10ms/step - loss: 93239320576.0000 - val_loss: 89148612608.0000\n",
            "Epoch 737/1000\n",
            "4/4 [==============================] - 0s 11ms/step - loss: 93239320576.0000 - val_loss: 89148612608.0000\n",
            "Epoch 738/1000\n",
            "4/4 [==============================] - 0s 13ms/step - loss: 93239320576.0000 - val_loss: 89148612608.0000\n",
            "Epoch 739/1000\n",
            "4/4 [==============================] - 0s 11ms/step - loss: 93239320576.0000 - val_loss: 89148612608.0000\n",
            "Epoch 740/1000\n",
            "4/4 [==============================] - 0s 12ms/step - loss: 93239320576.0000 - val_loss: 89148612608.0000\n",
            "Epoch 741/1000\n",
            "4/4 [==============================] - 0s 12ms/step - loss: 93239320576.0000 - val_loss: 89148612608.0000\n",
            "Epoch 742/1000\n",
            "4/4 [==============================] - 0s 13ms/step - loss: 93239304192.0000 - val_loss: 89148612608.0000\n",
            "Epoch 743/1000\n",
            "4/4 [==============================] - 0s 11ms/step - loss: 93239304192.0000 - val_loss: 89148604416.0000\n",
            "Epoch 744/1000\n",
            "4/4 [==============================] - 0s 13ms/step - loss: 93239304192.0000 - val_loss: 89148604416.0000\n",
            "Epoch 745/1000\n",
            "4/4 [==============================] - 0s 11ms/step - loss: 93239304192.0000 - val_loss: 89148604416.0000\n",
            "Epoch 746/1000\n",
            "4/4 [==============================] - 0s 12ms/step - loss: 93239296000.0000 - val_loss: 89148604416.0000\n",
            "Epoch 747/1000\n",
            "4/4 [==============================] - 0s 11ms/step - loss: 93239304192.0000 - val_loss: 89148604416.0000\n",
            "Epoch 748/1000\n",
            "4/4 [==============================] - 0s 11ms/step - loss: 93239304192.0000 - val_loss: 89148604416.0000\n",
            "Epoch 749/1000\n",
            "4/4 [==============================] - 0s 11ms/step - loss: 93239296000.0000 - val_loss: 89148588032.0000\n",
            "Epoch 750/1000\n",
            "4/4 [==============================] - 0s 11ms/step - loss: 93239296000.0000 - val_loss: 89148588032.0000\n",
            "Epoch 751/1000\n",
            "4/4 [==============================] - 0s 10ms/step - loss: 93239287808.0000 - val_loss: 89148588032.0000\n",
            "Epoch 752/1000\n",
            "4/4 [==============================] - 0s 11ms/step - loss: 93239296000.0000 - val_loss: 89148588032.0000\n",
            "Epoch 753/1000\n",
            "4/4 [==============================] - 0s 17ms/step - loss: 93239287808.0000 - val_loss: 89148588032.0000\n",
            "Epoch 754/1000\n",
            "4/4 [==============================] - 0s 14ms/step - loss: 93239287808.0000 - val_loss: 89148588032.0000\n",
            "Epoch 755/1000\n",
            "4/4 [==============================] - 0s 11ms/step - loss: 93239287808.0000 - val_loss: 89148579840.0000\n",
            "Epoch 756/1000\n",
            "4/4 [==============================] - 0s 13ms/step - loss: 93239287808.0000 - val_loss: 89148579840.0000\n",
            "Epoch 757/1000\n",
            "4/4 [==============================] - 0s 11ms/step - loss: 93239279616.0000 - val_loss: 89148571648.0000\n",
            "Epoch 758/1000\n",
            "4/4 [==============================] - 0s 10ms/step - loss: 93239279616.0000 - val_loss: 89148571648.0000\n",
            "Epoch 759/1000\n",
            "4/4 [==============================] - 0s 11ms/step - loss: 93239279616.0000 - val_loss: 89148571648.0000\n",
            "Epoch 760/1000\n",
            "4/4 [==============================] - 0s 13ms/step - loss: 93239263232.0000 - val_loss: 89148571648.0000\n",
            "Epoch 761/1000\n",
            "4/4 [==============================] - 0s 11ms/step - loss: 93239279616.0000 - val_loss: 89148571648.0000\n",
            "Epoch 762/1000\n",
            "4/4 [==============================] - 0s 11ms/step - loss: 93239263232.0000 - val_loss: 89148571648.0000\n",
            "Epoch 763/1000\n",
            "4/4 [==============================] - 0s 11ms/step - loss: 93239279616.0000 - val_loss: 89148571648.0000\n",
            "Epoch 764/1000\n",
            "4/4 [==============================] - 0s 12ms/step - loss: 93239255040.0000 - val_loss: 89148571648.0000\n",
            "Epoch 765/1000\n",
            "4/4 [==============================] - 0s 13ms/step - loss: 93239255040.0000 - val_loss: 89148555264.0000\n",
            "Epoch 766/1000\n",
            "4/4 [==============================] - 0s 14ms/step - loss: 93239255040.0000 - val_loss: 89148555264.0000\n",
            "Epoch 767/1000\n",
            "4/4 [==============================] - 0s 11ms/step - loss: 93239246848.0000 - val_loss: 89148547072.0000\n",
            "Epoch 768/1000\n",
            "4/4 [==============================] - 0s 12ms/step - loss: 93239246848.0000 - val_loss: 89148547072.0000\n",
            "Epoch 769/1000\n",
            "4/4 [==============================] - 0s 11ms/step - loss: 93239255040.0000 - val_loss: 89148547072.0000\n",
            "Epoch 770/1000\n",
            "4/4 [==============================] - 0s 13ms/step - loss: 93239246848.0000 - val_loss: 89148547072.0000\n",
            "Epoch 771/1000\n",
            "4/4 [==============================] - 0s 12ms/step - loss: 93239246848.0000 - val_loss: 89148547072.0000\n",
            "Epoch 772/1000\n",
            "4/4 [==============================] - 0s 12ms/step - loss: 93239238656.0000 - val_loss: 89148547072.0000\n",
            "Epoch 773/1000\n",
            "4/4 [==============================] - 0s 10ms/step - loss: 93239238656.0000 - val_loss: 89148538880.0000\n",
            "Epoch 774/1000\n",
            "4/4 [==============================] - 0s 11ms/step - loss: 93239238656.0000 - val_loss: 89148538880.0000\n",
            "Epoch 775/1000\n",
            "4/4 [==============================] - 0s 11ms/step - loss: 93239238656.0000 - val_loss: 89148530688.0000\n",
            "Epoch 776/1000\n",
            "4/4 [==============================] - 0s 10ms/step - loss: 93239222272.0000 - val_loss: 89148530688.0000\n",
            "Epoch 777/1000\n",
            "4/4 [==============================] - 0s 13ms/step - loss: 93239222272.0000 - val_loss: 89148530688.0000\n",
            "Epoch 778/1000\n",
            "4/4 [==============================] - 0s 12ms/step - loss: 93239238656.0000 - val_loss: 89148530688.0000\n",
            "Epoch 779/1000\n",
            "4/4 [==============================] - 0s 12ms/step - loss: 93239222272.0000 - val_loss: 89148530688.0000\n",
            "Epoch 780/1000\n",
            "4/4 [==============================] - 0s 11ms/step - loss: 93239238656.0000 - val_loss: 89148522496.0000\n",
            "Epoch 781/1000\n",
            "4/4 [==============================] - 0s 12ms/step - loss: 93239214080.0000 - val_loss: 89148522496.0000\n",
            "Epoch 782/1000\n",
            "4/4 [==============================] - 0s 13ms/step - loss: 93239214080.0000 - val_loss: 89148522496.0000\n",
            "Epoch 783/1000\n",
            "4/4 [==============================] - 0s 13ms/step - loss: 93239214080.0000 - val_loss: 89148522496.0000\n",
            "Epoch 784/1000\n",
            "4/4 [==============================] - 0s 12ms/step - loss: 93239214080.0000 - val_loss: 89148522496.0000\n",
            "Epoch 785/1000\n",
            "4/4 [==============================] - 0s 10ms/step - loss: 93239214080.0000 - val_loss: 89148522496.0000\n",
            "Epoch 786/1000\n",
            "4/4 [==============================] - 0s 15ms/step - loss: 93239214080.0000 - val_loss: 89148506112.0000\n",
            "Epoch 787/1000\n",
            "4/4 [==============================] - 0s 12ms/step - loss: 93239214080.0000 - val_loss: 89148506112.0000\n",
            "Epoch 788/1000\n",
            "4/4 [==============================] - 0s 14ms/step - loss: 93239205888.0000 - val_loss: 89148506112.0000\n",
            "Epoch 789/1000\n",
            "4/4 [==============================] - 0s 12ms/step - loss: 93239205888.0000 - val_loss: 89148506112.0000\n",
            "Epoch 790/1000\n",
            "4/4 [==============================] - 0s 12ms/step - loss: 93239205888.0000 - val_loss: 89148506112.0000\n",
            "Epoch 791/1000\n",
            "4/4 [==============================] - 0s 12ms/step - loss: 93239197696.0000 - val_loss: 89148506112.0000\n",
            "Epoch 792/1000\n",
            "4/4 [==============================] - 0s 13ms/step - loss: 93239197696.0000 - val_loss: 89148497920.0000\n",
            "Epoch 793/1000\n",
            "4/4 [==============================] - 0s 11ms/step - loss: 93239181312.0000 - val_loss: 89148497920.0000\n",
            "Epoch 794/1000\n",
            "4/4 [==============================] - 0s 10ms/step - loss: 93239197696.0000 - val_loss: 89148489728.0000\n",
            "Epoch 795/1000\n",
            "4/4 [==============================] - 0s 10ms/step - loss: 93239197696.0000 - val_loss: 89148489728.0000\n",
            "Epoch 796/1000\n",
            "4/4 [==============================] - 0s 11ms/step - loss: 93239181312.0000 - val_loss: 89148481536.0000\n",
            "Epoch 797/1000\n",
            "4/4 [==============================] - 0s 16ms/step - loss: 93239181312.0000 - val_loss: 89148481536.0000\n",
            "Epoch 798/1000\n",
            "4/4 [==============================] - 0s 10ms/step - loss: 93239173120.0000 - val_loss: 89148473344.0000\n",
            "Epoch 799/1000\n",
            "4/4 [==============================] - 0s 14ms/step - loss: 93239181312.0000 - val_loss: 89148473344.0000\n",
            "Epoch 800/1000\n",
            "4/4 [==============================] - 0s 11ms/step - loss: 93239197696.0000 - val_loss: 89148473344.0000\n",
            "Epoch 801/1000\n",
            "4/4 [==============================] - 0s 12ms/step - loss: 93239173120.0000 - val_loss: 89148473344.0000\n",
            "Epoch 802/1000\n",
            "4/4 [==============================] - 0s 10ms/step - loss: 93239173120.0000 - val_loss: 89148473344.0000\n",
            "Epoch 803/1000\n",
            "4/4 [==============================] - 0s 13ms/step - loss: 93239173120.0000 - val_loss: 89148473344.0000\n",
            "Epoch 804/1000\n",
            "4/4 [==============================] - 0s 11ms/step - loss: 93239173120.0000 - val_loss: 89148465152.0000\n",
            "Epoch 805/1000\n",
            "4/4 [==============================] - 0s 12ms/step - loss: 93239164928.0000 - val_loss: 89148465152.0000\n",
            "Epoch 806/1000\n",
            "4/4 [==============================] - 0s 12ms/step - loss: 93239164928.0000 - val_loss: 89148465152.0000\n",
            "Epoch 807/1000\n",
            "4/4 [==============================] - 0s 11ms/step - loss: 93239164928.0000 - val_loss: 89148465152.0000\n",
            "Epoch 808/1000\n",
            "4/4 [==============================] - 0s 13ms/step - loss: 93239164928.0000 - val_loss: 89148465152.0000\n",
            "Epoch 809/1000\n",
            "4/4 [==============================] - 0s 19ms/step - loss: 93239156736.0000 - val_loss: 89148465152.0000\n",
            "Epoch 810/1000\n",
            "4/4 [==============================] - 0s 15ms/step - loss: 93239164928.0000 - val_loss: 89148456960.0000\n",
            "Epoch 811/1000\n",
            "4/4 [==============================] - 0s 11ms/step - loss: 93239156736.0000 - val_loss: 89148456960.0000\n",
            "Epoch 812/1000\n",
            "4/4 [==============================] - 0s 12ms/step - loss: 93239140352.0000 - val_loss: 89148448768.0000\n",
            "Epoch 813/1000\n",
            "4/4 [==============================] - 0s 11ms/step - loss: 93239140352.0000 - val_loss: 89148448768.0000\n",
            "Epoch 814/1000\n",
            "4/4 [==============================] - 0s 11ms/step - loss: 93239140352.0000 - val_loss: 89148448768.0000\n",
            "Epoch 815/1000\n",
            "4/4 [==============================] - 0s 12ms/step - loss: 93239132160.0000 - val_loss: 89148448768.0000\n",
            "Epoch 816/1000\n",
            "4/4 [==============================] - 0s 12ms/step - loss: 93239132160.0000 - val_loss: 89148448768.0000\n",
            "Epoch 817/1000\n",
            "4/4 [==============================] - 0s 11ms/step - loss: 93239140352.0000 - val_loss: 89148448768.0000\n",
            "Epoch 818/1000\n",
            "4/4 [==============================] - 0s 13ms/step - loss: 93239132160.0000 - val_loss: 89148440576.0000\n",
            "Epoch 819/1000\n",
            "4/4 [==============================] - 0s 12ms/step - loss: 93239132160.0000 - val_loss: 89148440576.0000\n",
            "Epoch 820/1000\n",
            "4/4 [==============================] - 0s 11ms/step - loss: 93239132160.0000 - val_loss: 89148432384.0000\n",
            "Epoch 821/1000\n",
            "4/4 [==============================] - 0s 12ms/step - loss: 93239132160.0000 - val_loss: 89148432384.0000\n",
            "Epoch 822/1000\n",
            "4/4 [==============================] - 0s 12ms/step - loss: 93239123968.0000 - val_loss: 89148424192.0000\n",
            "Epoch 823/1000\n",
            "4/4 [==============================] - 0s 13ms/step - loss: 93239123968.0000 - val_loss: 89148424192.0000\n",
            "Epoch 824/1000\n",
            "4/4 [==============================] - 0s 12ms/step - loss: 93239123968.0000 - val_loss: 89148424192.0000\n",
            "Epoch 825/1000\n",
            "4/4 [==============================] - 0s 14ms/step - loss: 93239123968.0000 - val_loss: 89148424192.0000\n",
            "Epoch 826/1000\n",
            "4/4 [==============================] - 0s 11ms/step - loss: 93239123968.0000 - val_loss: 89148424192.0000\n",
            "Epoch 827/1000\n",
            "4/4 [==============================] - 0s 11ms/step - loss: 93239115776.0000 - val_loss: 89148416000.0000\n",
            "Epoch 828/1000\n",
            "4/4 [==============================] - 0s 13ms/step - loss: 93239115776.0000 - val_loss: 89148407808.0000\n",
            "Epoch 829/1000\n",
            "4/4 [==============================] - 0s 16ms/step - loss: 93239099392.0000 - val_loss: 89148407808.0000\n",
            "Epoch 830/1000\n",
            "4/4 [==============================] - 0s 12ms/step - loss: 93239099392.0000 - val_loss: 89148407808.0000\n",
            "Epoch 831/1000\n",
            "4/4 [==============================] - 0s 14ms/step - loss: 93239099392.0000 - val_loss: 89148407808.0000\n",
            "Epoch 832/1000\n",
            "4/4 [==============================] - 0s 12ms/step - loss: 93239099392.0000 - val_loss: 89148407808.0000\n",
            "Epoch 833/1000\n",
            "4/4 [==============================] - 0s 18ms/step - loss: 93239115776.0000 - val_loss: 89148399616.0000\n",
            "Epoch 834/1000\n",
            "4/4 [==============================] - 0s 11ms/step - loss: 93239099392.0000 - val_loss: 89148399616.0000\n",
            "Epoch 835/1000\n",
            "4/4 [==============================] - 0s 14ms/step - loss: 93239091200.0000 - val_loss: 89148399616.0000\n",
            "Epoch 836/1000\n",
            "4/4 [==============================] - 0s 12ms/step - loss: 93239083008.0000 - val_loss: 89148399616.0000\n",
            "Epoch 837/1000\n",
            "4/4 [==============================] - 0s 14ms/step - loss: 93239091200.0000 - val_loss: 89148391424.0000\n",
            "Epoch 838/1000\n",
            "4/4 [==============================] - 0s 11ms/step - loss: 93239091200.0000 - val_loss: 89148391424.0000\n",
            "Epoch 839/1000\n",
            "4/4 [==============================] - 0s 13ms/step - loss: 93239091200.0000 - val_loss: 89148391424.0000\n",
            "Epoch 840/1000\n",
            "4/4 [==============================] - 0s 12ms/step - loss: 93239091200.0000 - val_loss: 89148391424.0000\n",
            "Epoch 841/1000\n",
            "4/4 [==============================] - 0s 17ms/step - loss: 93239091200.0000 - val_loss: 89148391424.0000\n",
            "Epoch 842/1000\n",
            "4/4 [==============================] - 0s 15ms/step - loss: 93239074816.0000 - val_loss: 89148391424.0000\n",
            "Epoch 843/1000\n",
            "4/4 [==============================] - 0s 12ms/step - loss: 93239083008.0000 - val_loss: 89148375040.0000\n",
            "Epoch 844/1000\n",
            "4/4 [==============================] - 0s 13ms/step - loss: 93239074816.0000 - val_loss: 89148375040.0000\n",
            "Epoch 845/1000\n",
            "4/4 [==============================] - 0s 12ms/step - loss: 93239058432.0000 - val_loss: 89148366848.0000\n",
            "Epoch 846/1000\n",
            "4/4 [==============================] - 0s 12ms/step - loss: 93239074816.0000 - val_loss: 89148366848.0000\n",
            "Epoch 847/1000\n",
            "4/4 [==============================] - 0s 13ms/step - loss: 93239058432.0000 - val_loss: 89148366848.0000\n",
            "Epoch 848/1000\n",
            "4/4 [==============================] - 0s 13ms/step - loss: 93239074816.0000 - val_loss: 89148366848.0000\n",
            "Epoch 849/1000\n",
            "4/4 [==============================] - 0s 12ms/step - loss: 93239074816.0000 - val_loss: 89148366848.0000\n",
            "Epoch 850/1000\n",
            "4/4 [==============================] - 0s 13ms/step - loss: 93239074816.0000 - val_loss: 89148366848.0000\n",
            "Epoch 851/1000\n",
            "4/4 [==============================] - 0s 11ms/step - loss: 93239058432.0000 - val_loss: 89148358656.0000\n",
            "Epoch 852/1000\n",
            "4/4 [==============================] - 0s 13ms/step - loss: 93239042048.0000 - val_loss: 89148358656.0000\n",
            "Epoch 853/1000\n",
            "4/4 [==============================] - 0s 12ms/step - loss: 93239050240.0000 - val_loss: 89148350464.0000\n",
            "Epoch 854/1000\n",
            "4/4 [==============================] - 0s 15ms/step - loss: 93239050240.0000 - val_loss: 89148350464.0000\n",
            "Epoch 855/1000\n",
            "4/4 [==============================] - 0s 12ms/step - loss: 93239058432.0000 - val_loss: 89148350464.0000\n",
            "Epoch 856/1000\n",
            "4/4 [==============================] - 0s 11ms/step - loss: 93239050240.0000 - val_loss: 89148350464.0000\n",
            "Epoch 857/1000\n",
            "4/4 [==============================] - 0s 11ms/step - loss: 93239050240.0000 - val_loss: 89148350464.0000\n",
            "Epoch 858/1000\n",
            "4/4 [==============================] - 0s 13ms/step - loss: 93239050240.0000 - val_loss: 89148350464.0000\n",
            "Epoch 859/1000\n",
            "4/4 [==============================] - 0s 11ms/step - loss: 93239042048.0000 - val_loss: 89148342272.0000\n",
            "Epoch 860/1000\n",
            "4/4 [==============================] - 0s 12ms/step - loss: 93239033856.0000 - val_loss: 89148342272.0000\n",
            "Epoch 861/1000\n",
            "4/4 [==============================] - 0s 12ms/step - loss: 93239033856.0000 - val_loss: 89148325888.0000\n",
            "Epoch 862/1000\n",
            "4/4 [==============================] - 0s 13ms/step - loss: 93239033856.0000 - val_loss: 89148325888.0000\n",
            "Epoch 863/1000\n",
            "4/4 [==============================] - 0s 11ms/step - loss: 93239033856.0000 - val_loss: 89148325888.0000\n",
            "Epoch 864/1000\n",
            "4/4 [==============================] - 0s 12ms/step - loss: 93239033856.0000 - val_loss: 89148325888.0000\n",
            "Epoch 865/1000\n",
            "4/4 [==============================] - 0s 12ms/step - loss: 93239033856.0000 - val_loss: 89148325888.0000\n",
            "Epoch 866/1000\n",
            "4/4 [==============================] - 0s 11ms/step - loss: 93239033856.0000 - val_loss: 89148325888.0000\n",
            "Epoch 867/1000\n",
            "4/4 [==============================] - 0s 12ms/step - loss: 93239033856.0000 - val_loss: 89148325888.0000\n",
            "Epoch 868/1000\n",
            "4/4 [==============================] - 0s 11ms/step - loss: 93239025664.0000 - val_loss: 89148325888.0000\n",
            "Epoch 869/1000\n",
            "4/4 [==============================] - 0s 11ms/step - loss: 93239025664.0000 - val_loss: 89148317696.0000\n",
            "Epoch 870/1000\n",
            "4/4 [==============================] - 0s 12ms/step - loss: 93239009280.0000 - val_loss: 89148317696.0000\n",
            "Epoch 871/1000\n",
            "4/4 [==============================] - 0s 12ms/step - loss: 93239009280.0000 - val_loss: 89148309504.0000\n",
            "Epoch 872/1000\n",
            "4/4 [==============================] - 0s 12ms/step - loss: 93239009280.0000 - val_loss: 89148309504.0000\n",
            "Epoch 873/1000\n",
            "4/4 [==============================] - 0s 12ms/step - loss: 93239009280.0000 - val_loss: 89148309504.0000\n",
            "Epoch 874/1000\n",
            "4/4 [==============================] - 0s 13ms/step - loss: 93239009280.0000 - val_loss: 89148293120.0000\n",
            "Epoch 875/1000\n",
            "4/4 [==============================] - 0s 11ms/step - loss: 93239001088.0000 - val_loss: 89148293120.0000\n",
            "Epoch 876/1000\n",
            "4/4 [==============================] - 0s 11ms/step - loss: 93239001088.0000 - val_loss: 89148293120.0000\n",
            "Epoch 877/1000\n",
            "4/4 [==============================] - 0s 11ms/step - loss: 93239001088.0000 - val_loss: 89148293120.0000\n",
            "Epoch 878/1000\n",
            "4/4 [==============================] - 0s 12ms/step - loss: 93238992896.0000 - val_loss: 89148293120.0000\n",
            "Epoch 879/1000\n",
            "4/4 [==============================] - 0s 13ms/step - loss: 93238992896.0000 - val_loss: 89148293120.0000\n",
            "Epoch 880/1000\n",
            "4/4 [==============================] - 0s 17ms/step - loss: 93238992896.0000 - val_loss: 89148293120.0000\n",
            "Epoch 881/1000\n",
            "4/4 [==============================] - 0s 14ms/step - loss: 93239001088.0000 - val_loss: 89148293120.0000\n",
            "Epoch 882/1000\n",
            "4/4 [==============================] - 0s 12ms/step - loss: 93238992896.0000 - val_loss: 89148276736.0000\n",
            "Epoch 883/1000\n",
            "4/4 [==============================] - 0s 12ms/step - loss: 93238992896.0000 - val_loss: 89148276736.0000\n",
            "Epoch 884/1000\n",
            "4/4 [==============================] - 0s 13ms/step - loss: 93238984704.0000 - val_loss: 89148276736.0000\n",
            "Epoch 885/1000\n",
            "4/4 [==============================] - 0s 13ms/step - loss: 93238984704.0000 - val_loss: 89148276736.0000\n",
            "Epoch 886/1000\n",
            "4/4 [==============================] - 0s 13ms/step - loss: 93238968320.0000 - val_loss: 89148276736.0000\n",
            "Epoch 887/1000\n",
            "4/4 [==============================] - 0s 12ms/step - loss: 93238968320.0000 - val_loss: 89148276736.0000\n",
            "Epoch 888/1000\n",
            "4/4 [==============================] - 0s 10ms/step - loss: 93238984704.0000 - val_loss: 89148276736.0000\n",
            "Epoch 889/1000\n",
            "4/4 [==============================] - 0s 10ms/step - loss: 93238968320.0000 - val_loss: 89148276736.0000\n",
            "Epoch 890/1000\n",
            "4/4 [==============================] - 0s 14ms/step - loss: 93238968320.0000 - val_loss: 89148268544.0000\n",
            "Epoch 891/1000\n",
            "4/4 [==============================] - 0s 12ms/step - loss: 93238960128.0000 - val_loss: 89148268544.0000\n",
            "Epoch 892/1000\n",
            "4/4 [==============================] - 0s 15ms/step - loss: 93238968320.0000 - val_loss: 89148260352.0000\n",
            "Epoch 893/1000\n",
            "4/4 [==============================] - 0s 14ms/step - loss: 93238960128.0000 - val_loss: 89148260352.0000\n",
            "Epoch 894/1000\n",
            "4/4 [==============================] - 0s 11ms/step - loss: 93238968320.0000 - val_loss: 89148260352.0000\n",
            "Epoch 895/1000\n",
            "4/4 [==============================] - 0s 12ms/step - loss: 93238968320.0000 - val_loss: 89148260352.0000\n",
            "Epoch 896/1000\n",
            "4/4 [==============================] - 0s 18ms/step - loss: 93238960128.0000 - val_loss: 89148260352.0000\n",
            "Epoch 897/1000\n",
            "4/4 [==============================] - 0s 13ms/step - loss: 93238960128.0000 - val_loss: 89148260352.0000\n",
            "Epoch 898/1000\n",
            "4/4 [==============================] - 0s 11ms/step - loss: 93238960128.0000 - val_loss: 89148243968.0000\n",
            "Epoch 899/1000\n",
            "4/4 [==============================] - 0s 11ms/step - loss: 93238951936.0000 - val_loss: 89148243968.0000\n",
            "Epoch 900/1000\n",
            "4/4 [==============================] - 0s 12ms/step - loss: 93238951936.0000 - val_loss: 89148243968.0000\n",
            "Epoch 901/1000\n",
            "4/4 [==============================] - 0s 12ms/step - loss: 93238951936.0000 - val_loss: 89148243968.0000\n",
            "Epoch 902/1000\n",
            "4/4 [==============================] - 0s 13ms/step - loss: 93238943744.0000 - val_loss: 89148243968.0000\n",
            "Epoch 903/1000\n",
            "4/4 [==============================] - 0s 11ms/step - loss: 93238951936.0000 - val_loss: 89148243968.0000\n",
            "Epoch 904/1000\n",
            "4/4 [==============================] - 0s 12ms/step - loss: 93238943744.0000 - val_loss: 89148243968.0000\n",
            "Epoch 905/1000\n",
            "4/4 [==============================] - 0s 18ms/step - loss: 93238943744.0000 - val_loss: 89148243968.0000\n",
            "Epoch 906/1000\n",
            "4/4 [==============================] - 0s 11ms/step - loss: 93238927360.0000 - val_loss: 89148227584.0000\n",
            "Epoch 907/1000\n",
            "4/4 [==============================] - 0s 12ms/step - loss: 93238927360.0000 - val_loss: 89148227584.0000\n",
            "Epoch 908/1000\n",
            "4/4 [==============================] - 0s 12ms/step - loss: 93238927360.0000 - val_loss: 89148227584.0000\n",
            "Epoch 909/1000\n",
            "4/4 [==============================] - 0s 15ms/step - loss: 93238919168.0000 - val_loss: 89148227584.0000\n",
            "Epoch 910/1000\n",
            "4/4 [==============================] - 0s 13ms/step - loss: 93238927360.0000 - val_loss: 89148227584.0000\n",
            "Epoch 911/1000\n",
            "4/4 [==============================] - 0s 14ms/step - loss: 93238919168.0000 - val_loss: 89148227584.0000\n",
            "Epoch 912/1000\n",
            "4/4 [==============================] - 0s 12ms/step - loss: 93238927360.0000 - val_loss: 89148227584.0000\n",
            "Epoch 913/1000\n",
            "4/4 [==============================] - 0s 14ms/step - loss: 93238919168.0000 - val_loss: 89148227584.0000\n",
            "Epoch 914/1000\n",
            "4/4 [==============================] - 0s 11ms/step - loss: 93238919168.0000 - val_loss: 89148211200.0000\n",
            "Epoch 915/1000\n",
            "4/4 [==============================] - 0s 12ms/step - loss: 93238910976.0000 - val_loss: 89148211200.0000\n",
            "Epoch 916/1000\n",
            "4/4 [==============================] - 0s 11ms/step - loss: 93238902784.0000 - val_loss: 89148211200.0000\n",
            "Epoch 917/1000\n",
            "4/4 [==============================] - 0s 11ms/step - loss: 93238910976.0000 - val_loss: 89148211200.0000\n",
            "Epoch 918/1000\n",
            "4/4 [==============================] - 0s 11ms/step - loss: 93238919168.0000 - val_loss: 89148211200.0000\n",
            "Epoch 919/1000\n",
            "4/4 [==============================] - 0s 10ms/step - loss: 93238910976.0000 - val_loss: 89148211200.0000\n",
            "Epoch 920/1000\n",
            "4/4 [==============================] - 0s 13ms/step - loss: 93238910976.0000 - val_loss: 89148211200.0000\n",
            "Epoch 921/1000\n",
            "4/4 [==============================] - 0s 10ms/step - loss: 93238910976.0000 - val_loss: 89148211200.0000\n",
            "Epoch 922/1000\n",
            "4/4 [==============================] - 0s 11ms/step - loss: 93238902784.0000 - val_loss: 89148194816.0000\n",
            "Epoch 923/1000\n",
            "4/4 [==============================] - 0s 12ms/step - loss: 93238902784.0000 - val_loss: 89148194816.0000\n",
            "Epoch 924/1000\n",
            "4/4 [==============================] - 0s 12ms/step - loss: 93238886400.0000 - val_loss: 89148194816.0000\n",
            "Epoch 925/1000\n",
            "4/4 [==============================] - 0s 11ms/step - loss: 93238878208.0000 - val_loss: 89148194816.0000\n",
            "Epoch 926/1000\n",
            "4/4 [==============================] - 0s 11ms/step - loss: 93238886400.0000 - val_loss: 89148194816.0000\n",
            "Epoch 927/1000\n",
            "4/4 [==============================] - 0s 12ms/step - loss: 93238886400.0000 - val_loss: 89148186624.0000\n",
            "Epoch 928/1000\n",
            "4/4 [==============================] - 0s 13ms/step - loss: 93238878208.0000 - val_loss: 89148186624.0000\n",
            "Epoch 929/1000\n",
            "4/4 [==============================] - 0s 13ms/step - loss: 93238878208.0000 - val_loss: 89148178432.0000\n",
            "Epoch 930/1000\n",
            "4/4 [==============================] - 0s 12ms/step - loss: 93238878208.0000 - val_loss: 89148178432.0000\n",
            "Epoch 931/1000\n",
            "4/4 [==============================] - 0s 10ms/step - loss: 93238870016.0000 - val_loss: 89148178432.0000\n",
            "Epoch 932/1000\n",
            "4/4 [==============================] - 0s 10ms/step - loss: 93238878208.0000 - val_loss: 89148178432.0000\n",
            "Epoch 933/1000\n",
            "4/4 [==============================] - 0s 11ms/step - loss: 93238870016.0000 - val_loss: 89148178432.0000\n",
            "Epoch 934/1000\n",
            "4/4 [==============================] - 0s 10ms/step - loss: 93238870016.0000 - val_loss: 89148178432.0000\n",
            "Epoch 935/1000\n",
            "4/4 [==============================] - 0s 11ms/step - loss: 93238870016.0000 - val_loss: 89148170240.0000\n",
            "Epoch 936/1000\n",
            "4/4 [==============================] - 0s 10ms/step - loss: 93238870016.0000 - val_loss: 89148170240.0000\n",
            "Epoch 937/1000\n",
            "4/4 [==============================] - 0s 10ms/step - loss: 93238870016.0000 - val_loss: 89148162048.0000\n",
            "Epoch 938/1000\n",
            "4/4 [==============================] - 0s 11ms/step - loss: 93238861824.0000 - val_loss: 89148162048.0000\n",
            "Epoch 939/1000\n",
            "4/4 [==============================] - 0s 14ms/step - loss: 93238861824.0000 - val_loss: 89148145664.0000\n",
            "Epoch 940/1000\n",
            "4/4 [==============================] - 0s 14ms/step - loss: 93238845440.0000 - val_loss: 89148145664.0000\n",
            "Epoch 941/1000\n",
            "4/4 [==============================] - 0s 13ms/step - loss: 93238845440.0000 - val_loss: 89148145664.0000\n",
            "Epoch 942/1000\n",
            "4/4 [==============================] - 0s 11ms/step - loss: 93238861824.0000 - val_loss: 89148145664.0000\n",
            "Epoch 943/1000\n",
            "4/4 [==============================] - 0s 11ms/step - loss: 93238845440.0000 - val_loss: 89148145664.0000\n",
            "Epoch 944/1000\n",
            "4/4 [==============================] - 0s 15ms/step - loss: 93238845440.0000 - val_loss: 89148145664.0000\n",
            "Epoch 945/1000\n",
            "4/4 [==============================] - 0s 16ms/step - loss: 93238845440.0000 - val_loss: 89148137472.0000\n",
            "Epoch 946/1000\n",
            "4/4 [==============================] - 0s 11ms/step - loss: 93238829056.0000 - val_loss: 89148137472.0000\n",
            "Epoch 947/1000\n",
            "4/4 [==============================] - 0s 14ms/step - loss: 93238837248.0000 - val_loss: 89148137472.0000\n",
            "Epoch 948/1000\n",
            "4/4 [==============================] - 0s 11ms/step - loss: 93238837248.0000 - val_loss: 89148137472.0000\n",
            "Epoch 949/1000\n",
            "4/4 [==============================] - 0s 10ms/step - loss: 93238837248.0000 - val_loss: 89148137472.0000\n",
            "Epoch 950/1000\n",
            "4/4 [==============================] - 0s 13ms/step - loss: 93238829056.0000 - val_loss: 89148137472.0000\n",
            "Epoch 951/1000\n",
            "4/4 [==============================] - 0s 13ms/step - loss: 93238829056.0000 - val_loss: 89148129280.0000\n",
            "Epoch 952/1000\n",
            "4/4 [==============================] - 0s 12ms/step - loss: 93238837248.0000 - val_loss: 89148129280.0000\n",
            "Epoch 953/1000\n",
            "4/4 [==============================] - 0s 12ms/step - loss: 93238829056.0000 - val_loss: 89148121088.0000\n",
            "Epoch 954/1000\n",
            "4/4 [==============================] - 0s 10ms/step - loss: 93238829056.0000 - val_loss: 89148121088.0000\n",
            "Epoch 955/1000\n",
            "4/4 [==============================] - 0s 10ms/step - loss: 93238820864.0000 - val_loss: 89148112896.0000\n",
            "Epoch 956/1000\n",
            "4/4 [==============================] - 0s 11ms/step - loss: 93238804480.0000 - val_loss: 89148112896.0000\n",
            "Epoch 957/1000\n",
            "4/4 [==============================] - 0s 10ms/step - loss: 93238820864.0000 - val_loss: 89148112896.0000\n",
            "Epoch 958/1000\n",
            "4/4 [==============================] - 0s 10ms/step - loss: 93238820864.0000 - val_loss: 89148112896.0000\n",
            "Epoch 959/1000\n",
            "4/4 [==============================] - 0s 12ms/step - loss: 93238820864.0000 - val_loss: 89148112896.0000\n",
            "Epoch 960/1000\n",
            "4/4 [==============================] - 0s 10ms/step - loss: 93238820864.0000 - val_loss: 89148112896.0000\n",
            "Epoch 961/1000\n",
            "4/4 [==============================] - 0s 13ms/step - loss: 93238804480.0000 - val_loss: 89148104704.0000\n",
            "Epoch 962/1000\n",
            "4/4 [==============================] - 0s 12ms/step - loss: 93238796288.0000 - val_loss: 89148104704.0000\n",
            "Epoch 963/1000\n",
            "4/4 [==============================] - 0s 10ms/step - loss: 93238796288.0000 - val_loss: 89148104704.0000\n",
            "Epoch 964/1000\n",
            "4/4 [==============================] - 0s 12ms/step - loss: 93238796288.0000 - val_loss: 89148104704.0000\n",
            "Epoch 965/1000\n",
            "4/4 [==============================] - 0s 10ms/step - loss: 93238796288.0000 - val_loss: 89148104704.0000\n",
            "Epoch 966/1000\n",
            "4/4 [==============================] - 0s 12ms/step - loss: 93238796288.0000 - val_loss: 89148104704.0000\n",
            "Epoch 967/1000\n",
            "4/4 [==============================] - 0s 12ms/step - loss: 93238788096.0000 - val_loss: 89148096512.0000\n",
            "Epoch 968/1000\n",
            "4/4 [==============================] - 0s 12ms/step - loss: 93238796288.0000 - val_loss: 89148096512.0000\n",
            "Epoch 969/1000\n",
            "4/4 [==============================] - 0s 10ms/step - loss: 93238796288.0000 - val_loss: 89148088320.0000\n",
            "Epoch 970/1000\n",
            "4/4 [==============================] - 0s 10ms/step - loss: 93238788096.0000 - val_loss: 89148088320.0000\n",
            "Epoch 971/1000\n",
            "4/4 [==============================] - 0s 10ms/step - loss: 93238779904.0000 - val_loss: 89148088320.0000\n",
            "Epoch 972/1000\n",
            "4/4 [==============================] - 0s 10ms/step - loss: 93238788096.0000 - val_loss: 89148088320.0000\n",
            "Epoch 973/1000\n",
            "4/4 [==============================] - 0s 10ms/step - loss: 93238779904.0000 - val_loss: 89148088320.0000\n",
            "Epoch 974/1000\n",
            "4/4 [==============================] - 0s 14ms/step - loss: 93238779904.0000 - val_loss: 89148080128.0000\n",
            "Epoch 975/1000\n",
            "4/4 [==============================] - 0s 12ms/step - loss: 93238779904.0000 - val_loss: 89148080128.0000\n",
            "Epoch 976/1000\n",
            "4/4 [==============================] - 0s 10ms/step - loss: 93238779904.0000 - val_loss: 89148080128.0000\n",
            "Epoch 977/1000\n",
            "4/4 [==============================] - 0s 10ms/step - loss: 93238763520.0000 - val_loss: 89148071936.0000\n",
            "Epoch 978/1000\n",
            "4/4 [==============================] - 0s 10ms/step - loss: 93238763520.0000 - val_loss: 89148071936.0000\n",
            "Epoch 979/1000\n",
            "4/4 [==============================] - 0s 13ms/step - loss: 93238763520.0000 - val_loss: 89148063744.0000\n",
            "Epoch 980/1000\n",
            "4/4 [==============================] - 0s 23ms/step - loss: 93238763520.0000 - val_loss: 89148063744.0000\n",
            "Epoch 981/1000\n",
            "4/4 [==============================] - 0s 14ms/step - loss: 93238755328.0000 - val_loss: 89148063744.0000\n",
            "Epoch 982/1000\n",
            "4/4 [==============================] - 0s 13ms/step - loss: 93238755328.0000 - val_loss: 89148055552.0000\n",
            "Epoch 983/1000\n",
            "4/4 [==============================] - 0s 20ms/step - loss: 93238763520.0000 - val_loss: 89148055552.0000\n",
            "Epoch 984/1000\n",
            "4/4 [==============================] - 0s 14ms/step - loss: 93238763520.0000 - val_loss: 89148055552.0000\n",
            "Epoch 985/1000\n",
            "4/4 [==============================] - 0s 14ms/step - loss: 93238747136.0000 - val_loss: 89148055552.0000\n",
            "Epoch 986/1000\n",
            "4/4 [==============================] - 0s 12ms/step - loss: 93238747136.0000 - val_loss: 89148047360.0000\n",
            "Epoch 987/1000\n",
            "4/4 [==============================] - 0s 12ms/step - loss: 93238747136.0000 - val_loss: 89148047360.0000\n",
            "Epoch 988/1000\n",
            "4/4 [==============================] - 0s 12ms/step - loss: 93238747136.0000 - val_loss: 89148047360.0000\n",
            "Epoch 989/1000\n",
            "4/4 [==============================] - 0s 12ms/step - loss: 93238747136.0000 - val_loss: 89148047360.0000\n",
            "Epoch 990/1000\n",
            "4/4 [==============================] - 0s 13ms/step - loss: 93238747136.0000 - val_loss: 89148039168.0000\n",
            "Epoch 991/1000\n",
            "4/4 [==============================] - 0s 10ms/step - loss: 93238747136.0000 - val_loss: 89148039168.0000\n",
            "Epoch 992/1000\n",
            "4/4 [==============================] - 0s 11ms/step - loss: 93238747136.0000 - val_loss: 89148030976.0000\n",
            "Epoch 993/1000\n",
            "4/4 [==============================] - 0s 13ms/step - loss: 93238738944.0000 - val_loss: 89148030976.0000\n",
            "Epoch 994/1000\n",
            "4/4 [==============================] - 0s 13ms/step - loss: 93238722560.0000 - val_loss: 89148022784.0000\n",
            "Epoch 995/1000\n",
            "4/4 [==============================] - 0s 16ms/step - loss: 93238722560.0000 - val_loss: 89148022784.0000\n",
            "Epoch 996/1000\n",
            "4/4 [==============================] - 0s 14ms/step - loss: 93238722560.0000 - val_loss: 89148022784.0000\n",
            "Epoch 997/1000\n",
            "4/4 [==============================] - 0s 12ms/step - loss: 93238722560.0000 - val_loss: 89148022784.0000\n",
            "Epoch 998/1000\n",
            "4/4 [==============================] - 0s 12ms/step - loss: 93238714368.0000 - val_loss: 89148022784.0000\n",
            "Epoch 999/1000\n",
            "4/4 [==============================] - 0s 13ms/step - loss: 93238722560.0000 - val_loss: 89148022784.0000\n",
            "Epoch 1000/1000\n",
            "4/4 [==============================] - 0s 12ms/step - loss: 93238714368.0000 - val_loss: 89148014592.0000\n"
          ]
        },
        {
          "output_type": "execute_result",
          "data": {
            "text/plain": [
              "<keras.callbacks.History at 0x7f78b4b9c650>"
            ]
          },
          "metadata": {},
          "execution_count": 70
        }
      ]
    },
    {
      "cell_type": "code",
      "metadata": {
        "colab": {
          "base_uri": "https://localhost:8080/",
          "height": 293
        },
        "id": "VegbEJFH37YW",
        "outputId": "ddd35147-5819-46e9-a5a0-741685bfb3bb"
      },
      "source": [
        "model_loss=pd.DataFrame(model.history.history)\n",
        "model_loss.plot()"
      ],
      "execution_count": 71,
      "outputs": [
        {
          "output_type": "execute_result",
          "data": {
            "text/plain": [
              "<matplotlib.axes._subplots.AxesSubplot at 0x7f78b1fd4c50>"
            ]
          },
          "metadata": {},
          "execution_count": 71
        },
        {
          "output_type": "display_data",
          "data": {
            "image/png": "[encoded data removed]",
            "text/plain": [
              "<Figure size 432x288 with 1 Axes>"
            ]
          },
          "metadata": {
            "needs_background": "light"
          }
        }
      ]
    },
    {
      "cell_type": "code",
      "metadata": {
        "colab": {
          "base_uri": "https://localhost:8080/",
          "height": 282
        },
        "id": "VhDi3_ks4KbW",
        "outputId": "9db9482a-7242-4a21-9a9c-db399b810707"
      },
      "source": [
        "pred6=model.predict(X_test)\n",
        "sns.scatterplot(x=y_test,y=pred6.flatten())\n",
        "plt.plot(y_test,y_test,'r')"
      ],
      "execution_count": 72,
      "outputs": [
        {
          "output_type": "execute_result",
          "data": {
            "text/plain": [
              "[<matplotlib.lines.Line2D at 0x7f78b4972a90>]"
            ]
          },
          "metadata": {},
          "execution_count": 72
        },
        {
          "output_type": "display_data",
          "data": {
            "image/png": "[encoded data removed]",
            "text/plain": [
              "<Figure size 432x288 with 1 Axes>"
            ]
          },
          "metadata": {
            "needs_background": "light"
          }
        }
      ]
    },
    {
      "cell_type": "code",
      "metadata": {
        "colab": {
          "base_uri": "https://localhost:8080/",
          "height": 346
        },
        "id": "1XOMYLXq4Oz1",
        "outputId": "e7aa076c-2efe-4994-9211-50f6c7cc76f6"
      },
      "source": [
        "sns.distplot((y_test-pred6.flatten()),bins=50)"
      ],
      "execution_count": 73,
      "outputs": [
        {
          "output_type": "stream",
          "name": "stderr",
          "text": [
            "/usr/local/lib/python3.7/dist-packages/seaborn/distributions.py:2557: FutureWarning: `distplot` is a deprecated function and will be removed in a future version. Please adapt your code to use either `displot` (a figure-level function with similar flexibility) or `histplot` (an axes-level function for histograms).\n",
            "  warnings.warn(msg, FutureWarning)\n"
          ]
        },
        {
          "output_type": "execute_result",
          "data": {
            "text/plain": [
              "<matplotlib.axes._subplots.AxesSubplot at 0x7f78b492e210>"
            ]
          },
          "metadata": {},
          "execution_count": 73
        },
        {
          "output_type": "display_data",
          "data": {
            "image/png": "[encoded data removed]",
            "text/plain": [
              "<Figure size 432x288 with 1 Axes>"
            ]
          },
          "metadata": {
            "needs_background": "light"
          }
        }
      ]
    },
    {
      "cell_type": "markdown",
      "metadata": {
        "id": "Ik74UW7W4aGT"
      },
      "source": [
        "# Comparison of two models"
      ]
    },
    {
      "cell_type": "code",
      "metadata": {
        "colab": {
          "base_uri": "https://localhost:8080/",
          "height": 296
        },
        "id": "MUM3d_rq4Wz6",
        "outputId": "06fc3bc1-c10c-4287-f6ef-822fff82e60e"
      },
      "source": [
        "sns.scatterplot(x=y_test,y=pred6.flatten())\n",
        "plt.scatter(x=y_test,y=pred5,c='green',alpha=0.5)\n",
        "plt.xlabel('test set')\n",
        "plt.ylabel('predictions')\n",
        "plt.plot(y_test,y_test,'r')"
      ],
      "execution_count": 74,
      "outputs": [
        {
          "output_type": "execute_result",
          "data": {
            "text/plain": [
              "[<matplotlib.lines.Line2D at 0x7f78b4908fd0>]"
            ]
          },
          "metadata": {},
          "execution_count": 74
        },
        {
          "output_type": "display_data",
          "data": {
            "image/png": "[encoded data removed]",
            "text/plain": [
              "<Figure size 432x288 with 1 Axes>"
            ]
          },
          "metadata": {
            "needs_background": "light"
          }
        }
      ]
    },
    {
      "cell_type": "markdown",
      "metadata": {
        "id": "Nt_C3fGk4hup"
      },
      "source": [
        "\n",
        "The graph shows that both the models are approximately similiar. We will check the Mean Squared Error, Mean Absolute Error and Root Mean Squared Error of both models"
      ]
    },
    {
      "cell_type": "code",
      "metadata": {
        "colab": {
          "base_uri": "https://localhost:8080/"
        },
        "id": "24U1_BJU4eqA",
        "outputId": "22ad2daf-0d00-419c-abc5-500ad47d1c7e"
      },
      "source": [
        "from sklearn.metrics import mean_absolute_error, mean_squared_error\n",
        "print(mean_absolute_error(y_test,pred5))\n",
        "print('\\n')\n",
        "print(mean_absolute_error(y_test,pred6.flatten()))"
      ],
      "execution_count": 75,
      "outputs": [
        {
          "output_type": "stream",
          "name": "stdout",
          "text": [
            "63721.685383592994\n",
            "\n",
            "\n",
            "288040.46549669374\n"
          ]
        }
      ]
    },
    {
      "cell_type": "code",
      "metadata": {
        "colab": {
          "base_uri": "https://localhost:8080/"
        },
        "id": "0veZtELn4mj_",
        "outputId": "ea0b34de-cd0b-44b0-888b-615d7a48403c"
      },
      "source": [
        "print(mean_squared_error(y_test,pred5))\n",
        "print('\\n')\n",
        "print(mean_squared_error(y_test,pred6.flatten()))"
      ],
      "execution_count": 76,
      "outputs": [
        {
          "output_type": "stream",
          "name": "stdout",
          "text": [
            "8103907732.113463\n",
            "\n",
            "\n",
            "89148018087.84694\n"
          ]
        }
      ]
    },
    {
      "cell_type": "code",
      "metadata": {
        "colab": {
          "base_uri": "https://localhost:8080/"
        },
        "id": "L6pC6COM4p63",
        "outputId": "cee45b3e-61fb-4dd5-b2b4-aa2379d85334"
      },
      "source": [
        "print(np.sqrt(mean_squared_error(y_test,pred5)))\n",
        "print('\\n')\n",
        "print(np.sqrt(mean_squared_error(y_test,pred6.flatten())))"
      ],
      "execution_count": 77,
      "outputs": [
        {
          "output_type": "stream",
          "name": "stdout",
          "text": [
            "90021.70700510773\n",
            "\n",
            "\n",
            "298576.6536215565\n"
          ]
        }
      ]
    },
    {
      "cell_type": "markdown",
      "metadata": {
        "id": "eUF9jqKP4xP6"
      },
      "source": [
        "\n",
        "The errors is less in the neural network model so it is better than linear regression, but as the error is too big in both the models, none of them are very goo"
      ]
    },
    {
      "cell_type": "code",
      "metadata": {
        "id": "VIfhCRhW4tn1"
      },
      "source": [
        ""
      ],
      "execution_count": null,
      "outputs": []
    }
  ]
}